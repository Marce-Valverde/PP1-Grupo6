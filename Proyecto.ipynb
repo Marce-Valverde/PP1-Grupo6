{
 "cells": [
  {
   "cell_type": "markdown",
   "id": "0d92e549-9ee1-494d-b2a7-19ff3b541701",
   "metadata": {},
   "source": [
    "Se importan las librerías que vamos a utilizar."
   ]
  },
  {
   "cell_type": "code",
   "execution_count": 167,
   "id": "c2bc3381-a055-4de3-88eb-dca2f898816e",
   "metadata": {
    "tags": []
   },
   "outputs": [],
   "source": [
    "import pandas as pd\n",
    "import numpy as np\n",
    "import matplotlib.pyplot as plt\n",
    "import seaborn as sns"
   ]
  },
  {
   "cell_type": "markdown",
   "id": "62d910b5",
   "metadata": {},
   "source": [
    "# **Carga de set de datos**"
   ]
  },
  {
   "cell_type": "markdown",
   "id": "57efa701-d17f-4328-81a4-61bdc012ecff",
   "metadata": {},
   "source": [
    "Se cargan los archivos del set de datos."
   ]
  },
  {
   "cell_type": "code",
   "execution_count": 168,
   "id": "3d60f8bf-c20b-475f-b6ca-357a49055614",
   "metadata": {
    "tags": []
   },
   "outputs": [],
   "source": [
    "trata = pd.read_excel('set-de-datos/data_glotip.xlsx') #Lectura de Archivo"
   ]
  },
  {
   "cell_type": "markdown",
   "id": "134b02d2-99d5-45a8-a22a-b24e8a72564b",
   "metadata": {},
   "source": [
    "Informacion del dataframe."
   ]
  },
  {
   "cell_type": "code",
   "execution_count": 59,
   "id": "422e525a-75ad-41f0-a12f-4dcc2926e83d",
   "metadata": {
    "tags": []
   },
   "outputs": [
    {
     "name": "stdout",
     "output_type": "stream",
     "text": [
      "<class 'pandas.core.frame.DataFrame'>\n",
      "RangeIndex: 46558 entries, 0 to 46557\n",
      "Data columns (total 13 columns):\n",
      " #   Column             Non-Null Count  Dtype \n",
      "---  ------             --------------  ----- \n",
      " 0   UNODC              46532 non-null  object\n",
      " 1   unodc_ddds@un.org  45600 non-null  object\n",
      " 2   Unnamed: 2         45600 non-null  object\n",
      " 3   Unnamed: 3         45600 non-null  object\n",
      " 4   Unnamed: 4         46557 non-null  object\n",
      " 5   Unnamed: 5         46557 non-null  object\n",
      " 6   Unnamed: 6         46470 non-null  object\n",
      " 7   Unnamed: 7         46557 non-null  object\n",
      " 8   Unnamed: 8         46557 non-null  object\n",
      " 9   Unnamed: 9         46557 non-null  object\n",
      " 10  Unnamed: 10        46557 non-null  object\n",
      " 11  Unnamed: 11        46557 non-null  object\n",
      " 12  Unnamed: 12        46557 non-null  object\n",
      "dtypes: object(13)\n",
      "memory usage: 4.6+ MB\n"
     ]
    }
   ],
   "source": [
    "trata.info()"
   ]
  },
  {
   "cell_type": "markdown",
   "id": "2837fbb8-980c-47c1-ae76-48002c26682b",
   "metadata": {},
   "source": [
    "Se realiza vista previa del dataframe."
   ]
  },
  {
   "cell_type": "code",
   "execution_count": 169,
   "id": "2b1f7c16-b426-46f0-a3fe-5ec1b0aed953",
   "metadata": {
    "tags": []
   },
   "outputs": [
    {
     "data": {
      "text/html": [
       "<div>\n",
       "<style scoped>\n",
       "    .dataframe tbody tr th:only-of-type {\n",
       "        vertical-align: middle;\n",
       "    }\n",
       "\n",
       "    .dataframe tbody tr th {\n",
       "        vertical-align: top;\n",
       "    }\n",
       "\n",
       "    .dataframe thead th {\n",
       "        text-align: right;\n",
       "    }\n",
       "</style>\n",
       "<table border=\"1\" class=\"dataframe\">\n",
       "  <thead>\n",
       "    <tr style=\"text-align: right;\">\n",
       "      <th></th>\n",
       "      <th>UNODC</th>\n",
       "      <th>unodc_ddds@un.org</th>\n",
       "      <th>Unnamed: 2</th>\n",
       "      <th>Unnamed: 3</th>\n",
       "      <th>Unnamed: 4</th>\n",
       "      <th>Unnamed: 5</th>\n",
       "      <th>Unnamed: 6</th>\n",
       "      <th>Unnamed: 7</th>\n",
       "      <th>Unnamed: 8</th>\n",
       "      <th>Unnamed: 9</th>\n",
       "      <th>Unnamed: 10</th>\n",
       "      <th>Unnamed: 11</th>\n",
       "      <th>Unnamed: 12</th>\n",
       "    </tr>\n",
       "  </thead>\n",
       "  <tbody>\n",
       "    <tr>\n",
       "      <th>0</th>\n",
       "      <td>30/05/2023</td>\n",
       "      <td>NaN</td>\n",
       "      <td>NaN</td>\n",
       "      <td>NaN</td>\n",
       "      <td>NaN</td>\n",
       "      <td>NaN</td>\n",
       "      <td>NaN</td>\n",
       "      <td>NaN</td>\n",
       "      <td>NaN</td>\n",
       "      <td>NaN</td>\n",
       "      <td>NaN</td>\n",
       "      <td>NaN</td>\n",
       "      <td>NaN</td>\n",
       "    </tr>\n",
       "    <tr>\n",
       "      <th>1</th>\n",
       "      <td>Iso3_code</td>\n",
       "      <td>Country</td>\n",
       "      <td>Region</td>\n",
       "      <td>Subregion</td>\n",
       "      <td>Indicator</td>\n",
       "      <td>Dimension</td>\n",
       "      <td>Category</td>\n",
       "      <td>Sex</td>\n",
       "      <td>Age</td>\n",
       "      <td>Year</td>\n",
       "      <td>Unit of measurement</td>\n",
       "      <td>txtVALUE</td>\n",
       "      <td>Source</td>\n",
       "    </tr>\n",
       "    <tr>\n",
       "      <th>2</th>\n",
       "      <td>ABW</td>\n",
       "      <td>Aruba</td>\n",
       "      <td>Americas</td>\n",
       "      <td>Latin America and the Caribbean</td>\n",
       "      <td>Detected trafficking victims</td>\n",
       "      <td>by country of repatriation</td>\n",
       "      <td>Ukraine</td>\n",
       "      <td>Total</td>\n",
       "      <td>Total</td>\n",
       "      <td>2010</td>\n",
       "      <td>Counts</td>\n",
       "      <td>&lt;5</td>\n",
       "      <td>GLOTIP</td>\n",
       "    </tr>\n",
       "    <tr>\n",
       "      <th>3</th>\n",
       "      <td>AFG</td>\n",
       "      <td>Afghanistan</td>\n",
       "      <td>Asia</td>\n",
       "      <td>Southern Asia</td>\n",
       "      <td>Detected trafficking victims</td>\n",
       "      <td>by country of repatriation</td>\n",
       "      <td>Abroad</td>\n",
       "      <td>Total</td>\n",
       "      <td>Total</td>\n",
       "      <td>2003</td>\n",
       "      <td>Counts</td>\n",
       "      <td>&lt;5</td>\n",
       "      <td>GLOTIP</td>\n",
       "    </tr>\n",
       "    <tr>\n",
       "      <th>4</th>\n",
       "      <td>AFG</td>\n",
       "      <td>Afghanistan</td>\n",
       "      <td>Asia</td>\n",
       "      <td>Southern Asia</td>\n",
       "      <td>Detected trafficking victims</td>\n",
       "      <td>by country of repatriation</td>\n",
       "      <td>Abroad</td>\n",
       "      <td>Total</td>\n",
       "      <td>Total</td>\n",
       "      <td>2008</td>\n",
       "      <td>Counts</td>\n",
       "      <td>&lt;5</td>\n",
       "      <td>GLOTIP</td>\n",
       "    </tr>\n",
       "  </tbody>\n",
       "</table>\n",
       "</div>"
      ],
      "text/plain": [
       "        UNODC unodc_ddds@un.org Unnamed: 2                       Unnamed: 3  \\\n",
       "0  30/05/2023               NaN        NaN                              NaN   \n",
       "1   Iso3_code           Country     Region                        Subregion   \n",
       "2         ABW             Aruba   Americas  Latin America and the Caribbean   \n",
       "3         AFG       Afghanistan       Asia                    Southern Asia   \n",
       "4         AFG       Afghanistan       Asia                    Southern Asia   \n",
       "\n",
       "                     Unnamed: 4                  Unnamed: 5 Unnamed: 6  \\\n",
       "0                           NaN                         NaN        NaN   \n",
       "1                     Indicator                   Dimension   Category   \n",
       "2  Detected trafficking victims  by country of repatriation    Ukraine   \n",
       "3  Detected trafficking victims  by country of repatriation     Abroad   \n",
       "4  Detected trafficking victims  by country of repatriation     Abroad   \n",
       "\n",
       "  Unnamed: 7 Unnamed: 8 Unnamed: 9          Unnamed: 10 Unnamed: 11  \\\n",
       "0        NaN        NaN        NaN                  NaN         NaN   \n",
       "1        Sex        Age       Year  Unit of measurement    txtVALUE   \n",
       "2      Total      Total       2010               Counts          <5   \n",
       "3      Total      Total       2003               Counts          <5   \n",
       "4      Total      Total       2008               Counts          <5   \n",
       "\n",
       "  Unnamed: 12  \n",
       "0         NaN  \n",
       "1      Source  \n",
       "2      GLOTIP  \n",
       "3      GLOTIP  \n",
       "4      GLOTIP  "
      ]
     },
     "execution_count": 169,
     "metadata": {},
     "output_type": "execute_result"
    }
   ],
   "source": [
    "trata.head()"
   ]
  },
  {
   "cell_type": "markdown",
   "id": "391d5b70-7ab7-451b-a5d7-828e9b6af416",
   "metadata": {},
   "source": [
    "Elimino el primer y segundo registro que son irrelevantes."
   ]
  },
  {
   "cell_type": "code",
   "execution_count": 170,
   "id": "fcee9cc7-b063-4296-aca5-d325de84fbb2",
   "metadata": {
    "tags": []
   },
   "outputs": [
    {
     "data": {
      "text/html": [
       "<div>\n",
       "<style scoped>\n",
       "    .dataframe tbody tr th:only-of-type {\n",
       "        vertical-align: middle;\n",
       "    }\n",
       "\n",
       "    .dataframe tbody tr th {\n",
       "        vertical-align: top;\n",
       "    }\n",
       "\n",
       "    .dataframe thead th {\n",
       "        text-align: right;\n",
       "    }\n",
       "</style>\n",
       "<table border=\"1\" class=\"dataframe\">\n",
       "  <thead>\n",
       "    <tr style=\"text-align: right;\">\n",
       "      <th></th>\n",
       "      <th>UNODC</th>\n",
       "      <th>unodc_ddds@un.org</th>\n",
       "      <th>Unnamed: 2</th>\n",
       "      <th>Unnamed: 3</th>\n",
       "      <th>Unnamed: 4</th>\n",
       "      <th>Unnamed: 5</th>\n",
       "      <th>Unnamed: 6</th>\n",
       "      <th>Unnamed: 7</th>\n",
       "      <th>Unnamed: 8</th>\n",
       "      <th>Unnamed: 9</th>\n",
       "      <th>Unnamed: 10</th>\n",
       "      <th>Unnamed: 11</th>\n",
       "      <th>Unnamed: 12</th>\n",
       "    </tr>\n",
       "  </thead>\n",
       "  <tbody>\n",
       "    <tr>\n",
       "      <th>2</th>\n",
       "      <td>ABW</td>\n",
       "      <td>Aruba</td>\n",
       "      <td>Americas</td>\n",
       "      <td>Latin America and the Caribbean</td>\n",
       "      <td>Detected trafficking victims</td>\n",
       "      <td>by country of repatriation</td>\n",
       "      <td>Ukraine</td>\n",
       "      <td>Total</td>\n",
       "      <td>Total</td>\n",
       "      <td>2010</td>\n",
       "      <td>Counts</td>\n",
       "      <td>&lt;5</td>\n",
       "      <td>GLOTIP</td>\n",
       "    </tr>\n",
       "    <tr>\n",
       "      <th>3</th>\n",
       "      <td>AFG</td>\n",
       "      <td>Afghanistan</td>\n",
       "      <td>Asia</td>\n",
       "      <td>Southern Asia</td>\n",
       "      <td>Detected trafficking victims</td>\n",
       "      <td>by country of repatriation</td>\n",
       "      <td>Abroad</td>\n",
       "      <td>Total</td>\n",
       "      <td>Total</td>\n",
       "      <td>2003</td>\n",
       "      <td>Counts</td>\n",
       "      <td>&lt;5</td>\n",
       "      <td>GLOTIP</td>\n",
       "    </tr>\n",
       "    <tr>\n",
       "      <th>4</th>\n",
       "      <td>AFG</td>\n",
       "      <td>Afghanistan</td>\n",
       "      <td>Asia</td>\n",
       "      <td>Southern Asia</td>\n",
       "      <td>Detected trafficking victims</td>\n",
       "      <td>by country of repatriation</td>\n",
       "      <td>Abroad</td>\n",
       "      <td>Total</td>\n",
       "      <td>Total</td>\n",
       "      <td>2008</td>\n",
       "      <td>Counts</td>\n",
       "      <td>&lt;5</td>\n",
       "      <td>GLOTIP</td>\n",
       "    </tr>\n",
       "    <tr>\n",
       "      <th>5</th>\n",
       "      <td>AFG</td>\n",
       "      <td>Afghanistan</td>\n",
       "      <td>Asia</td>\n",
       "      <td>Southern Asia</td>\n",
       "      <td>Offences of trafficking in persons</td>\n",
       "      <td>Total</td>\n",
       "      <td>Total</td>\n",
       "      <td>Total</td>\n",
       "      <td>Total</td>\n",
       "      <td>2013</td>\n",
       "      <td>Counts</td>\n",
       "      <td>103</td>\n",
       "      <td>GLOTIP</td>\n",
       "    </tr>\n",
       "    <tr>\n",
       "      <th>6</th>\n",
       "      <td>AFG</td>\n",
       "      <td>Afghanistan</td>\n",
       "      <td>Asia</td>\n",
       "      <td>Southern Asia</td>\n",
       "      <td>Persons brought into formal contact</td>\n",
       "      <td>Total</td>\n",
       "      <td>Total</td>\n",
       "      <td>Total</td>\n",
       "      <td>Total</td>\n",
       "      <td>2013</td>\n",
       "      <td>Counts</td>\n",
       "      <td>167</td>\n",
       "      <td>GLOTIP</td>\n",
       "    </tr>\n",
       "  </tbody>\n",
       "</table>\n",
       "</div>"
      ],
      "text/plain": [
       "  UNODC unodc_ddds@un.org Unnamed: 2                       Unnamed: 3  \\\n",
       "2   ABW             Aruba   Americas  Latin America and the Caribbean   \n",
       "3   AFG       Afghanistan       Asia                    Southern Asia   \n",
       "4   AFG       Afghanistan       Asia                    Southern Asia   \n",
       "5   AFG       Afghanistan       Asia                    Southern Asia   \n",
       "6   AFG       Afghanistan       Asia                    Southern Asia   \n",
       "\n",
       "                            Unnamed: 4                  Unnamed: 5 Unnamed: 6  \\\n",
       "2         Detected trafficking victims  by country of repatriation    Ukraine   \n",
       "3         Detected trafficking victims  by country of repatriation     Abroad   \n",
       "4         Detected trafficking victims  by country of repatriation     Abroad   \n",
       "5   Offences of trafficking in persons                       Total      Total   \n",
       "6  Persons brought into formal contact                       Total      Total   \n",
       "\n",
       "  Unnamed: 7 Unnamed: 8 Unnamed: 9 Unnamed: 10 Unnamed: 11 Unnamed: 12  \n",
       "2      Total      Total       2010      Counts          <5      GLOTIP  \n",
       "3      Total      Total       2003      Counts          <5      GLOTIP  \n",
       "4      Total      Total       2008      Counts          <5      GLOTIP  \n",
       "5      Total      Total       2013      Counts         103      GLOTIP  \n",
       "6      Total      Total       2013      Counts         167      GLOTIP  "
      ]
     },
     "execution_count": 170,
     "metadata": {},
     "output_type": "execute_result"
    }
   ],
   "source": [
    "trata = trata.drop(0)\n",
    "trata = trata.drop(1)\n",
    "\n",
    "trata.head()"
   ]
  },
  {
   "cell_type": "markdown",
   "id": "06116e07-e1f0-41f5-a2ae-eaaf7f0af9f8",
   "metadata": {},
   "source": [
    "Renombre de columnas."
   ]
  },
  {
   "cell_type": "code",
   "execution_count": 171,
   "id": "28cf4b8a-192f-45e1-9b01-2f4b4658bfe2",
   "metadata": {
    "tags": []
   },
   "outputs": [
    {
     "data": {
      "text/html": [
       "<div>\n",
       "<style scoped>\n",
       "    .dataframe tbody tr th:only-of-type {\n",
       "        vertical-align: middle;\n",
       "    }\n",
       "\n",
       "    .dataframe tbody tr th {\n",
       "        vertical-align: top;\n",
       "    }\n",
       "\n",
       "    .dataframe thead th {\n",
       "        text-align: right;\n",
       "    }\n",
       "</style>\n",
       "<table border=\"1\" class=\"dataframe\">\n",
       "  <thead>\n",
       "    <tr style=\"text-align: right;\">\n",
       "      <th></th>\n",
       "      <th>Code</th>\n",
       "      <th>Country</th>\n",
       "      <th>Region</th>\n",
       "      <th>Subregion</th>\n",
       "      <th>Indicador</th>\n",
       "      <th>Dimension</th>\n",
       "      <th>Category</th>\n",
       "      <th>Sex</th>\n",
       "      <th>Age</th>\n",
       "      <th>Year</th>\n",
       "      <th>Unidad medida</th>\n",
       "      <th>Value</th>\n",
       "      <th>Source</th>\n",
       "    </tr>\n",
       "  </thead>\n",
       "  <tbody>\n",
       "    <tr>\n",
       "      <th>2</th>\n",
       "      <td>ABW</td>\n",
       "      <td>Aruba</td>\n",
       "      <td>Americas</td>\n",
       "      <td>Latin America and the Caribbean</td>\n",
       "      <td>Detected trafficking victims</td>\n",
       "      <td>by country of repatriation</td>\n",
       "      <td>Ukraine</td>\n",
       "      <td>Total</td>\n",
       "      <td>Total</td>\n",
       "      <td>2010</td>\n",
       "      <td>Counts</td>\n",
       "      <td>&lt;5</td>\n",
       "      <td>GLOTIP</td>\n",
       "    </tr>\n",
       "    <tr>\n",
       "      <th>3</th>\n",
       "      <td>AFG</td>\n",
       "      <td>Afghanistan</td>\n",
       "      <td>Asia</td>\n",
       "      <td>Southern Asia</td>\n",
       "      <td>Detected trafficking victims</td>\n",
       "      <td>by country of repatriation</td>\n",
       "      <td>Abroad</td>\n",
       "      <td>Total</td>\n",
       "      <td>Total</td>\n",
       "      <td>2003</td>\n",
       "      <td>Counts</td>\n",
       "      <td>&lt;5</td>\n",
       "      <td>GLOTIP</td>\n",
       "    </tr>\n",
       "    <tr>\n",
       "      <th>4</th>\n",
       "      <td>AFG</td>\n",
       "      <td>Afghanistan</td>\n",
       "      <td>Asia</td>\n",
       "      <td>Southern Asia</td>\n",
       "      <td>Detected trafficking victims</td>\n",
       "      <td>by country of repatriation</td>\n",
       "      <td>Abroad</td>\n",
       "      <td>Total</td>\n",
       "      <td>Total</td>\n",
       "      <td>2008</td>\n",
       "      <td>Counts</td>\n",
       "      <td>&lt;5</td>\n",
       "      <td>GLOTIP</td>\n",
       "    </tr>\n",
       "    <tr>\n",
       "      <th>5</th>\n",
       "      <td>AFG</td>\n",
       "      <td>Afghanistan</td>\n",
       "      <td>Asia</td>\n",
       "      <td>Southern Asia</td>\n",
       "      <td>Offences of trafficking in persons</td>\n",
       "      <td>Total</td>\n",
       "      <td>Total</td>\n",
       "      <td>Total</td>\n",
       "      <td>Total</td>\n",
       "      <td>2013</td>\n",
       "      <td>Counts</td>\n",
       "      <td>103</td>\n",
       "      <td>GLOTIP</td>\n",
       "    </tr>\n",
       "    <tr>\n",
       "      <th>6</th>\n",
       "      <td>AFG</td>\n",
       "      <td>Afghanistan</td>\n",
       "      <td>Asia</td>\n",
       "      <td>Southern Asia</td>\n",
       "      <td>Persons brought into formal contact</td>\n",
       "      <td>Total</td>\n",
       "      <td>Total</td>\n",
       "      <td>Total</td>\n",
       "      <td>Total</td>\n",
       "      <td>2013</td>\n",
       "      <td>Counts</td>\n",
       "      <td>167</td>\n",
       "      <td>GLOTIP</td>\n",
       "    </tr>\n",
       "  </tbody>\n",
       "</table>\n",
       "</div>"
      ],
      "text/plain": [
       "  Code      Country    Region                        Subregion  \\\n",
       "2  ABW        Aruba  Americas  Latin America and the Caribbean   \n",
       "3  AFG  Afghanistan      Asia                    Southern Asia   \n",
       "4  AFG  Afghanistan      Asia                    Southern Asia   \n",
       "5  AFG  Afghanistan      Asia                    Southern Asia   \n",
       "6  AFG  Afghanistan      Asia                    Southern Asia   \n",
       "\n",
       "                             Indicador                   Dimension Category  \\\n",
       "2         Detected trafficking victims  by country of repatriation  Ukraine   \n",
       "3         Detected trafficking victims  by country of repatriation   Abroad   \n",
       "4         Detected trafficking victims  by country of repatriation   Abroad   \n",
       "5   Offences of trafficking in persons                       Total    Total   \n",
       "6  Persons brought into formal contact                       Total    Total   \n",
       "\n",
       "     Sex    Age  Year Unidad medida Value  Source  \n",
       "2  Total  Total  2010        Counts    <5  GLOTIP  \n",
       "3  Total  Total  2003        Counts    <5  GLOTIP  \n",
       "4  Total  Total  2008        Counts    <5  GLOTIP  \n",
       "5  Total  Total  2013        Counts   103  GLOTIP  \n",
       "6  Total  Total  2013        Counts   167  GLOTIP  "
      ]
     },
     "execution_count": 171,
     "metadata": {},
     "output_type": "execute_result"
    }
   ],
   "source": [
    "trata.rename(columns={'UNODC': 'Code', 'unodc_ddds@un.org': 'Country', 'Unnamed: 2': 'Region', 'Unnamed: 3': 'Subregion', 'Unnamed: 4': 'Indicador', 'Unnamed: 5': 'Dimension', 'Unnamed: 6': 'Category', 'Unnamed: 7': 'Sex', 'Unnamed: 8': 'Age', 'Unnamed: 9': 'Year', 'Unnamed: 10': 'Unidad medida', 'Unnamed: 11': 'Value',  'Unnamed: 12': 'Source'}, inplace=True)\n",
    "trata.head()"
   ]
  },
  {
   "cell_type": "code",
   "execution_count": 172,
   "id": "6c88d762",
   "metadata": {},
   "outputs": [
    {
     "name": "stdout",
     "output_type": "stream",
     "text": [
      "<class 'pandas.core.frame.DataFrame'>\n",
      "RangeIndex: 46556 entries, 2 to 46557\n",
      "Data columns (total 13 columns):\n",
      " #   Column         Non-Null Count  Dtype \n",
      "---  ------         --------------  ----- \n",
      " 0   Code           46530 non-null  object\n",
      " 1   Country        45599 non-null  object\n",
      " 2   Region         45599 non-null  object\n",
      " 3   Subregion      45599 non-null  object\n",
      " 4   Indicador      46556 non-null  object\n",
      " 5   Dimension      46556 non-null  object\n",
      " 6   Category       46469 non-null  object\n",
      " 7   Sex            46556 non-null  object\n",
      " 8   Age            46556 non-null  object\n",
      " 9   Year           46556 non-null  object\n",
      " 10  Unidad medida  46556 non-null  object\n",
      " 11  Value          46556 non-null  object\n",
      " 12  Source         46556 non-null  object\n",
      "dtypes: object(13)\n",
      "memory usage: 4.6+ MB\n"
     ]
    }
   ],
   "source": [
    "trata.info()"
   ]
  },
  {
   "cell_type": "code",
   "execution_count": 173,
   "id": "e7de9060",
   "metadata": {},
   "outputs": [
    {
     "data": {
      "text/html": [
       "<div>\n",
       "<style scoped>\n",
       "    .dataframe tbody tr th:only-of-type {\n",
       "        vertical-align: middle;\n",
       "    }\n",
       "\n",
       "    .dataframe tbody tr th {\n",
       "        vertical-align: top;\n",
       "    }\n",
       "\n",
       "    .dataframe thead th {\n",
       "        text-align: right;\n",
       "    }\n",
       "</style>\n",
       "<table border=\"1\" class=\"dataframe\">\n",
       "  <thead>\n",
       "    <tr style=\"text-align: right;\">\n",
       "      <th></th>\n",
       "      <th>Code</th>\n",
       "      <th>Country</th>\n",
       "      <th>Region</th>\n",
       "      <th>Subregion</th>\n",
       "      <th>Indicador</th>\n",
       "      <th>Dimension</th>\n",
       "      <th>Category</th>\n",
       "      <th>Sex</th>\n",
       "      <th>Age</th>\n",
       "      <th>Year</th>\n",
       "      <th>Unidad medida</th>\n",
       "      <th>Value</th>\n",
       "      <th>Source</th>\n",
       "    </tr>\n",
       "  </thead>\n",
       "  <tbody>\n",
       "    <tr>\n",
       "      <th>count</th>\n",
       "      <td>46530</td>\n",
       "      <td>45599</td>\n",
       "      <td>45599</td>\n",
       "      <td>45599</td>\n",
       "      <td>46556</td>\n",
       "      <td>46556</td>\n",
       "      <td>46469</td>\n",
       "      <td>46556</td>\n",
       "      <td>46556</td>\n",
       "      <td>46556</td>\n",
       "      <td>46556</td>\n",
       "      <td>46556</td>\n",
       "      <td>46556</td>\n",
       "    </tr>\n",
       "    <tr>\n",
       "      <th>unique</th>\n",
       "      <td>207</td>\n",
       "      <td>200</td>\n",
       "      <td>5</td>\n",
       "      <td>17</td>\n",
       "      <td>5</td>\n",
       "      <td>4</td>\n",
       "      <td>435</td>\n",
       "      <td>5</td>\n",
       "      <td>4</td>\n",
       "      <td>19</td>\n",
       "      <td>1</td>\n",
       "      <td>1250</td>\n",
       "      <td>1</td>\n",
       "    </tr>\n",
       "    <tr>\n",
       "      <th>top</th>\n",
       "      <td>NLD</td>\n",
       "      <td>Netherlands</td>\n",
       "      <td>Europe</td>\n",
       "      <td>Latin America and the Caribbean</td>\n",
       "      <td>Detected trafficking victims</td>\n",
       "      <td>Total</td>\n",
       "      <td>Total</td>\n",
       "      <td>Total</td>\n",
       "      <td>Total</td>\n",
       "      <td>2018</td>\n",
       "      <td>Counts</td>\n",
       "      <td>&lt;5</td>\n",
       "      <td>GLOTIP</td>\n",
       "    </tr>\n",
       "    <tr>\n",
       "      <th>freq</th>\n",
       "      <td>1094</td>\n",
       "      <td>1094</td>\n",
       "      <td>18415</td>\n",
       "      <td>7896</td>\n",
       "      <td>32364</td>\n",
       "      <td>23802</td>\n",
       "      <td>23802</td>\n",
       "      <td>26824</td>\n",
       "      <td>26647</td>\n",
       "      <td>6407</td>\n",
       "      <td>46556</td>\n",
       "      <td>23076</td>\n",
       "      <td>46556</td>\n",
       "    </tr>\n",
       "  </tbody>\n",
       "</table>\n",
       "</div>"
      ],
      "text/plain": [
       "         Code      Country  Region                        Subregion  \\\n",
       "count   46530        45599   45599                            45599   \n",
       "unique    207          200       5                               17   \n",
       "top       NLD  Netherlands  Europe  Latin America and the Caribbean   \n",
       "freq     1094         1094   18415                             7896   \n",
       "\n",
       "                           Indicador Dimension Category    Sex    Age   Year  \\\n",
       "count                          46556     46556    46469  46556  46556  46556   \n",
       "unique                             5         4      435      5      4     19   \n",
       "top     Detected trafficking victims     Total    Total  Total  Total   2018   \n",
       "freq                           32364     23802    23802  26824  26647   6407   \n",
       "\n",
       "       Unidad medida  Value  Source  \n",
       "count          46556  46556   46556  \n",
       "unique             1   1250       1  \n",
       "top           Counts     <5  GLOTIP  \n",
       "freq           46556  23076   46556  "
      ]
     },
     "execution_count": 173,
     "metadata": {},
     "output_type": "execute_result"
    }
   ],
   "source": [
    "trata.describe()"
   ]
  },
  {
   "cell_type": "markdown",
   "id": "6854bf85",
   "metadata": {},
   "source": [
    "Limpieza de datos"
   ]
  },
  {
   "cell_type": "markdown",
   "id": "b7c71f76",
   "metadata": {},
   "source": [
    "Se agregan y remplazan códigos de país."
   ]
  },
  {
   "cell_type": "code",
   "execution_count": 174,
   "id": "0519b313",
   "metadata": {},
   "outputs": [
    {
     "data": {
      "text/html": [
       "<div>\n",
       "<style scoped>\n",
       "    .dataframe tbody tr th:only-of-type {\n",
       "        vertical-align: middle;\n",
       "    }\n",
       "\n",
       "    .dataframe tbody tr th {\n",
       "        vertical-align: top;\n",
       "    }\n",
       "\n",
       "    .dataframe thead th {\n",
       "        text-align: right;\n",
       "    }\n",
       "</style>\n",
       "<table border=\"1\" class=\"dataframe\">\n",
       "  <thead>\n",
       "    <tr style=\"text-align: right;\">\n",
       "      <th></th>\n",
       "      <th>Code</th>\n",
       "      <th>Country</th>\n",
       "      <th>Region</th>\n",
       "      <th>Subregion</th>\n",
       "      <th>Indicador</th>\n",
       "      <th>Dimension</th>\n",
       "      <th>Category</th>\n",
       "      <th>Sex</th>\n",
       "      <th>Age</th>\n",
       "      <th>Year</th>\n",
       "      <th>Unidad medida</th>\n",
       "      <th>Value</th>\n",
       "      <th>Source</th>\n",
       "    </tr>\n",
       "  </thead>\n",
       "  <tbody>\n",
       "    <tr>\n",
       "      <th>37753</th>\n",
       "      <td>CRQ</td>\n",
       "      <td>Sark</td>\n",
       "      <td>Europe</td>\n",
       "      <td>Northern Europe</td>\n",
       "      <td>Detected trafficking victims</td>\n",
       "      <td>Total</td>\n",
       "      <td>Total</td>\n",
       "      <td>Female</td>\n",
       "      <td>0 to 17 years</td>\n",
       "      <td>2017</td>\n",
       "      <td>Counts</td>\n",
       "      <td>&lt;5</td>\n",
       "      <td>GLOTIP</td>\n",
       "    </tr>\n",
       "    <tr>\n",
       "      <th>37754</th>\n",
       "      <td>CRQ</td>\n",
       "      <td>Sark</td>\n",
       "      <td>Europe</td>\n",
       "      <td>Northern Europe</td>\n",
       "      <td>Detected trafficking victims</td>\n",
       "      <td>Total</td>\n",
       "      <td>Total</td>\n",
       "      <td>Female</td>\n",
       "      <td>0 to 17 years</td>\n",
       "      <td>2018</td>\n",
       "      <td>Counts</td>\n",
       "      <td>&lt;5</td>\n",
       "      <td>GLOTIP</td>\n",
       "    </tr>\n",
       "    <tr>\n",
       "      <th>37755</th>\n",
       "      <td>CRQ</td>\n",
       "      <td>Sark</td>\n",
       "      <td>Europe</td>\n",
       "      <td>Northern Europe</td>\n",
       "      <td>Detected trafficking victims</td>\n",
       "      <td>Total</td>\n",
       "      <td>Total</td>\n",
       "      <td>Female</td>\n",
       "      <td>18 years or over</td>\n",
       "      <td>2018</td>\n",
       "      <td>Counts</td>\n",
       "      <td>&lt;5</td>\n",
       "      <td>GLOTIP</td>\n",
       "    </tr>\n",
       "    <tr>\n",
       "      <th>37756</th>\n",
       "      <td>CRQ</td>\n",
       "      <td>Sark</td>\n",
       "      <td>Europe</td>\n",
       "      <td>Northern Europe</td>\n",
       "      <td>Detected trafficking victims</td>\n",
       "      <td>Total</td>\n",
       "      <td>Total</td>\n",
       "      <td>Male</td>\n",
       "      <td>0 to 17 years</td>\n",
       "      <td>2018</td>\n",
       "      <td>Counts</td>\n",
       "      <td>&lt;5</td>\n",
       "      <td>GLOTIP</td>\n",
       "    </tr>\n",
       "    <tr>\n",
       "      <th>37757</th>\n",
       "      <td>CRQ</td>\n",
       "      <td>Sark</td>\n",
       "      <td>Europe</td>\n",
       "      <td>Northern Europe</td>\n",
       "      <td>Detected trafficking victims</td>\n",
       "      <td>by form of exploitation</td>\n",
       "      <td>Sexual exploitation</td>\n",
       "      <td>Male</td>\n",
       "      <td>18 years or over</td>\n",
       "      <td>2018</td>\n",
       "      <td>Counts</td>\n",
       "      <td>&lt;5</td>\n",
       "      <td>GLOTIP</td>\n",
       "    </tr>\n",
       "    <tr>\n",
       "      <th>37758</th>\n",
       "      <td>CRQ</td>\n",
       "      <td>Sark</td>\n",
       "      <td>Europe</td>\n",
       "      <td>Northern Europe</td>\n",
       "      <td>Detected trafficking victims</td>\n",
       "      <td>Total</td>\n",
       "      <td>Total</td>\n",
       "      <td>Female</td>\n",
       "      <td>0 to 17 years</td>\n",
       "      <td>2019</td>\n",
       "      <td>Counts</td>\n",
       "      <td>&lt;5</td>\n",
       "      <td>GLOTIP</td>\n",
       "    </tr>\n",
       "    <tr>\n",
       "      <th>37759</th>\n",
       "      <td>CRQ</td>\n",
       "      <td>Sark</td>\n",
       "      <td>Europe</td>\n",
       "      <td>Northern Europe</td>\n",
       "      <td>Detected trafficking victims</td>\n",
       "      <td>Total</td>\n",
       "      <td>Total</td>\n",
       "      <td>Male</td>\n",
       "      <td>0 to 17 years</td>\n",
       "      <td>2019</td>\n",
       "      <td>Counts</td>\n",
       "      <td>&lt;5</td>\n",
       "      <td>GLOTIP</td>\n",
       "    </tr>\n",
       "    <tr>\n",
       "      <th>37760</th>\n",
       "      <td>CRQ</td>\n",
       "      <td>Sark</td>\n",
       "      <td>Europe</td>\n",
       "      <td>Northern Europe</td>\n",
       "      <td>Detected trafficking victims</td>\n",
       "      <td>by form of exploitation</td>\n",
       "      <td>Sexual exploitation</td>\n",
       "      <td>Male</td>\n",
       "      <td>18 years or over</td>\n",
       "      <td>2019</td>\n",
       "      <td>Counts</td>\n",
       "      <td>&lt;5</td>\n",
       "      <td>GLOTIP</td>\n",
       "    </tr>\n",
       "    <tr>\n",
       "      <th>37761</th>\n",
       "      <td>CRQ</td>\n",
       "      <td>Sark</td>\n",
       "      <td>Europe</td>\n",
       "      <td>Northern Europe</td>\n",
       "      <td>Detected trafficking victims</td>\n",
       "      <td>Total</td>\n",
       "      <td>Total</td>\n",
       "      <td>Female</td>\n",
       "      <td>0 to 17 years</td>\n",
       "      <td>2020</td>\n",
       "      <td>Counts</td>\n",
       "      <td>&lt;5</td>\n",
       "      <td>GLOTIP</td>\n",
       "    </tr>\n",
       "    <tr>\n",
       "      <th>37762</th>\n",
       "      <td>CRQ</td>\n",
       "      <td>Sark</td>\n",
       "      <td>Europe</td>\n",
       "      <td>Northern Europe</td>\n",
       "      <td>Detected trafficking victims</td>\n",
       "      <td>Total</td>\n",
       "      <td>Total</td>\n",
       "      <td>Female</td>\n",
       "      <td>18 years or over</td>\n",
       "      <td>2020</td>\n",
       "      <td>Counts</td>\n",
       "      <td>&lt;5</td>\n",
       "      <td>GLOTIP</td>\n",
       "    </tr>\n",
       "    <tr>\n",
       "      <th>37763</th>\n",
       "      <td>CRQ</td>\n",
       "      <td>Sark</td>\n",
       "      <td>Europe</td>\n",
       "      <td>Northern Europe</td>\n",
       "      <td>Detected trafficking victims</td>\n",
       "      <td>Total</td>\n",
       "      <td>Total</td>\n",
       "      <td>Male</td>\n",
       "      <td>0 to 17 years</td>\n",
       "      <td>2020</td>\n",
       "      <td>Counts</td>\n",
       "      <td>&lt;5</td>\n",
       "      <td>GLOTIP</td>\n",
       "    </tr>\n",
       "    <tr>\n",
       "      <th>37764</th>\n",
       "      <td>CRQ</td>\n",
       "      <td>Sark</td>\n",
       "      <td>Europe</td>\n",
       "      <td>Northern Europe</td>\n",
       "      <td>Detected trafficking victims</td>\n",
       "      <td>by form of exploitation</td>\n",
       "      <td>Forced labour</td>\n",
       "      <td>Female</td>\n",
       "      <td>18 years or over</td>\n",
       "      <td>2020</td>\n",
       "      <td>Counts</td>\n",
       "      <td>&lt;5</td>\n",
       "      <td>GLOTIP</td>\n",
       "    </tr>\n",
       "    <tr>\n",
       "      <th>37765</th>\n",
       "      <td>CRQ</td>\n",
       "      <td>Sark</td>\n",
       "      <td>Europe</td>\n",
       "      <td>Northern Europe</td>\n",
       "      <td>Detected trafficking victims</td>\n",
       "      <td>Total</td>\n",
       "      <td>Total</td>\n",
       "      <td>Female</td>\n",
       "      <td>Total</td>\n",
       "      <td>2017</td>\n",
       "      <td>Counts</td>\n",
       "      <td>&lt;5</td>\n",
       "      <td>GLOTIP</td>\n",
       "    </tr>\n",
       "    <tr>\n",
       "      <th>37766</th>\n",
       "      <td>CRQ</td>\n",
       "      <td>Sark</td>\n",
       "      <td>Europe</td>\n",
       "      <td>Northern Europe</td>\n",
       "      <td>Detected trafficking victims</td>\n",
       "      <td>Total</td>\n",
       "      <td>Total</td>\n",
       "      <td>Female</td>\n",
       "      <td>Total</td>\n",
       "      <td>2018</td>\n",
       "      <td>Counts</td>\n",
       "      <td>5</td>\n",
       "      <td>GLOTIP</td>\n",
       "    </tr>\n",
       "    <tr>\n",
       "      <th>37767</th>\n",
       "      <td>CRQ</td>\n",
       "      <td>Sark</td>\n",
       "      <td>Europe</td>\n",
       "      <td>Northern Europe</td>\n",
       "      <td>Detected trafficking victims</td>\n",
       "      <td>Total</td>\n",
       "      <td>Total</td>\n",
       "      <td>Male</td>\n",
       "      <td>Total</td>\n",
       "      <td>2018</td>\n",
       "      <td>Counts</td>\n",
       "      <td>&lt;5</td>\n",
       "      <td>GLOTIP</td>\n",
       "    </tr>\n",
       "    <tr>\n",
       "      <th>37768</th>\n",
       "      <td>CRQ</td>\n",
       "      <td>Sark</td>\n",
       "      <td>Europe</td>\n",
       "      <td>Northern Europe</td>\n",
       "      <td>Detected trafficking victims</td>\n",
       "      <td>Total</td>\n",
       "      <td>Total</td>\n",
       "      <td>Female</td>\n",
       "      <td>Total</td>\n",
       "      <td>2019</td>\n",
       "      <td>Counts</td>\n",
       "      <td>&lt;5</td>\n",
       "      <td>GLOTIP</td>\n",
       "    </tr>\n",
       "    <tr>\n",
       "      <th>37769</th>\n",
       "      <td>CRQ</td>\n",
       "      <td>Sark</td>\n",
       "      <td>Europe</td>\n",
       "      <td>Northern Europe</td>\n",
       "      <td>Detected trafficking victims</td>\n",
       "      <td>Total</td>\n",
       "      <td>Total</td>\n",
       "      <td>Male</td>\n",
       "      <td>Total</td>\n",
       "      <td>2019</td>\n",
       "      <td>Counts</td>\n",
       "      <td>&lt;5</td>\n",
       "      <td>GLOTIP</td>\n",
       "    </tr>\n",
       "    <tr>\n",
       "      <th>37770</th>\n",
       "      <td>CRQ</td>\n",
       "      <td>Sark</td>\n",
       "      <td>Europe</td>\n",
       "      <td>Northern Europe</td>\n",
       "      <td>Detected trafficking victims</td>\n",
       "      <td>Total</td>\n",
       "      <td>Total</td>\n",
       "      <td>Female</td>\n",
       "      <td>Total</td>\n",
       "      <td>2020</td>\n",
       "      <td>Counts</td>\n",
       "      <td>6</td>\n",
       "      <td>GLOTIP</td>\n",
       "    </tr>\n",
       "    <tr>\n",
       "      <th>37771</th>\n",
       "      <td>CRQ</td>\n",
       "      <td>Sark</td>\n",
       "      <td>Europe</td>\n",
       "      <td>Northern Europe</td>\n",
       "      <td>Detected trafficking victims</td>\n",
       "      <td>Total</td>\n",
       "      <td>Total</td>\n",
       "      <td>Male</td>\n",
       "      <td>Total</td>\n",
       "      <td>2020</td>\n",
       "      <td>Counts</td>\n",
       "      <td>&lt;5</td>\n",
       "      <td>GLOTIP</td>\n",
       "    </tr>\n",
       "    <tr>\n",
       "      <th>42475</th>\n",
       "      <td>CRQ</td>\n",
       "      <td>Sark</td>\n",
       "      <td>Europe</td>\n",
       "      <td>Northern Europe</td>\n",
       "      <td>Detected trafficking victims</td>\n",
       "      <td>by form of exploitation</td>\n",
       "      <td>Other forms of exploitation</td>\n",
       "      <td>Female</td>\n",
       "      <td>0 to 17 years</td>\n",
       "      <td>2017</td>\n",
       "      <td>Counts</td>\n",
       "      <td>&lt;5</td>\n",
       "      <td>GLOTIP</td>\n",
       "    </tr>\n",
       "    <tr>\n",
       "      <th>42476</th>\n",
       "      <td>CRQ</td>\n",
       "      <td>Sark</td>\n",
       "      <td>Europe</td>\n",
       "      <td>Northern Europe</td>\n",
       "      <td>Detected trafficking victims</td>\n",
       "      <td>by form of exploitation</td>\n",
       "      <td>Other forms of exploitation</td>\n",
       "      <td>Female</td>\n",
       "      <td>0 to 17 years</td>\n",
       "      <td>2018</td>\n",
       "      <td>Counts</td>\n",
       "      <td>&lt;5</td>\n",
       "      <td>GLOTIP</td>\n",
       "    </tr>\n",
       "    <tr>\n",
       "      <th>42477</th>\n",
       "      <td>CRQ</td>\n",
       "      <td>Sark</td>\n",
       "      <td>Europe</td>\n",
       "      <td>Northern Europe</td>\n",
       "      <td>Detected trafficking victims</td>\n",
       "      <td>by form of exploitation</td>\n",
       "      <td>Other forms of exploitation</td>\n",
       "      <td>Male</td>\n",
       "      <td>0 to 17 years</td>\n",
       "      <td>2018</td>\n",
       "      <td>Counts</td>\n",
       "      <td>&lt;5</td>\n",
       "      <td>GLOTIP</td>\n",
       "    </tr>\n",
       "    <tr>\n",
       "      <th>42478</th>\n",
       "      <td>CRQ</td>\n",
       "      <td>Sark</td>\n",
       "      <td>Europe</td>\n",
       "      <td>Northern Europe</td>\n",
       "      <td>Detected trafficking victims</td>\n",
       "      <td>by form of exploitation</td>\n",
       "      <td>Other forms of exploitation</td>\n",
       "      <td>Female</td>\n",
       "      <td>0 to 17 years</td>\n",
       "      <td>2019</td>\n",
       "      <td>Counts</td>\n",
       "      <td>&lt;5</td>\n",
       "      <td>GLOTIP</td>\n",
       "    </tr>\n",
       "    <tr>\n",
       "      <th>42479</th>\n",
       "      <td>CRQ</td>\n",
       "      <td>Sark</td>\n",
       "      <td>Europe</td>\n",
       "      <td>Northern Europe</td>\n",
       "      <td>Detected trafficking victims</td>\n",
       "      <td>by form of exploitation</td>\n",
       "      <td>Other forms of exploitation</td>\n",
       "      <td>Male</td>\n",
       "      <td>0 to 17 years</td>\n",
       "      <td>2019</td>\n",
       "      <td>Counts</td>\n",
       "      <td>&lt;5</td>\n",
       "      <td>GLOTIP</td>\n",
       "    </tr>\n",
       "    <tr>\n",
       "      <th>42480</th>\n",
       "      <td>CRQ</td>\n",
       "      <td>Sark</td>\n",
       "      <td>Europe</td>\n",
       "      <td>Northern Europe</td>\n",
       "      <td>Detected trafficking victims</td>\n",
       "      <td>by form of exploitation</td>\n",
       "      <td>Other forms of exploitation</td>\n",
       "      <td>Female</td>\n",
       "      <td>0 to 17 years</td>\n",
       "      <td>2020</td>\n",
       "      <td>Counts</td>\n",
       "      <td>&lt;5</td>\n",
       "      <td>GLOTIP</td>\n",
       "    </tr>\n",
       "    <tr>\n",
       "      <th>42481</th>\n",
       "      <td>CRQ</td>\n",
       "      <td>Sark</td>\n",
       "      <td>Europe</td>\n",
       "      <td>Northern Europe</td>\n",
       "      <td>Detected trafficking victims</td>\n",
       "      <td>by form of exploitation</td>\n",
       "      <td>Other forms of exploitation</td>\n",
       "      <td>Male</td>\n",
       "      <td>0 to 17 years</td>\n",
       "      <td>2020</td>\n",
       "      <td>Counts</td>\n",
       "      <td>&lt;5</td>\n",
       "      <td>GLOTIP</td>\n",
       "    </tr>\n",
       "  </tbody>\n",
       "</table>\n",
       "</div>"
      ],
      "text/plain": [
       "      Code Country  Region        Subregion                     Indicador  \\\n",
       "37753  CRQ    Sark  Europe  Northern Europe  Detected trafficking victims   \n",
       "37754  CRQ    Sark  Europe  Northern Europe  Detected trafficking victims   \n",
       "37755  CRQ    Sark  Europe  Northern Europe  Detected trafficking victims   \n",
       "37756  CRQ    Sark  Europe  Northern Europe  Detected trafficking victims   \n",
       "37757  CRQ    Sark  Europe  Northern Europe  Detected trafficking victims   \n",
       "37758  CRQ    Sark  Europe  Northern Europe  Detected trafficking victims   \n",
       "37759  CRQ    Sark  Europe  Northern Europe  Detected trafficking victims   \n",
       "37760  CRQ    Sark  Europe  Northern Europe  Detected trafficking victims   \n",
       "37761  CRQ    Sark  Europe  Northern Europe  Detected trafficking victims   \n",
       "37762  CRQ    Sark  Europe  Northern Europe  Detected trafficking victims   \n",
       "37763  CRQ    Sark  Europe  Northern Europe  Detected trafficking victims   \n",
       "37764  CRQ    Sark  Europe  Northern Europe  Detected trafficking victims   \n",
       "37765  CRQ    Sark  Europe  Northern Europe  Detected trafficking victims   \n",
       "37766  CRQ    Sark  Europe  Northern Europe  Detected trafficking victims   \n",
       "37767  CRQ    Sark  Europe  Northern Europe  Detected trafficking victims   \n",
       "37768  CRQ    Sark  Europe  Northern Europe  Detected trafficking victims   \n",
       "37769  CRQ    Sark  Europe  Northern Europe  Detected trafficking victims   \n",
       "37770  CRQ    Sark  Europe  Northern Europe  Detected trafficking victims   \n",
       "37771  CRQ    Sark  Europe  Northern Europe  Detected trafficking victims   \n",
       "42475  CRQ    Sark  Europe  Northern Europe  Detected trafficking victims   \n",
       "42476  CRQ    Sark  Europe  Northern Europe  Detected trafficking victims   \n",
       "42477  CRQ    Sark  Europe  Northern Europe  Detected trafficking victims   \n",
       "42478  CRQ    Sark  Europe  Northern Europe  Detected trafficking victims   \n",
       "42479  CRQ    Sark  Europe  Northern Europe  Detected trafficking victims   \n",
       "42480  CRQ    Sark  Europe  Northern Europe  Detected trafficking victims   \n",
       "42481  CRQ    Sark  Europe  Northern Europe  Detected trafficking victims   \n",
       "\n",
       "                     Dimension                     Category     Sex  \\\n",
       "37753                    Total                        Total  Female   \n",
       "37754                    Total                        Total  Female   \n",
       "37755                    Total                        Total  Female   \n",
       "37756                    Total                        Total    Male   \n",
       "37757  by form of exploitation          Sexual exploitation    Male   \n",
       "37758                    Total                        Total  Female   \n",
       "37759                    Total                        Total    Male   \n",
       "37760  by form of exploitation          Sexual exploitation    Male   \n",
       "37761                    Total                        Total  Female   \n",
       "37762                    Total                        Total  Female   \n",
       "37763                    Total                        Total    Male   \n",
       "37764  by form of exploitation                Forced labour  Female   \n",
       "37765                    Total                        Total  Female   \n",
       "37766                    Total                        Total  Female   \n",
       "37767                    Total                        Total    Male   \n",
       "37768                    Total                        Total  Female   \n",
       "37769                    Total                        Total    Male   \n",
       "37770                    Total                        Total  Female   \n",
       "37771                    Total                        Total    Male   \n",
       "42475  by form of exploitation  Other forms of exploitation  Female   \n",
       "42476  by form of exploitation  Other forms of exploitation  Female   \n",
       "42477  by form of exploitation  Other forms of exploitation    Male   \n",
       "42478  by form of exploitation  Other forms of exploitation  Female   \n",
       "42479  by form of exploitation  Other forms of exploitation    Male   \n",
       "42480  by form of exploitation  Other forms of exploitation  Female   \n",
       "42481  by form of exploitation  Other forms of exploitation    Male   \n",
       "\n",
       "                    Age  Year Unidad medida Value  Source  \n",
       "37753     0 to 17 years  2017        Counts    <5  GLOTIP  \n",
       "37754     0 to 17 years  2018        Counts    <5  GLOTIP  \n",
       "37755  18 years or over  2018        Counts    <5  GLOTIP  \n",
       "37756     0 to 17 years  2018        Counts    <5  GLOTIP  \n",
       "37757  18 years or over  2018        Counts    <5  GLOTIP  \n",
       "37758     0 to 17 years  2019        Counts    <5  GLOTIP  \n",
       "37759     0 to 17 years  2019        Counts    <5  GLOTIP  \n",
       "37760  18 years or over  2019        Counts    <5  GLOTIP  \n",
       "37761     0 to 17 years  2020        Counts    <5  GLOTIP  \n",
       "37762  18 years or over  2020        Counts    <5  GLOTIP  \n",
       "37763     0 to 17 years  2020        Counts    <5  GLOTIP  \n",
       "37764  18 years or over  2020        Counts    <5  GLOTIP  \n",
       "37765             Total  2017        Counts    <5  GLOTIP  \n",
       "37766             Total  2018        Counts     5  GLOTIP  \n",
       "37767             Total  2018        Counts    <5  GLOTIP  \n",
       "37768             Total  2019        Counts    <5  GLOTIP  \n",
       "37769             Total  2019        Counts    <5  GLOTIP  \n",
       "37770             Total  2020        Counts     6  GLOTIP  \n",
       "37771             Total  2020        Counts    <5  GLOTIP  \n",
       "42475     0 to 17 years  2017        Counts    <5  GLOTIP  \n",
       "42476     0 to 17 years  2018        Counts    <5  GLOTIP  \n",
       "42477     0 to 17 years  2018        Counts    <5  GLOTIP  \n",
       "42478     0 to 17 years  2019        Counts    <5  GLOTIP  \n",
       "42479     0 to 17 years  2019        Counts    <5  GLOTIP  \n",
       "42480     0 to 17 years  2020        Counts    <5  GLOTIP  \n",
       "42481     0 to 17 years  2020        Counts    <5  GLOTIP  "
      ]
     },
     "execution_count": 174,
     "metadata": {},
     "output_type": "execute_result"
    }
   ],
   "source": [
    "for x in trata.index:\n",
    "  if trata.loc[x, 'Country'] == 'Sark':\n",
    "     trata.loc[x, 'Code'] = 'CRQ'\n",
    "trata[trata['Country'] == 'Sark']"
   ]
  },
  {
   "cell_type": "code",
   "execution_count": 175,
   "id": "78418e12",
   "metadata": {},
   "outputs": [
    {
     "data": {
      "text/html": [
       "<div>\n",
       "<style scoped>\n",
       "    .dataframe tbody tr th:only-of-type {\n",
       "        vertical-align: middle;\n",
       "    }\n",
       "\n",
       "    .dataframe tbody tr th {\n",
       "        vertical-align: top;\n",
       "    }\n",
       "\n",
       "    .dataframe thead th {\n",
       "        text-align: right;\n",
       "    }\n",
       "</style>\n",
       "<table border=\"1\" class=\"dataframe\">\n",
       "  <thead>\n",
       "    <tr style=\"text-align: right;\">\n",
       "      <th></th>\n",
       "      <th>Code</th>\n",
       "      <th>Country</th>\n",
       "      <th>Region</th>\n",
       "      <th>Subregion</th>\n",
       "      <th>Indicador</th>\n",
       "      <th>Dimension</th>\n",
       "      <th>Category</th>\n",
       "      <th>Sex</th>\n",
       "      <th>Age</th>\n",
       "      <th>Year</th>\n",
       "      <th>Unidad medida</th>\n",
       "      <th>Value</th>\n",
       "      <th>Source</th>\n",
       "    </tr>\n",
       "  </thead>\n",
       "  <tbody>\n",
       "    <tr>\n",
       "      <th>2670</th>\n",
       "      <td>Aruba/Curacao</td>\n",
       "      <td>NaN</td>\n",
       "      <td>NaN</td>\n",
       "      <td>NaN</td>\n",
       "      <td>Detected trafficking victims</td>\n",
       "      <td>by country of repatriation</td>\n",
       "      <td>Venezuela (Bolivarian Republic of)</td>\n",
       "      <td>Total</td>\n",
       "      <td>Total</td>\n",
       "      <td>2011</td>\n",
       "      <td>Counts</td>\n",
       "      <td>&lt;5</td>\n",
       "      <td>GLOTIP</td>\n",
       "    </tr>\n",
       "  </tbody>\n",
       "</table>\n",
       "</div>"
      ],
      "text/plain": [
       "               Code Country Region Subregion                     Indicador  \\\n",
       "2670  Aruba/Curacao     NaN    NaN       NaN  Detected trafficking victims   \n",
       "\n",
       "                       Dimension                            Category    Sex  \\\n",
       "2670  by country of repatriation  Venezuela (Bolivarian Republic of)  Total   \n",
       "\n",
       "        Age  Year Unidad medida Value  Source  \n",
       "2670  Total  2011        Counts    <5  GLOTIP  "
      ]
     },
     "execution_count": 175,
     "metadata": {},
     "output_type": "execute_result"
    }
   ],
   "source": [
    "trata[trata['Code'] == 'Aruba/Curacao']"
   ]
  },
  {
   "cell_type": "code",
   "execution_count": 176,
   "id": "0bca9153",
   "metadata": {},
   "outputs": [
    {
     "data": {
      "text/html": [
       "<div>\n",
       "<style scoped>\n",
       "    .dataframe tbody tr th:only-of-type {\n",
       "        vertical-align: middle;\n",
       "    }\n",
       "\n",
       "    .dataframe tbody tr th {\n",
       "        vertical-align: top;\n",
       "    }\n",
       "\n",
       "    .dataframe thead th {\n",
       "        text-align: right;\n",
       "    }\n",
       "</style>\n",
       "<table border=\"1\" class=\"dataframe\">\n",
       "  <thead>\n",
       "    <tr style=\"text-align: right;\">\n",
       "      <th></th>\n",
       "      <th>Code</th>\n",
       "      <th>Country</th>\n",
       "      <th>Region</th>\n",
       "      <th>Subregion</th>\n",
       "      <th>Indicador</th>\n",
       "      <th>Dimension</th>\n",
       "      <th>Category</th>\n",
       "      <th>Sex</th>\n",
       "      <th>Age</th>\n",
       "      <th>Year</th>\n",
       "      <th>Unidad medida</th>\n",
       "      <th>Value</th>\n",
       "      <th>Source</th>\n",
       "    </tr>\n",
       "  </thead>\n",
       "  <tbody>\n",
       "    <tr>\n",
       "      <th>2</th>\n",
       "      <td>ABW</td>\n",
       "      <td>Aruba</td>\n",
       "      <td>Americas</td>\n",
       "      <td>Latin America and the Caribbean</td>\n",
       "      <td>Detected trafficking victims</td>\n",
       "      <td>by country of repatriation</td>\n",
       "      <td>Ukraine</td>\n",
       "      <td>Total</td>\n",
       "      <td>Total</td>\n",
       "      <td>2010</td>\n",
       "      <td>Counts</td>\n",
       "      <td>&lt;5</td>\n",
       "      <td>GLOTIP</td>\n",
       "    </tr>\n",
       "    <tr>\n",
       "      <th>2670</th>\n",
       "      <td>ABW</td>\n",
       "      <td>NaN</td>\n",
       "      <td>NaN</td>\n",
       "      <td>NaN</td>\n",
       "      <td>Detected trafficking victims</td>\n",
       "      <td>by country of repatriation</td>\n",
       "      <td>Venezuela (Bolivarian Republic of)</td>\n",
       "      <td>Total</td>\n",
       "      <td>Total</td>\n",
       "      <td>2011</td>\n",
       "      <td>Counts</td>\n",
       "      <td>&lt;5</td>\n",
       "      <td>GLOTIP</td>\n",
       "    </tr>\n",
       "  </tbody>\n",
       "</table>\n",
       "</div>"
      ],
      "text/plain": [
       "     Code Country    Region                        Subregion  \\\n",
       "2     ABW   Aruba  Americas  Latin America and the Caribbean   \n",
       "2670  ABW     NaN       NaN                              NaN   \n",
       "\n",
       "                         Indicador                   Dimension  \\\n",
       "2     Detected trafficking victims  by country of repatriation   \n",
       "2670  Detected trafficking victims  by country of repatriation   \n",
       "\n",
       "                                Category    Sex    Age  Year Unidad medida  \\\n",
       "2                                Ukraine  Total  Total  2010        Counts   \n",
       "2670  Venezuela (Bolivarian Republic of)  Total  Total  2011        Counts   \n",
       "\n",
       "     Value  Source  \n",
       "2       <5  GLOTIP  \n",
       "2670    <5  GLOTIP  "
      ]
     },
     "execution_count": 176,
     "metadata": {},
     "output_type": "execute_result"
    }
   ],
   "source": [
    "for x in trata.index:\n",
    "  if trata.loc[x, 'Code'] == 'Aruba/Curacao':\n",
    "     trata.loc[x, 'Code'] = 'ABW'\n",
    "trata[trata['Code'] == 'ABW']"
   ]
  },
  {
   "cell_type": "code",
   "execution_count": 177,
   "id": "54573713",
   "metadata": {},
   "outputs": [
    {
     "data": {
      "text/html": [
       "<div>\n",
       "<style scoped>\n",
       "    .dataframe tbody tr th:only-of-type {\n",
       "        vertical-align: middle;\n",
       "    }\n",
       "\n",
       "    .dataframe tbody tr th {\n",
       "        vertical-align: top;\n",
       "    }\n",
       "\n",
       "    .dataframe thead th {\n",
       "        text-align: right;\n",
       "    }\n",
       "</style>\n",
       "<table border=\"1\" class=\"dataframe\">\n",
       "  <thead>\n",
       "    <tr style=\"text-align: right;\">\n",
       "      <th></th>\n",
       "      <th>Code</th>\n",
       "      <th>Country</th>\n",
       "      <th>Region</th>\n",
       "      <th>Subregion</th>\n",
       "      <th>Indicador</th>\n",
       "      <th>Dimension</th>\n",
       "      <th>Category</th>\n",
       "      <th>Sex</th>\n",
       "      <th>Age</th>\n",
       "      <th>Year</th>\n",
       "      <th>Unidad medida</th>\n",
       "      <th>Value</th>\n",
       "      <th>Source</th>\n",
       "    </tr>\n",
       "  </thead>\n",
       "  <tbody>\n",
       "    <tr>\n",
       "      <th>2</th>\n",
       "      <td>ABW</td>\n",
       "      <td>Aruba</td>\n",
       "      <td>Americas</td>\n",
       "      <td>Latin America and the Caribbean</td>\n",
       "      <td>Detected trafficking victims</td>\n",
       "      <td>by country of repatriation</td>\n",
       "      <td>Ukraine</td>\n",
       "      <td>Total</td>\n",
       "      <td>Total</td>\n",
       "      <td>2010</td>\n",
       "      <td>Counts</td>\n",
       "      <td>&lt;5</td>\n",
       "      <td>GLOTIP</td>\n",
       "    </tr>\n",
       "    <tr>\n",
       "      <th>2670</th>\n",
       "      <td>ABW</td>\n",
       "      <td>Aruba/Curacao</td>\n",
       "      <td>NaN</td>\n",
       "      <td>NaN</td>\n",
       "      <td>Detected trafficking victims</td>\n",
       "      <td>by country of repatriation</td>\n",
       "      <td>Venezuela (Bolivarian Republic of)</td>\n",
       "      <td>Total</td>\n",
       "      <td>Total</td>\n",
       "      <td>2011</td>\n",
       "      <td>Counts</td>\n",
       "      <td>&lt;5</td>\n",
       "      <td>GLOTIP</td>\n",
       "    </tr>\n",
       "  </tbody>\n",
       "</table>\n",
       "</div>"
      ],
      "text/plain": [
       "     Code        Country    Region                        Subregion  \\\n",
       "2     ABW          Aruba  Americas  Latin America and the Caribbean   \n",
       "2670  ABW  Aruba/Curacao       NaN                              NaN   \n",
       "\n",
       "                         Indicador                   Dimension  \\\n",
       "2     Detected trafficking victims  by country of repatriation   \n",
       "2670  Detected trafficking victims  by country of repatriation   \n",
       "\n",
       "                                Category    Sex    Age  Year Unidad medida  \\\n",
       "2                                Ukraine  Total  Total  2010        Counts   \n",
       "2670  Venezuela (Bolivarian Republic of)  Total  Total  2011        Counts   \n",
       "\n",
       "     Value  Source  \n",
       "2       <5  GLOTIP  \n",
       "2670    <5  GLOTIP  "
      ]
     },
     "execution_count": 177,
     "metadata": {},
     "output_type": "execute_result"
    }
   ],
   "source": [
    "trata.loc[2670, 'Country'] = 'Aruba/Curacao'\n",
    "trata[trata['Code'] == 'ABW']"
   ]
  },
  {
   "cell_type": "code",
   "execution_count": 178,
   "id": "fd0b6797",
   "metadata": {},
   "outputs": [
    {
     "data": {
      "text/html": [
       "<div>\n",
       "<style scoped>\n",
       "    .dataframe tbody tr th:only-of-type {\n",
       "        vertical-align: middle;\n",
       "    }\n",
       "\n",
       "    .dataframe tbody tr th {\n",
       "        vertical-align: top;\n",
       "    }\n",
       "\n",
       "    .dataframe thead th {\n",
       "        text-align: right;\n",
       "    }\n",
       "</style>\n",
       "<table border=\"1\" class=\"dataframe\">\n",
       "  <thead>\n",
       "    <tr style=\"text-align: right;\">\n",
       "      <th></th>\n",
       "      <th>Code</th>\n",
       "      <th>Country</th>\n",
       "      <th>Region</th>\n",
       "      <th>Subregion</th>\n",
       "      <th>Indicador</th>\n",
       "      <th>Dimension</th>\n",
       "      <th>Category</th>\n",
       "      <th>Sex</th>\n",
       "      <th>Age</th>\n",
       "      <th>Year</th>\n",
       "      <th>Unidad medida</th>\n",
       "      <th>Value</th>\n",
       "      <th>Source</th>\n",
       "    </tr>\n",
       "  </thead>\n",
       "  <tbody>\n",
       "    <tr>\n",
       "      <th>2</th>\n",
       "      <td>ABW</td>\n",
       "      <td>Aruba</td>\n",
       "      <td>Americas</td>\n",
       "      <td>Latin America and the Caribbean</td>\n",
       "      <td>Detected trafficking victims</td>\n",
       "      <td>by country of repatriation</td>\n",
       "      <td>Ukraine</td>\n",
       "      <td>Total</td>\n",
       "      <td>Total</td>\n",
       "      <td>2010</td>\n",
       "      <td>Counts</td>\n",
       "      <td>&lt;5</td>\n",
       "      <td>GLOTIP</td>\n",
       "    </tr>\n",
       "    <tr>\n",
       "      <th>2670</th>\n",
       "      <td>ABW</td>\n",
       "      <td>Aruba/Curacao</td>\n",
       "      <td>Americas</td>\n",
       "      <td>NaN</td>\n",
       "      <td>Detected trafficking victims</td>\n",
       "      <td>by country of repatriation</td>\n",
       "      <td>Venezuela (Bolivarian Republic of)</td>\n",
       "      <td>Total</td>\n",
       "      <td>Total</td>\n",
       "      <td>2011</td>\n",
       "      <td>Counts</td>\n",
       "      <td>&lt;5</td>\n",
       "      <td>GLOTIP</td>\n",
       "    </tr>\n",
       "  </tbody>\n",
       "</table>\n",
       "</div>"
      ],
      "text/plain": [
       "     Code        Country    Region                        Subregion  \\\n",
       "2     ABW          Aruba  Americas  Latin America and the Caribbean   \n",
       "2670  ABW  Aruba/Curacao  Americas                              NaN   \n",
       "\n",
       "                         Indicador                   Dimension  \\\n",
       "2     Detected trafficking victims  by country of repatriation   \n",
       "2670  Detected trafficking victims  by country of repatriation   \n",
       "\n",
       "                                Category    Sex    Age  Year Unidad medida  \\\n",
       "2                                Ukraine  Total  Total  2010        Counts   \n",
       "2670  Venezuela (Bolivarian Republic of)  Total  Total  2011        Counts   \n",
       "\n",
       "     Value  Source  \n",
       "2       <5  GLOTIP  \n",
       "2670    <5  GLOTIP  "
      ]
     },
     "execution_count": 178,
     "metadata": {},
     "output_type": "execute_result"
    }
   ],
   "source": [
    "trata.loc[2670, 'Region'] = 'Americas'\n",
    "trata[trata['Code'] == 'ABW']"
   ]
  },
  {
   "cell_type": "code",
   "execution_count": 179,
   "id": "26b5a97f",
   "metadata": {},
   "outputs": [
    {
     "data": {
      "text/html": [
       "<div>\n",
       "<style scoped>\n",
       "    .dataframe tbody tr th:only-of-type {\n",
       "        vertical-align: middle;\n",
       "    }\n",
       "\n",
       "    .dataframe tbody tr th {\n",
       "        vertical-align: top;\n",
       "    }\n",
       "\n",
       "    .dataframe thead th {\n",
       "        text-align: right;\n",
       "    }\n",
       "</style>\n",
       "<table border=\"1\" class=\"dataframe\">\n",
       "  <thead>\n",
       "    <tr style=\"text-align: right;\">\n",
       "      <th></th>\n",
       "      <th>Code</th>\n",
       "      <th>Country</th>\n",
       "      <th>Region</th>\n",
       "      <th>Subregion</th>\n",
       "      <th>Indicador</th>\n",
       "      <th>Dimension</th>\n",
       "      <th>Category</th>\n",
       "      <th>Sex</th>\n",
       "      <th>Age</th>\n",
       "      <th>Year</th>\n",
       "      <th>Unidad medida</th>\n",
       "      <th>Value</th>\n",
       "      <th>Source</th>\n",
       "    </tr>\n",
       "  </thead>\n",
       "  <tbody>\n",
       "    <tr>\n",
       "      <th>2</th>\n",
       "      <td>ABW</td>\n",
       "      <td>Aruba</td>\n",
       "      <td>Americas</td>\n",
       "      <td>Latin America and the Caribbean</td>\n",
       "      <td>Detected trafficking victims</td>\n",
       "      <td>by country of repatriation</td>\n",
       "      <td>Ukraine</td>\n",
       "      <td>Total</td>\n",
       "      <td>Total</td>\n",
       "      <td>2010</td>\n",
       "      <td>Counts</td>\n",
       "      <td>&lt;5</td>\n",
       "      <td>GLOTIP</td>\n",
       "    </tr>\n",
       "    <tr>\n",
       "      <th>2670</th>\n",
       "      <td>ABW</td>\n",
       "      <td>Aruba/Curacao</td>\n",
       "      <td>Americas</td>\n",
       "      <td>Latin America and the Caribbean</td>\n",
       "      <td>Detected trafficking victims</td>\n",
       "      <td>by country of repatriation</td>\n",
       "      <td>Venezuela (Bolivarian Republic of)</td>\n",
       "      <td>Total</td>\n",
       "      <td>Total</td>\n",
       "      <td>2011</td>\n",
       "      <td>Counts</td>\n",
       "      <td>&lt;5</td>\n",
       "      <td>GLOTIP</td>\n",
       "    </tr>\n",
       "  </tbody>\n",
       "</table>\n",
       "</div>"
      ],
      "text/plain": [
       "     Code        Country    Region                        Subregion  \\\n",
       "2     ABW          Aruba  Americas  Latin America and the Caribbean   \n",
       "2670  ABW  Aruba/Curacao  Americas  Latin America and the Caribbean   \n",
       "\n",
       "                         Indicador                   Dimension  \\\n",
       "2     Detected trafficking victims  by country of repatriation   \n",
       "2670  Detected trafficking victims  by country of repatriation   \n",
       "\n",
       "                                Category    Sex    Age  Year Unidad medida  \\\n",
       "2                                Ukraine  Total  Total  2010        Counts   \n",
       "2670  Venezuela (Bolivarian Republic of)  Total  Total  2011        Counts   \n",
       "\n",
       "     Value  Source  \n",
       "2       <5  GLOTIP  \n",
       "2670    <5  GLOTIP  "
      ]
     },
     "execution_count": 179,
     "metadata": {},
     "output_type": "execute_result"
    }
   ],
   "source": [
    "trata.loc[2670, 'Subregion'] = 'Latin America and the Caribbean'\n",
    "trata[trata['Code'] == 'ABW']"
   ]
  },
  {
   "cell_type": "code",
   "execution_count": 180,
   "id": "cb1fa1d7",
   "metadata": {},
   "outputs": [],
   "source": [
    "conjunto_valores = ['CAR', 'CAS', 'MCA', 'MCN', 'EEU', 'SAF', 'SAM' ]\n",
    "condicion = trata['Code'].isin(conjunto_valores)\n",
    "trata = trata.drop(trata[condicion].index)"
   ]
  },
  {
   "cell_type": "code",
   "execution_count": 181,
   "id": "8df3f6da",
   "metadata": {},
   "outputs": [],
   "source": [
    "trata['Value'] = trata['Value'].replace('<5', '3')\n",
    "trata['Value'] = trata['Value'].str.replace(',', '')"
   ]
  },
  {
   "cell_type": "markdown",
   "id": "08b7762a",
   "metadata": {},
   "source": [
    "Columna \"Dimension\""
   ]
  },
  {
   "cell_type": "code",
   "execution_count": 182,
   "id": "ffa12e7f",
   "metadata": {},
   "outputs": [
    {
     "data": {
      "text/plain": [
       "['by country of repatriation',\n",
       " 'Total',\n",
       " 'by form of exploitation',\n",
       " 'by citizenship']"
      ]
     },
     "execution_count": 182,
     "metadata": {},
     "output_type": "execute_result"
    }
   ],
   "source": [
    "valores_unicos = trata['Dimension'].unique()\n",
    "list(valores_unicos)"
   ]
  },
  {
   "cell_type": "markdown",
   "id": "7a1c8627",
   "metadata": {},
   "source": [
    "Dejamos sólo los valores para formas de explotación."
   ]
  },
  {
   "cell_type": "code",
   "execution_count": 188,
   "id": "4f8754e5",
   "metadata": {},
   "outputs": [],
   "source": [
    "trata_exp=trata\n",
    "trata_exp = trata_exp[trata_exp['Dimension'] == 'by form of exploitation']\n"
   ]
  },
  {
   "cell_type": "code",
   "execution_count": 189,
   "id": "7744b03e",
   "metadata": {},
   "outputs": [
    {
     "data": {
      "text/plain": [
       "['Forced labour', 'Sexual exploitation', 'Other forms of exploitation']"
      ]
     },
     "execution_count": 189,
     "metadata": {},
     "output_type": "execute_result"
    }
   ],
   "source": [
    "valores_unicos = trata_exp['Category'].unique()\n",
    "list(valores_unicos)"
   ]
  },
  {
   "cell_type": "code",
   "execution_count": 190,
   "id": "750da48b",
   "metadata": {},
   "outputs": [
    {
     "data": {
      "text/plain": [
       "['Total', 'Female', 'Male', 'Other', 'Unknown']"
      ]
     },
     "execution_count": 190,
     "metadata": {},
     "output_type": "execute_result"
    }
   ],
   "source": [
    "valores_unicos = trata_exp['Sex'].unique()\n",
    "list(valores_unicos)"
   ]
  },
  {
   "cell_type": "code",
   "execution_count": 191,
   "id": "52a73693",
   "metadata": {},
   "outputs": [],
   "source": [
    "trata_exp = trata_exp[trata_exp[\"Sex\"] != 'Total']"
   ]
  },
  {
   "cell_type": "code",
   "execution_count": 192,
   "id": "251fcf00",
   "metadata": {},
   "outputs": [
    {
     "name": "stdout",
     "output_type": "stream",
     "text": [
      "<class 'pandas.core.frame.DataFrame'>\n",
      "Index: 5741 entries, 42 to 46556\n",
      "Data columns (total 13 columns):\n",
      " #   Column         Non-Null Count  Dtype \n",
      "---  ------         --------------  ----- \n",
      " 0   Code           5741 non-null   object\n",
      " 1   Country        5741 non-null   object\n",
      " 2   Region         5741 non-null   object\n",
      " 3   Subregion      5741 non-null   object\n",
      " 4   Indicador      5741 non-null   object\n",
      " 5   Dimension      5741 non-null   object\n",
      " 6   Category       5741 non-null   object\n",
      " 7   Sex            5741 non-null   object\n",
      " 8   Age            5741 non-null   object\n",
      " 9   Year           5741 non-null   object\n",
      " 10  Unidad medida  5741 non-null   object\n",
      " 11  Value          5741 non-null   object\n",
      " 12  Source         5741 non-null   object\n",
      "dtypes: object(13)\n",
      "memory usage: 627.9+ KB\n"
     ]
    }
   ],
   "source": [
    "trata_exp.info()"
   ]
  },
  {
   "cell_type": "markdown",
   "id": "50177788",
   "metadata": {},
   "source": [
    "Luego de eliminar valores, se revisa nuevamente"
   ]
  },
  {
   "cell_type": "markdown",
   "id": "45eeb7b5",
   "metadata": {},
   "source": [
    "Valores unicos de la columna"
   ]
  },
  {
   "cell_type": "code",
   "execution_count": 193,
   "id": "06cf707c-03eb-449e-850d-15a23968c33b",
   "metadata": {},
   "outputs": [
    {
     "name": "stdout",
     "output_type": "stream",
     "text": [
      "['by form of exploitation']\n"
     ]
    }
   ],
   "source": [
    "valores_unicos = trata_exp[\"Dimension\"].unique()\n",
    "\n",
    "print(valores_unicos)"
   ]
  },
  {
   "cell_type": "markdown",
   "id": "155c9c11",
   "metadata": {},
   "source": [
    "Valores pertenecientes a \"by form of explotation\":"
   ]
  },
  {
   "cell_type": "code",
   "execution_count": 194,
   "id": "a0f68618",
   "metadata": {},
   "outputs": [
    {
     "name": "stdout",
     "output_type": "stream",
     "text": [
      "Dimension\n",
      "by form of exploitation    5741\n",
      "Name: count, dtype: int64\n"
     ]
    }
   ],
   "source": [
    "conteos = trata_exp[\"Dimension\"].value_counts()\n",
    "print(conteos)"
   ]
  },
  {
   "cell_type": "code",
   "execution_count": 195,
   "id": "03916f54",
   "metadata": {},
   "outputs": [
    {
     "name": "stdout",
     "output_type": "stream",
     "text": [
      "Category\n",
      "Sexual exploitation            2003\n",
      "Forced labour                  1940\n",
      "Other forms of exploitation    1798\n",
      "Name: count, dtype: int64\n"
     ]
    }
   ],
   "source": [
    "conteos = trata_exp[\"Category\"].value_counts()\n",
    "print(conteos)"
   ]
  },
  {
   "cell_type": "code",
   "execution_count": 196,
   "id": "081681a6",
   "metadata": {},
   "outputs": [
    {
     "data": {
      "text/html": [
       "<div>\n",
       "<style scoped>\n",
       "    .dataframe tbody tr th:only-of-type {\n",
       "        vertical-align: middle;\n",
       "    }\n",
       "\n",
       "    .dataframe tbody tr th {\n",
       "        vertical-align: top;\n",
       "    }\n",
       "\n",
       "    .dataframe thead th {\n",
       "        text-align: right;\n",
       "    }\n",
       "</style>\n",
       "<table border=\"1\" class=\"dataframe\">\n",
       "  <thead>\n",
       "    <tr style=\"text-align: right;\">\n",
       "      <th></th>\n",
       "      <th>Code</th>\n",
       "      <th>Country</th>\n",
       "      <th>Region</th>\n",
       "      <th>Subregion</th>\n",
       "      <th>Indicador</th>\n",
       "      <th>Dimension</th>\n",
       "      <th>Category</th>\n",
       "      <th>Sex</th>\n",
       "      <th>Age</th>\n",
       "      <th>Year</th>\n",
       "      <th>Unidad medida</th>\n",
       "      <th>Value</th>\n",
       "      <th>Source</th>\n",
       "    </tr>\n",
       "  </thead>\n",
       "  <tbody>\n",
       "    <tr>\n",
       "      <th>count</th>\n",
       "      <td>5741</td>\n",
       "      <td>5741</td>\n",
       "      <td>5741</td>\n",
       "      <td>5741</td>\n",
       "      <td>5741</td>\n",
       "      <td>5741</td>\n",
       "      <td>5741</td>\n",
       "      <td>5741</td>\n",
       "      <td>5741</td>\n",
       "      <td>5741</td>\n",
       "      <td>5741</td>\n",
       "      <td>5741</td>\n",
       "      <td>5741</td>\n",
       "    </tr>\n",
       "    <tr>\n",
       "      <th>unique</th>\n",
       "      <td>126</td>\n",
       "      <td>126</td>\n",
       "      <td>5</td>\n",
       "      <td>17</td>\n",
       "      <td>1</td>\n",
       "      <td>1</td>\n",
       "      <td>3</td>\n",
       "      <td>4</td>\n",
       "      <td>3</td>\n",
       "      <td>8</td>\n",
       "      <td>1</td>\n",
       "      <td>296</td>\n",
       "      <td>1</td>\n",
       "    </tr>\n",
       "    <tr>\n",
       "      <th>top</th>\n",
       "      <td>THA</td>\n",
       "      <td>Thailand</td>\n",
       "      <td>Europe</td>\n",
       "      <td>Latin America and the Caribbean</td>\n",
       "      <td>Detected trafficking victims</td>\n",
       "      <td>by form of exploitation</td>\n",
       "      <td>Sexual exploitation</td>\n",
       "      <td>Female</td>\n",
       "      <td>18 years or over</td>\n",
       "      <td>2018</td>\n",
       "      <td>Counts</td>\n",
       "      <td>3</td>\n",
       "      <td>GLOTIP</td>\n",
       "    </tr>\n",
       "    <tr>\n",
       "      <th>freq</th>\n",
       "      <td>129</td>\n",
       "      <td>129</td>\n",
       "      <td>2368</td>\n",
       "      <td>1054</td>\n",
       "      <td>5741</td>\n",
       "      <td>5741</td>\n",
       "      <td>2003</td>\n",
       "      <td>2643</td>\n",
       "      <td>2835</td>\n",
       "      <td>1141</td>\n",
       "      <td>5741</td>\n",
       "      <td>3878</td>\n",
       "      <td>5741</td>\n",
       "    </tr>\n",
       "  </tbody>\n",
       "</table>\n",
       "</div>"
      ],
      "text/plain": [
       "        Code   Country  Region                        Subregion  \\\n",
       "count   5741      5741    5741                             5741   \n",
       "unique   126       126       5                               17   \n",
       "top      THA  Thailand  Europe  Latin America and the Caribbean   \n",
       "freq     129       129    2368                             1054   \n",
       "\n",
       "                           Indicador                Dimension  \\\n",
       "count                           5741                     5741   \n",
       "unique                             1                        1   \n",
       "top     Detected trafficking victims  by form of exploitation   \n",
       "freq                            5741                     5741   \n",
       "\n",
       "                   Category     Sex               Age  Year Unidad medida  \\\n",
       "count                  5741    5741              5741  5741          5741   \n",
       "unique                    3       4                 3     8             1   \n",
       "top     Sexual exploitation  Female  18 years or over  2018        Counts   \n",
       "freq                   2003    2643              2835  1141          5741   \n",
       "\n",
       "       Value  Source  \n",
       "count   5741    5741  \n",
       "unique   296       1  \n",
       "top        3  GLOTIP  \n",
       "freq    3878    5741  "
      ]
     },
     "execution_count": 196,
     "metadata": {},
     "output_type": "execute_result"
    }
   ],
   "source": [
    "trata_exp.describe()"
   ]
  },
  {
   "cell_type": "markdown",
   "id": "3b1699e9",
   "metadata": {},
   "source": [
    "Observar las categorías y su comportamiento por edad."
   ]
  },
  {
   "cell_type": "code",
   "execution_count": 197,
   "id": "073dfad5",
   "metadata": {},
   "outputs": [
    {
     "data": {
      "image/png": "[encoded data removed]",
      "text/plain": [
       "<Figure size 1000x600 with 1 Axes>"
      ]
     },
     "metadata": {},
     "output_type": "display_data"
    }
   ],
   "source": [
    "categorias_unicas = trata_exp['Category'].unique()\n",
    "\n",
    "plt.figure(figsize=(10, 6))\n",
    "for categoria in categorias_unicas:\n",
    "    subset_data = trata_exp[trata_exp['Category'] == categoria]\n",
    "    edades = subset_data['Age']\n",
    "    plt.hist(edades, bins=20, alpha=0.5, label=categoria)\n",
    "\n",
    "plt.xlabel('Edades')\n",
    "plt.ylabel('Frecuencia')\n",
    "plt.title('Distribución de Edades por Categoría')\n",
    "plt.legend()\n",
    "\n",
    "plt.show()\n"
   ]
  },
  {
   "cell_type": "markdown",
   "id": "21927e82",
   "metadata": {},
   "source": [
    "Categorias de \"Sexual exploitation\" y \"Forced labour\"."
   ]
  },
  {
   "cell_type": "code",
   "execution_count": 198,
   "id": "923335b1",
   "metadata": {},
   "outputs": [
    {
     "data": {
      "image/png": "[encoded data removed]",
      "text/plain": [
       "<Figure size 1000x600 with 1 Axes>"
      ]
     },
     "metadata": {},
     "output_type": "display_data"
    }
   ],
   "source": [
    "categorias_seleccionadas = [\"Sexual exploitation\", \"Forced labour\"]\n",
    "data_filtrado = trata_exp[trata_exp['Category'].isin(categorias_seleccionadas)]\n",
    "\n",
    "plt.figure(figsize=(10, 6))\n",
    "frecuencias = trata_exp.groupby(['Age', 'Category']).size().unstack(fill_value=0)\n",
    "\n",
    "edades_unicas = trata_exp['Age'].unique()\n",
    "\n",
    "for categoria in categorias_seleccionadas:\n",
    "    frecuencia_categoria = frecuencias[categoria]\n",
    "    x = range(len(edades_unicas))\n",
    "    plt.bar(x, frecuencia_categoria, label=categoria)\n",
    "\n",
    "plt.xlabel('Edades')\n",
    "plt.ylabel('Frecuencia')\n",
    "plt.title('Distribución de Edades por Categoría')\n",
    "plt.xticks(x, edades_unicas, rotation=45, ha='right')\n",
    "\n",
    "plt.legend()\n",
    "plt.tight_layout()\n",
    "\n",
    "plt.show()"
   ]
  },
  {
   "cell_type": "markdown",
   "id": "462d656d",
   "metadata": {},
   "source": [
    "# Regresión Lineal"
   ]
  },
  {
   "cell_type": "code",
   "execution_count": 199,
   "id": "7b27c2bd",
   "metadata": {},
   "outputs": [],
   "source": [
    "from sklearn import linear_model\n",
    "from sklearn.linear_model import LinearRegression\n",
    "from sklearn.model_selection import train_test_split\n",
    "from sklearn.preprocessing import LabelEncoder"
   ]
  },
  {
   "cell_type": "markdown",
   "id": "f45859d1",
   "metadata": {},
   "source": [
    "Cambio el valor de \"Value\" a entero."
   ]
  },
  {
   "cell_type": "code",
   "execution_count": 200,
   "id": "ebd8e47b",
   "metadata": {},
   "outputs": [],
   "source": [
    "trata_exp['Value'] = trata_exp['Value'].astype(int)"
   ]
  },
  {
   "cell_type": "code",
   "execution_count": 201,
   "id": "01d0f9eb",
   "metadata": {},
   "outputs": [
    {
     "name": "stdout",
     "output_type": "stream",
     "text": [
      "<class 'pandas.core.frame.DataFrame'>\n",
      "Index: 5741 entries, 42 to 46556\n",
      "Data columns (total 13 columns):\n",
      " #   Column         Non-Null Count  Dtype \n",
      "---  ------         --------------  ----- \n",
      " 0   Code           5741 non-null   object\n",
      " 1   Country        5741 non-null   object\n",
      " 2   Region         5741 non-null   object\n",
      " 3   Subregion      5741 non-null   object\n",
      " 4   Indicador      5741 non-null   object\n",
      " 5   Dimension      5741 non-null   object\n",
      " 6   Category       5741 non-null   object\n",
      " 7   Sex            5741 non-null   object\n",
      " 8   Age            5741 non-null   object\n",
      " 9   Year           5741 non-null   object\n",
      " 10  Unidad medida  5741 non-null   object\n",
      " 11  Value          5741 non-null   int32 \n",
      " 12  Source         5741 non-null   object\n",
      "dtypes: int32(1), object(12)\n",
      "memory usage: 605.5+ KB\n"
     ]
    }
   ],
   "source": [
    "trata_exp.info()"
   ]
  },
  {
   "cell_type": "code",
   "execution_count": 202,
   "id": "e275d503",
   "metadata": {},
   "outputs": [
    {
     "data": {
      "text/html": [
       "<div>\n",
       "<style scoped>\n",
       "    .dataframe tbody tr th:only-of-type {\n",
       "        vertical-align: middle;\n",
       "    }\n",
       "\n",
       "    .dataframe tbody tr th {\n",
       "        vertical-align: top;\n",
       "    }\n",
       "\n",
       "    .dataframe thead th {\n",
       "        text-align: right;\n",
       "    }\n",
       "</style>\n",
       "<table border=\"1\" class=\"dataframe\">\n",
       "  <thead>\n",
       "    <tr style=\"text-align: right;\">\n",
       "      <th></th>\n",
       "      <th>Year</th>\n",
       "      <th>Value</th>\n",
       "    </tr>\n",
       "  </thead>\n",
       "  <tbody>\n",
       "    <tr>\n",
       "      <th>0</th>\n",
       "      <td>2014</td>\n",
       "      <td>7954</td>\n",
       "    </tr>\n",
       "    <tr>\n",
       "      <th>1</th>\n",
       "      <td>2015</td>\n",
       "      <td>10961</td>\n",
       "    </tr>\n",
       "    <tr>\n",
       "      <th>2</th>\n",
       "      <td>2016</td>\n",
       "      <td>10959</td>\n",
       "    </tr>\n",
       "    <tr>\n",
       "      <th>3</th>\n",
       "      <td>2017</td>\n",
       "      <td>21794</td>\n",
       "    </tr>\n",
       "    <tr>\n",
       "      <th>4</th>\n",
       "      <td>2018</td>\n",
       "      <td>22252</td>\n",
       "    </tr>\n",
       "    <tr>\n",
       "      <th>5</th>\n",
       "      <td>2019</td>\n",
       "      <td>40266</td>\n",
       "    </tr>\n",
       "    <tr>\n",
       "      <th>6</th>\n",
       "      <td>2020</td>\n",
       "      <td>39023</td>\n",
       "    </tr>\n",
       "    <tr>\n",
       "      <th>7</th>\n",
       "      <td>2021</td>\n",
       "      <td>24267</td>\n",
       "    </tr>\n",
       "  </tbody>\n",
       "</table>\n",
       "</div>"
      ],
      "text/plain": [
       "   Year  Value\n",
       "0  2014   7954\n",
       "1  2015  10961\n",
       "2  2016  10959\n",
       "3  2017  21794\n",
       "4  2018  22252\n",
       "5  2019  40266\n",
       "6  2020  39023\n",
       "7  2021  24267"
      ]
     },
     "execution_count": 202,
     "metadata": {},
     "output_type": "execute_result"
    }
   ],
   "source": [
    "numero_casos= trata_exp.groupby('Year')['Value'].sum().reset_index()\n",
    "\n",
    "numero_casos"
   ]
  },
  {
   "cell_type": "code",
   "execution_count": 203,
   "id": "d03071be",
   "metadata": {},
   "outputs": [
    {
     "data": {
      "image/png": "[encoded data removed]",
      "text/plain": [
       "<Figure size 640x480 with 1 Axes>"
      ]
     },
     "metadata": {},
     "output_type": "display_data"
    }
   ],
   "source": [
    "plt.ylabel(\"Numero de casos\")\n",
    "plt.xlabel(\"Año\")\n",
    "plt.scatter(numero_casos[\"Year\"], numero_casos[\"Value\"], color=\"pink\")\n",
    "plt.show()"
   ]
  },
  {
   "cell_type": "markdown",
   "id": "455fbb46",
   "metadata": {},
   "source": [
    "Aplico el modelo."
   ]
  },
  {
   "cell_type": "code",
   "execution_count": 204,
   "id": "4a646250",
   "metadata": {},
   "outputs": [],
   "source": [
    "regresion1 = linear_model.LinearRegression()"
   ]
  },
  {
   "cell_type": "code",
   "execution_count": 205,
   "id": "2fb0f1f1",
   "metadata": {},
   "outputs": [
    {
     "data": {
      "text/plain": [
       "array([[2014],\n",
       "       [2015],\n",
       "       [2016],\n",
       "       [2017],\n",
       "       [2018],\n",
       "       [2019],\n",
       "       [2020],\n",
       "       [2021]], dtype=int64)"
      ]
     },
     "execution_count": 205,
     "metadata": {},
     "output_type": "execute_result"
    }
   ],
   "source": [
    "años1= numero_casos[\"Year\"].values.reshape((-1,1))\n",
    "años1"
   ]
  },
  {
   "cell_type": "code",
   "execution_count": 206,
   "id": "cd7e7a80",
   "metadata": {},
   "outputs": [],
   "source": [
    "X= años1\n",
    "y = numero_casos[\"Value\"]"
   ]
  },
  {
   "cell_type": "code",
   "execution_count": 207,
   "id": "b0b25755",
   "metadata": {},
   "outputs": [],
   "source": [
    "X_train, X_test, y_train, y_test = train_test_split(X, y, test_size=0.33, random_state=42)"
   ]
  },
  {
   "cell_type": "code",
   "execution_count": 208,
   "id": "aa7deff1",
   "metadata": {},
   "outputs": [
    {
     "data": {
      "image/png": "[encoded data removed]",
      "text/plain": [
       "<Figure size 500x300 with 1 Axes>"
      ]
     },
     "metadata": {},
     "output_type": "display_data"
    }
   ],
   "source": [
    "plt.figure(figsize= (5,3))\n",
    "plt.scatter(X_train, y_train)\n",
    "plt.ticklabel_format(style=\"plain\")\n",
    "\n",
    "plt.xlabel(\"Año\")\n",
    "plt.ylabel(\"Casos\")\n",
    "plt.title(\"Total de casos por año\")\n",
    "plt.show()"
   ]
  },
  {
   "cell_type": "code",
   "execution_count": 209,
   "id": "764ccf20",
   "metadata": {},
   "outputs": [],
   "source": [
    "regr1 = LinearRegression()"
   ]
  },
  {
   "cell_type": "code",
   "execution_count": 210,
   "id": "0ac51dca",
   "metadata": {},
   "outputs": [
    {
     "data": {
      "text/html": [
       "<style>#sk-container-id-4 {color: black;}#sk-container-id-4 pre{padding: 0;}#sk-container-id-4 div.sk-toggleable {background-color: white;}#sk-container-id-4 label.sk-toggleable__label {cursor: pointer;display: block;width: 100%;margin-bottom: 0;padding: 0.3em;box-sizing: border-box;text-align: center;}#sk-container-id-4 label.sk-toggleable__label-arrow:before {content: \"▸\";float: left;margin-right: 0.25em;color: #696969;}#sk-container-id-4 label.sk-toggleable__label-arrow:hover:before {color: black;}#sk-container-id-4 div.sk-estimator:hover label.sk-toggleable__label-arrow:before {color: black;}#sk-container-id-4 div.sk-toggleable__content {max-height: 0;max-width: 0;overflow: hidden;text-align: left;background-color: #f0f8ff;}#sk-container-id-4 div.sk-toggleable__content pre {margin: 0.2em;color: black;border-radius: 0.25em;background-color: #f0f8ff;}#sk-container-id-4 input.sk-toggleable__control:checked~div.sk-toggleable__content {max-height: 200px;max-width: 100%;overflow: auto;}#sk-container-id-4 input.sk-toggleable__control:checked~label.sk-toggleable__label-arrow:before {content: \"▾\";}#sk-container-id-4 div.sk-estimator input.sk-toggleable__control:checked~label.sk-toggleable__label {background-color: #d4ebff;}#sk-container-id-4 div.sk-label input.sk-toggleable__control:checked~label.sk-toggleable__label {background-color: #d4ebff;}#sk-container-id-4 input.sk-hidden--visually {border: 0;clip: rect(1px 1px 1px 1px);clip: rect(1px, 1px, 1px, 1px);height: 1px;margin: -1px;overflow: hidden;padding: 0;position: absolute;width: 1px;}#sk-container-id-4 div.sk-estimator {font-family: monospace;background-color: #f0f8ff;border: 1px dotted black;border-radius: 0.25em;box-sizing: border-box;margin-bottom: 0.5em;}#sk-container-id-4 div.sk-estimator:hover {background-color: #d4ebff;}#sk-container-id-4 div.sk-parallel-item::after {content: \"\";width: 100%;border-bottom: 1px solid gray;flex-grow: 1;}#sk-container-id-4 div.sk-label:hover label.sk-toggleable__label {background-color: #d4ebff;}#sk-container-id-4 div.sk-serial::before {content: \"\";position: absolute;border-left: 1px solid gray;box-sizing: border-box;top: 0;bottom: 0;left: 50%;z-index: 0;}#sk-container-id-4 div.sk-serial {display: flex;flex-direction: column;align-items: center;background-color: white;padding-right: 0.2em;padding-left: 0.2em;position: relative;}#sk-container-id-4 div.sk-item {position: relative;z-index: 1;}#sk-container-id-4 div.sk-parallel {display: flex;align-items: stretch;justify-content: center;background-color: white;position: relative;}#sk-container-id-4 div.sk-item::before, #sk-container-id-4 div.sk-parallel-item::before {content: \"\";position: absolute;border-left: 1px solid gray;box-sizing: border-box;top: 0;bottom: 0;left: 50%;z-index: -1;}#sk-container-id-4 div.sk-parallel-item {display: flex;flex-direction: column;z-index: 1;position: relative;background-color: white;}#sk-container-id-4 div.sk-parallel-item:first-child::after {align-self: flex-end;width: 50%;}#sk-container-id-4 div.sk-parallel-item:last-child::after {align-self: flex-start;width: 50%;}#sk-container-id-4 div.sk-parallel-item:only-child::after {width: 0;}#sk-container-id-4 div.sk-dashed-wrapped {border: 1px dashed gray;margin: 0 0.4em 0.5em 0.4em;box-sizing: border-box;padding-bottom: 0.4em;background-color: white;}#sk-container-id-4 div.sk-label label {font-family: monospace;font-weight: bold;display: inline-block;line-height: 1.2em;}#sk-container-id-4 div.sk-label-container {text-align: center;}#sk-container-id-4 div.sk-container {/* jupyter's `normalize.less` sets `[hidden] { display: none; }` but bootstrap.min.css set `[hidden] { display: none !important; }` so we also need the `!important` here to be able to override the default hidden behavior on the sphinx rendered scikit-learn.org. See: https://github.com/scikit-learn/scikit-learn/issues/21755 */display: inline-block !important;position: relative;}#sk-container-id-4 div.sk-text-repr-fallback {display: none;}</style><div id=\"sk-container-id-4\" class=\"sk-top-container\"><div class=\"sk-text-repr-fallback\"><pre>LinearRegression()</pre><b>In a Jupyter environment, please rerun this cell to show the HTML representation or trust the notebook. <br />On GitHub, the HTML representation is unable to render, please try loading this page with nbviewer.org.</b></div><div class=\"sk-container\" hidden><div class=\"sk-item\"><div class=\"sk-estimator sk-toggleable\"><input class=\"sk-toggleable__control sk-hidden--visually\" id=\"sk-estimator-id-4\" type=\"checkbox\" checked><label for=\"sk-estimator-id-4\" class=\"sk-toggleable__label sk-toggleable__label-arrow\">LinearRegression</label><div class=\"sk-toggleable__content\"><pre>LinearRegression()</pre></div></div></div></div></div>"
      ],
      "text/plain": [
       "LinearRegression()"
      ]
     },
     "execution_count": 210,
     "metadata": {},
     "output_type": "execute_result"
    }
   ],
   "source": [
    "regr1.fit(X_train,y_train)"
   ]
  },
  {
   "cell_type": "code",
   "execution_count": 211,
   "id": "862df6b3",
   "metadata": {},
   "outputs": [
    {
     "name": "stdout",
     "output_type": "stream",
     "text": [
      "Coeficiente :3477.732558139534\n"
     ]
    }
   ],
   "source": [
    "print(f\"Coeficiente :{regr1.coef_[0]}\")"
   ]
  },
  {
   "cell_type": "code",
   "execution_count": 212,
   "id": "976ccd21",
   "metadata": {},
   "outputs": [
    {
     "name": "stdout",
     "output_type": "stream",
     "text": [
      "Intercepto: -6995796.395348836\n"
     ]
    }
   ],
   "source": [
    "print(f\"Intercepto: {regr1.intercept_}\")"
   ]
  },
  {
   "cell_type": "code",
   "execution_count": 213,
   "id": "ef3fd26b",
   "metadata": {},
   "outputs": [
    {
     "data": {
      "text/plain": [
       "array([11834.70930232, 25745.63953488,  8356.97674419])"
      ]
     },
     "execution_count": 213,
     "metadata": {},
     "output_type": "execute_result"
    }
   ],
   "source": [
    "y_predict1 = regr1.predict (X_test)\n",
    "y_predict1"
   ]
  },
  {
   "cell_type": "code",
   "execution_count": 214,
   "id": "11e1f592",
   "metadata": {},
   "outputs": [
    {
     "data": {
      "text/plain": [
       "0.6677111445647981"
      ]
     },
     "execution_count": 214,
     "metadata": {},
     "output_type": "execute_result"
    }
   ],
   "source": [
    "from sklearn.metrics import r2_score\n",
    "\n",
    "escor= r2_score(y_test, y_predict1)\n",
    "escor"
   ]
  },
  {
   "cell_type": "code",
   "execution_count": 142,
   "id": "650ae7ee",
   "metadata": {},
   "outputs": [
    {
     "data": {
      "text/plain": [
       "<function matplotlib.pyplot.show(close=None, block=None)>"
      ]
     },
     "execution_count": 142,
     "metadata": {},
     "output_type": "execute_result"
    },
    {
     "data": {
      "image/png": "[encoded data removed]",
      "text/plain": [
       "<Figure size 500x300 with 1 Axes>"
      ]
     },
     "metadata": {},
     "output_type": "display_data"
    }
   ],
   "source": [
    "plt.figure(figsize=(5,3))\n",
    "plt.plot(X, y, \"o\")\n",
    "plt.plot(X_test,y_predict1)\n",
    "plt.title (\"y_predict vs. X\")\n",
    "plt.xlabel(\"X\")\n",
    "plt.ylabel(\"y_predict1\")\n",
    "plt.ticklabel_format(style=\"plain\")\n",
    "plt.show"
   ]
  },
  {
   "cell_type": "markdown",
   "id": "5d21dee4",
   "metadata": {},
   "source": [
    "Prediccion hasta el año 2040"
   ]
  },
  {
   "cell_type": "code",
   "execution_count": 221,
   "id": "af6a5140",
   "metadata": {},
   "outputs": [
    {
     "data": {
      "text/plain": [
       "(20, 1)"
      ]
     },
     "execution_count": 221,
     "metadata": {},
     "output_type": "execute_result"
    }
   ],
   "source": [
    "X_future1 = np.array(range(2021,2041)).reshape(-1,1)\n",
    "X_future1.shape"
   ]
  },
  {
   "cell_type": "code",
   "execution_count": 223,
   "id": "8d7c24fc",
   "metadata": {},
   "outputs": [],
   "source": [
    "futuro1 =regr1.predict(X_future1)"
   ]
  },
  {
   "cell_type": "code",
   "execution_count": 224,
   "id": "a87903f6",
   "metadata": {},
   "outputs": [
    {
     "data": {
      "text/plain": [
       "<function matplotlib.pyplot.show(close=None, block=None)>"
      ]
     },
     "execution_count": 224,
     "metadata": {},
     "output_type": "execute_result"
    },
    {
     "data": {
      "image/png": "[encoded data removed]",
      "text/plain": [
       "<Figure size 500x300 with 1 Axes>"
      ]
     },
     "metadata": {},
     "output_type": "display_data"
    }
   ],
   "source": [
    "plt.figure(figsize=(5,3))\n",
    "plt.plot(X, y, \"o\")\n",
    "plt.plot(X_test, y_predict1)\n",
    "plt.scatter(X_future1, futuro1, color= \"red\")\n",
    "plt.title (\"Pronostico de casos\")\n",
    "plt.xlabel(\"Años\")\n",
    "plt.ylabel(\"Casos en promedio\")\n",
    "plt.ticklabel_format(style=\"plain\")\n",
    "plt.show"
   ]
  }
 ],
 "metadata": {
  "kernelspec": {
   "display_name": "Python 3 (ipykernel)",
   "language": "python",
   "name": "python3"
  },
  "language_info": {
   "codemirror_mode": {
    "name": "ipython",
    "version": 3
   },
   "file_extension": ".py",
   "mimetype": "text/x-python",
   "name": "python",
   "nbconvert_exporter": "python",
   "pygments_lexer": "ipython3",
   "version": "3.11.4"
  }
 },
 "nbformat": 4,
 "nbformat_minor": 5
}
