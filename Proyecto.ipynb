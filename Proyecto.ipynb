{
 "cells": [
  {
   "cell_type": "markdown",
   "id": "0d92e549-9ee1-494d-b2a7-19ff3b541701",
   "metadata": {},
   "source": [
    "Se importan las librerías que vamos a utilizar."
   ]
  },
  {
   "cell_type": "code",
   "execution_count": 1,
   "id": "c2bc3381-a055-4de3-88eb-dca2f898816e",
   "metadata": {
    "tags": []
   },
   "outputs": [],
   "source": [
    "import pandas as pd\n",
    "import numpy as np\n",
    "import matplotlib.pyplot as plt\n",
    "import seaborn as sns"
   ]
  },
  {
   "cell_type": "markdown",
   "id": "57efa701-d17f-4328-81a4-61bdc012ecff",
   "metadata": {},
   "source": [
    "Se cargan los archivos del set de datos."
   ]
  },
  {
   "cell_type": "code",
   "execution_count": 2,
   "id": "3d60f8bf-c20b-475f-b6ca-357a49055614",
   "metadata": {
    "tags": []
   },
   "outputs": [],
   "source": [
    "trata = pd.read_excel('set-de-datos/data_glotip.xlsx') #Lectura de Archivo"
   ]
  },
  {
   "cell_type": "markdown",
   "id": "134b02d2-99d5-45a8-a22a-b24e8a72564b",
   "metadata": {},
   "source": [
    "Informacion del dataframe."
   ]
  },
  {
   "cell_type": "code",
   "execution_count": 3,
   "id": "422e525a-75ad-41f0-a12f-4dcc2926e83d",
   "metadata": {
    "tags": []
   },
   "outputs": [
    {
     "name": "stdout",
     "output_type": "stream",
     "text": [
      "<class 'pandas.core.frame.DataFrame'>\n",
      "RangeIndex: 46558 entries, 0 to 46557\n",
      "Data columns (total 13 columns):\n",
      " #   Column             Non-Null Count  Dtype \n",
      "---  ------             --------------  ----- \n",
      " 0   UNODC              46532 non-null  object\n",
      " 1   unodc_ddds@un.org  45600 non-null  object\n",
      " 2   Unnamed: 2         45600 non-null  object\n",
      " 3   Unnamed: 3         45600 non-null  object\n",
      " 4   Unnamed: 4         46557 non-null  object\n",
      " 5   Unnamed: 5         46557 non-null  object\n",
      " 6   Unnamed: 6         46470 non-null  object\n",
      " 7   Unnamed: 7         46557 non-null  object\n",
      " 8   Unnamed: 8         46557 non-null  object\n",
      " 9   Unnamed: 9         46557 non-null  object\n",
      " 10  Unnamed: 10        46557 non-null  object\n",
      " 11  Unnamed: 11        46557 non-null  object\n",
      " 12  Unnamed: 12        46557 non-null  object\n",
      "dtypes: object(13)\n",
      "memory usage: 4.6+ MB\n"
     ]
    }
   ],
   "source": [
    "trata.info()"
   ]
  },
  {
   "cell_type": "markdown",
   "id": "2837fbb8-980c-47c1-ae76-48002c26682b",
   "metadata": {},
   "source": [
    "Se realiza vista previa del dataframe."
   ]
  },
  {
   "cell_type": "code",
   "execution_count": 4,
   "id": "2b1f7c16-b426-46f0-a3fe-5ec1b0aed953",
   "metadata": {
    "tags": []
   },
   "outputs": [
    {
     "data": {
      "text/html": [
       "<div>\n",
       "<style scoped>\n",
       "    .dataframe tbody tr th:only-of-type {\n",
       "        vertical-align: middle;\n",
       "    }\n",
       "\n",
       "    .dataframe tbody tr th {\n",
       "        vertical-align: top;\n",
       "    }\n",
       "\n",
       "    .dataframe thead th {\n",
       "        text-align: right;\n",
       "    }\n",
       "</style>\n",
       "<table border=\"1\" class=\"dataframe\">\n",
       "  <thead>\n",
       "    <tr style=\"text-align: right;\">\n",
       "      <th></th>\n",
       "      <th>UNODC</th>\n",
       "      <th>unodc_ddds@un.org</th>\n",
       "      <th>Unnamed: 2</th>\n",
       "      <th>Unnamed: 3</th>\n",
       "      <th>Unnamed: 4</th>\n",
       "      <th>Unnamed: 5</th>\n",
       "      <th>Unnamed: 6</th>\n",
       "      <th>Unnamed: 7</th>\n",
       "      <th>Unnamed: 8</th>\n",
       "      <th>Unnamed: 9</th>\n",
       "      <th>Unnamed: 10</th>\n",
       "      <th>Unnamed: 11</th>\n",
       "      <th>Unnamed: 12</th>\n",
       "    </tr>\n",
       "  </thead>\n",
       "  <tbody>\n",
       "    <tr>\n",
       "      <th>0</th>\n",
       "      <td>30/05/2023</td>\n",
       "      <td>NaN</td>\n",
       "      <td>NaN</td>\n",
       "      <td>NaN</td>\n",
       "      <td>NaN</td>\n",
       "      <td>NaN</td>\n",
       "      <td>NaN</td>\n",
       "      <td>NaN</td>\n",
       "      <td>NaN</td>\n",
       "      <td>NaN</td>\n",
       "      <td>NaN</td>\n",
       "      <td>NaN</td>\n",
       "      <td>NaN</td>\n",
       "    </tr>\n",
       "    <tr>\n",
       "      <th>1</th>\n",
       "      <td>Iso3_code</td>\n",
       "      <td>Country</td>\n",
       "      <td>Region</td>\n",
       "      <td>Subregion</td>\n",
       "      <td>Indicator</td>\n",
       "      <td>Dimension</td>\n",
       "      <td>Category</td>\n",
       "      <td>Sex</td>\n",
       "      <td>Age</td>\n",
       "      <td>Year</td>\n",
       "      <td>Unit of measurement</td>\n",
       "      <td>txtVALUE</td>\n",
       "      <td>Source</td>\n",
       "    </tr>\n",
       "    <tr>\n",
       "      <th>2</th>\n",
       "      <td>ABW</td>\n",
       "      <td>Aruba</td>\n",
       "      <td>Americas</td>\n",
       "      <td>Latin America and the Caribbean</td>\n",
       "      <td>Detected trafficking victims</td>\n",
       "      <td>by country of repatriation</td>\n",
       "      <td>Ukraine</td>\n",
       "      <td>Total</td>\n",
       "      <td>Total</td>\n",
       "      <td>2010</td>\n",
       "      <td>Counts</td>\n",
       "      <td>&lt;5</td>\n",
       "      <td>GLOTIP</td>\n",
       "    </tr>\n",
       "    <tr>\n",
       "      <th>3</th>\n",
       "      <td>AFG</td>\n",
       "      <td>Afghanistan</td>\n",
       "      <td>Asia</td>\n",
       "      <td>Southern Asia</td>\n",
       "      <td>Detected trafficking victims</td>\n",
       "      <td>by country of repatriation</td>\n",
       "      <td>Abroad</td>\n",
       "      <td>Total</td>\n",
       "      <td>Total</td>\n",
       "      <td>2003</td>\n",
       "      <td>Counts</td>\n",
       "      <td>&lt;5</td>\n",
       "      <td>GLOTIP</td>\n",
       "    </tr>\n",
       "    <tr>\n",
       "      <th>4</th>\n",
       "      <td>AFG</td>\n",
       "      <td>Afghanistan</td>\n",
       "      <td>Asia</td>\n",
       "      <td>Southern Asia</td>\n",
       "      <td>Detected trafficking victims</td>\n",
       "      <td>by country of repatriation</td>\n",
       "      <td>Abroad</td>\n",
       "      <td>Total</td>\n",
       "      <td>Total</td>\n",
       "      <td>2008</td>\n",
       "      <td>Counts</td>\n",
       "      <td>&lt;5</td>\n",
       "      <td>GLOTIP</td>\n",
       "    </tr>\n",
       "  </tbody>\n",
       "</table>\n",
       "</div>"
      ],
      "text/plain": [
       "        UNODC unodc_ddds@un.org Unnamed: 2                       Unnamed: 3  \\\n",
       "0  30/05/2023               NaN        NaN                              NaN   \n",
       "1   Iso3_code           Country     Region                        Subregion   \n",
       "2         ABW             Aruba   Americas  Latin America and the Caribbean   \n",
       "3         AFG       Afghanistan       Asia                    Southern Asia   \n",
       "4         AFG       Afghanistan       Asia                    Southern Asia   \n",
       "\n",
       "                     Unnamed: 4                  Unnamed: 5 Unnamed: 6  \\\n",
       "0                           NaN                         NaN        NaN   \n",
       "1                     Indicator                   Dimension   Category   \n",
       "2  Detected trafficking victims  by country of repatriation    Ukraine   \n",
       "3  Detected trafficking victims  by country of repatriation     Abroad   \n",
       "4  Detected trafficking victims  by country of repatriation     Abroad   \n",
       "\n",
       "  Unnamed: 7 Unnamed: 8 Unnamed: 9          Unnamed: 10 Unnamed: 11  \\\n",
       "0        NaN        NaN        NaN                  NaN         NaN   \n",
       "1        Sex        Age       Year  Unit of measurement    txtVALUE   \n",
       "2      Total      Total       2010               Counts          <5   \n",
       "3      Total      Total       2003               Counts          <5   \n",
       "4      Total      Total       2008               Counts          <5   \n",
       "\n",
       "  Unnamed: 12  \n",
       "0         NaN  \n",
       "1      Source  \n",
       "2      GLOTIP  \n",
       "3      GLOTIP  \n",
       "4      GLOTIP  "
      ]
     },
     "execution_count": 4,
     "metadata": {},
     "output_type": "execute_result"
    }
   ],
   "source": [
    "trata.head()"
   ]
  },
  {
   "cell_type": "markdown",
   "id": "391d5b70-7ab7-451b-a5d7-828e9b6af416",
   "metadata": {},
   "source": [
    "Elimino el primer y segundo registro que son irrelevantes."
   ]
  },
  {
   "cell_type": "code",
   "execution_count": 5,
   "id": "fcee9cc7-b063-4296-aca5-d325de84fbb2",
   "metadata": {
    "tags": []
   },
   "outputs": [
    {
     "data": {
      "text/html": [
       "<div>\n",
       "<style scoped>\n",
       "    .dataframe tbody tr th:only-of-type {\n",
       "        vertical-align: middle;\n",
       "    }\n",
       "\n",
       "    .dataframe tbody tr th {\n",
       "        vertical-align: top;\n",
       "    }\n",
       "\n",
       "    .dataframe thead th {\n",
       "        text-align: right;\n",
       "    }\n",
       "</style>\n",
       "<table border=\"1\" class=\"dataframe\">\n",
       "  <thead>\n",
       "    <tr style=\"text-align: right;\">\n",
       "      <th></th>\n",
       "      <th>UNODC</th>\n",
       "      <th>unodc_ddds@un.org</th>\n",
       "      <th>Unnamed: 2</th>\n",
       "      <th>Unnamed: 3</th>\n",
       "      <th>Unnamed: 4</th>\n",
       "      <th>Unnamed: 5</th>\n",
       "      <th>Unnamed: 6</th>\n",
       "      <th>Unnamed: 7</th>\n",
       "      <th>Unnamed: 8</th>\n",
       "      <th>Unnamed: 9</th>\n",
       "      <th>Unnamed: 10</th>\n",
       "      <th>Unnamed: 11</th>\n",
       "      <th>Unnamed: 12</th>\n",
       "    </tr>\n",
       "  </thead>\n",
       "  <tbody>\n",
       "    <tr>\n",
       "      <th>2</th>\n",
       "      <td>ABW</td>\n",
       "      <td>Aruba</td>\n",
       "      <td>Americas</td>\n",
       "      <td>Latin America and the Caribbean</td>\n",
       "      <td>Detected trafficking victims</td>\n",
       "      <td>by country of repatriation</td>\n",
       "      <td>Ukraine</td>\n",
       "      <td>Total</td>\n",
       "      <td>Total</td>\n",
       "      <td>2010</td>\n",
       "      <td>Counts</td>\n",
       "      <td>&lt;5</td>\n",
       "      <td>GLOTIP</td>\n",
       "    </tr>\n",
       "    <tr>\n",
       "      <th>3</th>\n",
       "      <td>AFG</td>\n",
       "      <td>Afghanistan</td>\n",
       "      <td>Asia</td>\n",
       "      <td>Southern Asia</td>\n",
       "      <td>Detected trafficking victims</td>\n",
       "      <td>by country of repatriation</td>\n",
       "      <td>Abroad</td>\n",
       "      <td>Total</td>\n",
       "      <td>Total</td>\n",
       "      <td>2003</td>\n",
       "      <td>Counts</td>\n",
       "      <td>&lt;5</td>\n",
       "      <td>GLOTIP</td>\n",
       "    </tr>\n",
       "    <tr>\n",
       "      <th>4</th>\n",
       "      <td>AFG</td>\n",
       "      <td>Afghanistan</td>\n",
       "      <td>Asia</td>\n",
       "      <td>Southern Asia</td>\n",
       "      <td>Detected trafficking victims</td>\n",
       "      <td>by country of repatriation</td>\n",
       "      <td>Abroad</td>\n",
       "      <td>Total</td>\n",
       "      <td>Total</td>\n",
       "      <td>2008</td>\n",
       "      <td>Counts</td>\n",
       "      <td>&lt;5</td>\n",
       "      <td>GLOTIP</td>\n",
       "    </tr>\n",
       "    <tr>\n",
       "      <th>5</th>\n",
       "      <td>AFG</td>\n",
       "      <td>Afghanistan</td>\n",
       "      <td>Asia</td>\n",
       "      <td>Southern Asia</td>\n",
       "      <td>Offences of trafficking in persons</td>\n",
       "      <td>Total</td>\n",
       "      <td>Total</td>\n",
       "      <td>Total</td>\n",
       "      <td>Total</td>\n",
       "      <td>2013</td>\n",
       "      <td>Counts</td>\n",
       "      <td>103</td>\n",
       "      <td>GLOTIP</td>\n",
       "    </tr>\n",
       "    <tr>\n",
       "      <th>6</th>\n",
       "      <td>AFG</td>\n",
       "      <td>Afghanistan</td>\n",
       "      <td>Asia</td>\n",
       "      <td>Southern Asia</td>\n",
       "      <td>Persons brought into formal contact</td>\n",
       "      <td>Total</td>\n",
       "      <td>Total</td>\n",
       "      <td>Total</td>\n",
       "      <td>Total</td>\n",
       "      <td>2013</td>\n",
       "      <td>Counts</td>\n",
       "      <td>167</td>\n",
       "      <td>GLOTIP</td>\n",
       "    </tr>\n",
       "  </tbody>\n",
       "</table>\n",
       "</div>"
      ],
      "text/plain": [
       "  UNODC unodc_ddds@un.org Unnamed: 2                       Unnamed: 3  \\\n",
       "2   ABW             Aruba   Americas  Latin America and the Caribbean   \n",
       "3   AFG       Afghanistan       Asia                    Southern Asia   \n",
       "4   AFG       Afghanistan       Asia                    Southern Asia   \n",
       "5   AFG       Afghanistan       Asia                    Southern Asia   \n",
       "6   AFG       Afghanistan       Asia                    Southern Asia   \n",
       "\n",
       "                            Unnamed: 4                  Unnamed: 5 Unnamed: 6  \\\n",
       "2         Detected trafficking victims  by country of repatriation    Ukraine   \n",
       "3         Detected trafficking victims  by country of repatriation     Abroad   \n",
       "4         Detected trafficking victims  by country of repatriation     Abroad   \n",
       "5   Offences of trafficking in persons                       Total      Total   \n",
       "6  Persons brought into formal contact                       Total      Total   \n",
       "\n",
       "  Unnamed: 7 Unnamed: 8 Unnamed: 9 Unnamed: 10 Unnamed: 11 Unnamed: 12  \n",
       "2      Total      Total       2010      Counts          <5      GLOTIP  \n",
       "3      Total      Total       2003      Counts          <5      GLOTIP  \n",
       "4      Total      Total       2008      Counts          <5      GLOTIP  \n",
       "5      Total      Total       2013      Counts         103      GLOTIP  \n",
       "6      Total      Total       2013      Counts         167      GLOTIP  "
      ]
     },
     "execution_count": 5,
     "metadata": {},
     "output_type": "execute_result"
    }
   ],
   "source": [
    "trata = trata.drop(0)\n",
    "trata = trata.drop(1)\n",
    "\n",
    "trata.head()"
   ]
  },
  {
   "cell_type": "markdown",
   "id": "06116e07-e1f0-41f5-a2ae-eaaf7f0af9f8",
   "metadata": {},
   "source": [
    "Renombre de columnas."
   ]
  },
  {
   "cell_type": "code",
   "execution_count": 6,
   "id": "28cf4b8a-192f-45e1-9b01-2f4b4658bfe2",
   "metadata": {
    "tags": []
   },
   "outputs": [
    {
     "data": {
      "text/html": [
       "<div>\n",
       "<style scoped>\n",
       "    .dataframe tbody tr th:only-of-type {\n",
       "        vertical-align: middle;\n",
       "    }\n",
       "\n",
       "    .dataframe tbody tr th {\n",
       "        vertical-align: top;\n",
       "    }\n",
       "\n",
       "    .dataframe thead th {\n",
       "        text-align: right;\n",
       "    }\n",
       "</style>\n",
       "<table border=\"1\" class=\"dataframe\">\n",
       "  <thead>\n",
       "    <tr style=\"text-align: right;\">\n",
       "      <th></th>\n",
       "      <th>Cod. Pais</th>\n",
       "      <th>Pais</th>\n",
       "      <th>Region</th>\n",
       "      <th>Sub Region</th>\n",
       "      <th>Indicador</th>\n",
       "      <th>Dimension</th>\n",
       "      <th>Categoría</th>\n",
       "      <th>Sexo</th>\n",
       "      <th>Edad</th>\n",
       "      <th>Año</th>\n",
       "      <th>Unidad medida</th>\n",
       "      <th>Valor</th>\n",
       "      <th>Fuente</th>\n",
       "    </tr>\n",
       "  </thead>\n",
       "  <tbody>\n",
       "    <tr>\n",
       "      <th>2</th>\n",
       "      <td>ABW</td>\n",
       "      <td>Aruba</td>\n",
       "      <td>Americas</td>\n",
       "      <td>Latin America and the Caribbean</td>\n",
       "      <td>Detected trafficking victims</td>\n",
       "      <td>by country of repatriation</td>\n",
       "      <td>Ukraine</td>\n",
       "      <td>Total</td>\n",
       "      <td>Total</td>\n",
       "      <td>2010</td>\n",
       "      <td>Counts</td>\n",
       "      <td>&lt;5</td>\n",
       "      <td>GLOTIP</td>\n",
       "    </tr>\n",
       "    <tr>\n",
       "      <th>3</th>\n",
       "      <td>AFG</td>\n",
       "      <td>Afghanistan</td>\n",
       "      <td>Asia</td>\n",
       "      <td>Southern Asia</td>\n",
       "      <td>Detected trafficking victims</td>\n",
       "      <td>by country of repatriation</td>\n",
       "      <td>Abroad</td>\n",
       "      <td>Total</td>\n",
       "      <td>Total</td>\n",
       "      <td>2003</td>\n",
       "      <td>Counts</td>\n",
       "      <td>&lt;5</td>\n",
       "      <td>GLOTIP</td>\n",
       "    </tr>\n",
       "    <tr>\n",
       "      <th>4</th>\n",
       "      <td>AFG</td>\n",
       "      <td>Afghanistan</td>\n",
       "      <td>Asia</td>\n",
       "      <td>Southern Asia</td>\n",
       "      <td>Detected trafficking victims</td>\n",
       "      <td>by country of repatriation</td>\n",
       "      <td>Abroad</td>\n",
       "      <td>Total</td>\n",
       "      <td>Total</td>\n",
       "      <td>2008</td>\n",
       "      <td>Counts</td>\n",
       "      <td>&lt;5</td>\n",
       "      <td>GLOTIP</td>\n",
       "    </tr>\n",
       "    <tr>\n",
       "      <th>5</th>\n",
       "      <td>AFG</td>\n",
       "      <td>Afghanistan</td>\n",
       "      <td>Asia</td>\n",
       "      <td>Southern Asia</td>\n",
       "      <td>Offences of trafficking in persons</td>\n",
       "      <td>Total</td>\n",
       "      <td>Total</td>\n",
       "      <td>Total</td>\n",
       "      <td>Total</td>\n",
       "      <td>2013</td>\n",
       "      <td>Counts</td>\n",
       "      <td>103</td>\n",
       "      <td>GLOTIP</td>\n",
       "    </tr>\n",
       "    <tr>\n",
       "      <th>6</th>\n",
       "      <td>AFG</td>\n",
       "      <td>Afghanistan</td>\n",
       "      <td>Asia</td>\n",
       "      <td>Southern Asia</td>\n",
       "      <td>Persons brought into formal contact</td>\n",
       "      <td>Total</td>\n",
       "      <td>Total</td>\n",
       "      <td>Total</td>\n",
       "      <td>Total</td>\n",
       "      <td>2013</td>\n",
       "      <td>Counts</td>\n",
       "      <td>167</td>\n",
       "      <td>GLOTIP</td>\n",
       "    </tr>\n",
       "  </tbody>\n",
       "</table>\n",
       "</div>"
      ],
      "text/plain": [
       "  Cod. Pais         Pais    Region                       Sub Region  \\\n",
       "2       ABW        Aruba  Americas  Latin America and the Caribbean   \n",
       "3       AFG  Afghanistan      Asia                    Southern Asia   \n",
       "4       AFG  Afghanistan      Asia                    Southern Asia   \n",
       "5       AFG  Afghanistan      Asia                    Southern Asia   \n",
       "6       AFG  Afghanistan      Asia                    Southern Asia   \n",
       "\n",
       "                             Indicador                   Dimension Categoría  \\\n",
       "2         Detected trafficking victims  by country of repatriation   Ukraine   \n",
       "3         Detected trafficking victims  by country of repatriation    Abroad   \n",
       "4         Detected trafficking victims  by country of repatriation    Abroad   \n",
       "5   Offences of trafficking in persons                       Total     Total   \n",
       "6  Persons brought into formal contact                       Total     Total   \n",
       "\n",
       "    Sexo   Edad   Año Unidad medida Valor  Fuente  \n",
       "2  Total  Total  2010        Counts    <5  GLOTIP  \n",
       "3  Total  Total  2003        Counts    <5  GLOTIP  \n",
       "4  Total  Total  2008        Counts    <5  GLOTIP  \n",
       "5  Total  Total  2013        Counts   103  GLOTIP  \n",
       "6  Total  Total  2013        Counts   167  GLOTIP  "
      ]
     },
     "execution_count": 6,
     "metadata": {},
     "output_type": "execute_result"
    }
   ],
   "source": [
    "trata.rename(columns={'UNODC': 'Cod. Pais', 'unodc_ddds@un.org': 'Pais', 'Unnamed: 2': 'Region', 'Unnamed: 3': 'Sub Region', 'Unnamed: 4': 'Indicador', 'Unnamed: 5': 'Dimension', 'Unnamed: 6': 'Categoría', 'Unnamed: 7': 'Sexo', 'Unnamed: 8': 'Edad', 'Unnamed: 9': 'Año', 'Unnamed: 10': 'Unidad medida', 'Unnamed: 11': 'Valor',  'Unnamed: 12': 'Fuente'}, inplace=True)\n",
    "trata.head()"
   ]
  },
  {
   "cell_type": "markdown",
   "id": "50177788",
   "metadata": {},
   "source": [
    "Columna \"Dimension\""
   ]
  },
  {
   "cell_type": "markdown",
   "id": "45eeb7b5",
   "metadata": {},
   "source": [
    "Valores unicos de la columna"
   ]
  },
  {
   "cell_type": "code",
   "execution_count": 7,
   "id": "06cf707c-03eb-449e-850d-15a23968c33b",
   "metadata": {},
   "outputs": [
    {
     "name": "stdout",
     "output_type": "stream",
     "text": [
      "['by country of repatriation' 'Total' 'by form of exploitation'\n",
      " 'by citizenship']\n"
     ]
    }
   ],
   "source": [
    "valores_unicos = trata[\"Dimension\"].unique()\n",
    "\n",
    "print(valores_unicos)"
   ]
  },
  {
   "cell_type": "markdown",
   "id": "155c9c11",
   "metadata": {},
   "source": [
    "Valores pertenecientes a cada dimension:"
   ]
  },
  {
   "cell_type": "code",
   "execution_count": 28,
   "id": "a0f68618",
   "metadata": {},
   "outputs": [
    {
     "name": "stdout",
     "output_type": "stream",
     "text": [
      "Dimension\n",
      "Total                         23802\n",
      "by form of exploitation       13202\n",
      "by citizenship                 7722\n",
      "by country of repatriation     1830\n",
      "Name: count, dtype: int64\n"
     ]
    }
   ],
   "source": [
    "conteos = trata[\"Dimension\"].value_counts()\n",
    "print(conteos)"
   ]
  },
  {
   "cell_type": "code",
   "execution_count": 14,
   "id": "d8942de8",
   "metadata": {},
   "outputs": [
    {
     "data": {
      "image/png": "[encoded data removed]",
      "text/plain": [
       "<Figure size 640x480 with 1 Axes>"
      ]
     },
     "metadata": {},
     "output_type": "display_data"
    }
   ],
   "source": [
    "dimension = trata['Dimension']\n",
    "categoria = trata['Categoría']\n",
    "\n",
    "contar = dimension.value_counts()\n",
    "plt.pie(contar.values, labels=contar.index, autopct='%1.1f%%')\n",
    "plt.axis('equal') \n",
    "plt.title('Distribución')\n",
    "plt.show()"
   ]
  },
  {
   "cell_type": "markdown",
   "id": "c33936fd",
   "metadata": {},
   "source": [
    "Se hace una nueva tabla para ver la relacion entre Dimension y Categoria"
   ]
  },
  {
   "cell_type": "code",
   "execution_count": 15,
   "id": "7c593939",
   "metadata": {},
   "outputs": [
    {
     "name": "stdout",
     "output_type": "stream",
     "text": [
      "                        Dimension                    Categoría\n",
      "2      by country of repatriation                      Ukraine\n",
      "3      by country of repatriation                       Abroad\n",
      "4      by country of repatriation                       Abroad\n",
      "5                           Total                        Total\n",
      "6                           Total                        Total\n",
      "...                           ...                          ...\n",
      "46553     by form of exploitation  Other forms of exploitation\n",
      "46554     by form of exploitation  Other forms of exploitation\n",
      "46555     by form of exploitation  Other forms of exploitation\n",
      "46556     by form of exploitation  Other forms of exploitation\n",
      "46557     by form of exploitation  Other forms of exploitation\n",
      "\n",
      "[46556 rows x 2 columns]\n"
     ]
    }
   ],
   "source": [
    "columna1 = trata[\"Dimension\"]\n",
    "columna2 = trata[\"Categoría\"]\n",
    "\n",
    "df_new = pd.concat([columna1, columna2,], axis=1)\n",
    "\n",
    "print(df_new)"
   ]
  },
  {
   "cell_type": "code",
   "execution_count": 31,
   "id": "89ac144f",
   "metadata": {},
   "outputs": [
    {
     "data": {
      "text/plain": [
       "Dimension    object\n",
       "Categoría    object\n",
       "dtype: object"
      ]
     },
     "execution_count": 31,
     "metadata": {},
     "output_type": "execute_result"
    }
   ],
   "source": [
    "df_new.dtypes"
   ]
  },
  {
   "cell_type": "code",
   "execution_count": 32,
   "id": "b8344345",
   "metadata": {},
   "outputs": [
    {
     "name": "stdout",
     "output_type": "stream",
     "text": [
      "<class 'pandas.core.frame.DataFrame'>\n",
      "RangeIndex: 46556 entries, 2 to 46557\n",
      "Data columns (total 2 columns):\n",
      " #   Column     Non-Null Count  Dtype \n",
      "---  ------     --------------  ----- \n",
      " 0   Dimension  46556 non-null  object\n",
      " 1   Categoría  46469 non-null  object\n",
      "dtypes: object(2)\n",
      "memory usage: 727.6+ KB\n"
     ]
    }
   ],
   "source": [
    "df_new.info()"
   ]
  },
  {
   "cell_type": "markdown",
   "id": "cdd96910",
   "metadata": {},
   "source": [
    "Exploracion de las cada categoria de dimension:"
   ]
  },
  {
   "cell_type": "markdown",
   "id": "f8cdd7f1",
   "metadata": {},
   "source": [
    "\"by citizenship\""
   ]
  },
  {
   "cell_type": "code",
   "execution_count": 16,
   "id": "50445757",
   "metadata": {},
   "outputs": [
    {
     "name": "stdout",
     "output_type": "stream",
     "text": [
      "21           Congo\n",
      "40           Congo\n",
      "41       Nationals\n",
      "69           Congo\n",
      "70         Namibia\n",
      "           ...    \n",
      "37653       Angola\n",
      "37654        Congo\n",
      "37655       Rwanda\n",
      "37656       Zambia\n",
      "37711     Zimbabwe\n",
      "Name: Categoría, Length: 7722, dtype: object\n"
     ]
    }
   ],
   "source": [
    "dimensión = df_new[\"Dimension\"]\n",
    "categoría = df_new[\"Categoría\"]\n",
    "\n",
    "df_filtrado = df_new.loc[dimensión == \"by citizenship\"]\n",
    "\n",
    "print(df_filtrado[\"Categoría\"])"
   ]
  },
  {
   "cell_type": "code",
   "execution_count": 17,
   "id": "ddb4e15e",
   "metadata": {},
   "outputs": [
    {
     "data": {
      "text/html": [
       "<div>\n",
       "<style scoped>\n",
       "    .dataframe tbody tr th:only-of-type {\n",
       "        vertical-align: middle;\n",
       "    }\n",
       "\n",
       "    .dataframe tbody tr th {\n",
       "        vertical-align: top;\n",
       "    }\n",
       "\n",
       "    .dataframe thead th {\n",
       "        text-align: right;\n",
       "    }\n",
       "</style>\n",
       "<table border=\"1\" class=\"dataframe\">\n",
       "  <thead>\n",
       "    <tr style=\"text-align: right;\">\n",
       "      <th></th>\n",
       "      <th>Dimension</th>\n",
       "      <th>Categoría</th>\n",
       "    </tr>\n",
       "  </thead>\n",
       "  <tbody>\n",
       "    <tr>\n",
       "      <th>21</th>\n",
       "      <td>by citizenship</td>\n",
       "      <td>Congo</td>\n",
       "    </tr>\n",
       "    <tr>\n",
       "      <th>40</th>\n",
       "      <td>by citizenship</td>\n",
       "      <td>Congo</td>\n",
       "    </tr>\n",
       "    <tr>\n",
       "      <th>41</th>\n",
       "      <td>by citizenship</td>\n",
       "      <td>Nationals</td>\n",
       "    </tr>\n",
       "    <tr>\n",
       "      <th>69</th>\n",
       "      <td>by citizenship</td>\n",
       "      <td>Congo</td>\n",
       "    </tr>\n",
       "    <tr>\n",
       "      <th>70</th>\n",
       "      <td>by citizenship</td>\n",
       "      <td>Namibia</td>\n",
       "    </tr>\n",
       "    <tr>\n",
       "      <th>...</th>\n",
       "      <td>...</td>\n",
       "      <td>...</td>\n",
       "    </tr>\n",
       "    <tr>\n",
       "      <th>37653</th>\n",
       "      <td>by citizenship</td>\n",
       "      <td>Angola</td>\n",
       "    </tr>\n",
       "    <tr>\n",
       "      <th>37654</th>\n",
       "      <td>by citizenship</td>\n",
       "      <td>Congo</td>\n",
       "    </tr>\n",
       "    <tr>\n",
       "      <th>37655</th>\n",
       "      <td>by citizenship</td>\n",
       "      <td>Rwanda</td>\n",
       "    </tr>\n",
       "    <tr>\n",
       "      <th>37656</th>\n",
       "      <td>by citizenship</td>\n",
       "      <td>Zambia</td>\n",
       "    </tr>\n",
       "    <tr>\n",
       "      <th>37711</th>\n",
       "      <td>by citizenship</td>\n",
       "      <td>Zimbabwe</td>\n",
       "    </tr>\n",
       "  </tbody>\n",
       "</table>\n",
       "<p>7722 rows × 2 columns</p>\n",
       "</div>"
      ],
      "text/plain": [
       "            Dimension  Categoría\n",
       "21     by citizenship      Congo\n",
       "40     by citizenship      Congo\n",
       "41     by citizenship  Nationals\n",
       "69     by citizenship      Congo\n",
       "70     by citizenship    Namibia\n",
       "...               ...        ...\n",
       "37653  by citizenship     Angola\n",
       "37654  by citizenship      Congo\n",
       "37655  by citizenship     Rwanda\n",
       "37656  by citizenship     Zambia\n",
       "37711  by citizenship   Zimbabwe\n",
       "\n",
       "[7722 rows x 2 columns]"
      ]
     },
     "execution_count": 17,
     "metadata": {},
     "output_type": "execute_result"
    }
   ],
   "source": [
    "df_filtrado"
   ]
  },
  {
   "cell_type": "code",
   "execution_count": 36,
   "id": "25a93ac0",
   "metadata": {},
   "outputs": [
    {
     "name": "stdout",
     "output_type": "stream",
     "text": [
      "['Congo' 'Nationals' 'Namibia' 'Albania' nan '97 albanian' 'Azerbaijan'\n",
      " 'Bangladesh' 'China' 'India' 'Indonesia' 'Iraq' 'Kazakhstan' 'Morocco'\n",
      " 'Nigeria' 'Pakistan' 'Philippines' 'Republic of Moldova'\n",
      " 'Russian Federation' 'Syrian Arab Republic' 'Uzbekistan' 'Kyrgyzstan'\n",
      " 'Algeria' 'Armenia' 'Ethiopia' 'Lebanon' 'Sri Lanka' 'Thailand'\n",
      " 'United Arab Emirates' 'Nepal' 'Turkmenistan' 'Colombia'\n",
      " 'Dominican Republic' 'Tajikistan' 'Argentina'\n",
      " 'Bolivia (Plurinational State of)' 'Paraguay' 'Peru' 'Brazil' 'Chile'\n",
      " 'Ecuador' 'Uruguay' 'Venezuela (Bolivarian Republic of)' 'OTROS'\n",
      " 'Bolivia' 'Brasil' 'Gana' 'Haiti' 'R.Dominicana' 'Senegal'\n",
      " 'Corea del Sur' 'Sudafrica' 'Desconocido' 'Mexico' 'Rusia'\n",
      " 'United States of America' 'Costa Rica' 'Cuba' 'Jamaica' 'Marruecos'\n",
      " 'R.dominicana' 'Siria' 'Republic of Korea' 'Malaysia' 'Australia'\n",
      " 'Unknown' 'Afghanistan' 'Austria' 'Bulgaria' 'Hungary' 'Lithuania'\n",
      " 'Romania' 'Slovakia' 'Ukraine' 'Czechia' 'Serbia'\n",
      " 'The former Yugoslav Republic of Macedonia' 'Croatia' 'Germany' 'Poland'\n",
      " 'Viet Nam' 'TÃ¼rkiye' \"Democratic People's Republic of Korea\" 'Nicaragua'\n",
      " 'Bosnia and Herzegovina' 'Italy' 'Kenya' 'Tunisia' 'Switzerland'\n",
      " 'Georgia' 'Benin' \"CÃ´te d'Ivoire\" 'Malta' 'Somalia' 'Uganda' 'Spain'\n",
      " 'Burundi' 'Belgium' 'Burkina Faso' 'Cameroon' 'Chad' 'Eritrea' 'France'\n",
      " 'Ghana' 'Jordan' 'Egypt' 'State of Palestine'\n",
      " 'Iran (Islamic Republic of)' 'Mauritius' 'Sierra Leone' 'Bhutan' 'Guinea'\n",
      " 'Kosovo under UNSCR 1244' 'Equatorial Guinea' 'Armenie' 'Bresil' 'Guinée'\n",
      " 'Hongrie' 'Inconnue' 'Maroc' 'Montenegro' 'pays-bas' 'pologne' 'russie'\n",
      " 'thailande' 'tunisie' 'North Macedonia' 'Niger' 'Mali' 'Panama' 'Gambia'\n",
      " 'Libya' 'Nederland' 'Belarus' 'Belizean' 'Honduranian' 'Guatemalan'\n",
      " 'Hodruanian' 'Argentino' 'Belga' 'Brasilero' 'Chino'\n",
      " 'Ciudadanos de su pa�s' 'Colombiano' 'Cubano' 'Haitiano' 'Keniano'\n",
      " 'Paraguayo' 'Peruano' 'Sin determinar' 'TOTAL' 'Venezolano'\n",
      " '(especifique otras nacionalidades)' 'Guyana' 'Bhuatnese' 'Botswana'\n",
      " 'Ethopia' 'Zambia' 'Japan' 'Zimbabwe' 'Canada'\n",
      " 'United Republic of Tanzania' 'China, Taiwan Province of China'\n",
      " 'Guatemala' 'China, Hong Kong SAR' 'Saudi Arabia' 'Togo' 'Mongolia'\n",
      " 'Mozambique' 'Personnes de nationalit� �trang�re' 'South Africa'\n",
      " 'REPUBLICA DOMINICANA' 'Honduras' 'PER�' 'BARSIL' 'El Salvador' 'Panam�'\n",
      " 'Rep�blica Dominicana' 'Rep. Dominicana' 'Estonia' 'Cyprus' 'Latvia'\n",
      " 'Greece' 'United Kingdom' 'Suriname' 'Sudan' 'Cabo Verde' 'Cambodia'\n",
      " 'Ireland' 'Norway' 'Portugal' 'Singapore' 'South Sudan' 'Slovenia'\n",
      " 'Netherlands (Kingdom of the)' 'Rwanda' 'Albanian' 'Bosnian' 'Gambian'\n",
      " 'Georgian' 'Ghanaian' 'Kosovo (under UNSC res. 1244)' 'Macedonian'\n",
      " 'without' 'Africa others' 'EU-28 others' 'own country' 'Byelorussian'\n",
      " 'Moldovan' 'Sierra Leonean' 'Spanish' 'vietnamese' 'Europe others'\n",
      " 'no information' 'stateless' 'Belarussian' 'Cameroonian' 'Congolese'\n",
      " 'Kirghiz' 'Madagascarian' 'Ugandan' 'Asia others' 'Moroco' 'Denmark'\n",
      " 'Liberia' 'Myanmar' 'Abania' 'Tanzania' 'Bosnia' 'Columbia'\n",
      " 'Dominican Rep' 'Libanon' 'Stateless' 'Kosovo' 'Syriah' 'Alemania'\n",
      " 'Canad�' 'Francia' 'Italia' 'Alemana' '3 maliens' '2 maliens'\n",
      " '3 nigériens et 1 tunisien' 'NO DETERMINADA' 'PERO' 'COLOMBIANA'\n",
      " 'PERUANA' 'Yemen' 'Guinea-Bissau' 'Malawi' 'BIELORRUSIA' 'HUNGRÍA'\n",
      " 'ITALIA' 'POLONIA' 'REPÚBLICA CHECA' 'UCRANIA' 'VIETNAM' 'CAMERUN'\n",
      " 'CAMERÚN' 'GUINEA ECUATORIAL' 'KIRGUIZSTÁN' 'MÉXICO' 'SENEGAL'\n",
      " 'Dem. Rep. of the Congo' 'Finland' 'Angola' 'Fiji' 'Gabon'\n",
      " \"Lao People's Democratic Republic\" 'Madagascar' 'Swaziland' 'Mauritania'\n",
      " 'Western Sahara' 'United Kingdom of Great Britain and Northern Ireland'\n",
      " 'Barbados' 'C�te d�Ivoire' 'Democratic Republic of the Congo' 'Kuwait'\n",
      " 'Lybia' 'Oman' 'Palestine' 'Belize' 'Nationality' 'Qatar'\n",
      " 'St Vincent and the Grenadines' 'Sweden' 'Trinidad and Tobago' 'T�rkiye'\n",
      " 'China, Hong Kong Special Administrative Region' 'Israel'\n",
      " 'Tanzania, United Republic of' 'BELICE�A' 'HONDURE�A' 'SALVADORE�A'\n",
      " 'Salvadore�a' 'Guatemaltecos' 'Hondure�o'\n",
      " 'Caribbean (Trinidad and Tobago, Barbados, etc)'\n",
      " 'Other Countries (Dominica, Panama, French Guiana, Brazil, etc.)'\n",
      " 'European Economic Area' 'M49 Region: Africa' 'M49 Region: Americas'\n",
      " 'M49 Region: Asia' 'Amercias' 'Disputed' 'The Ukraine' 'Etiopia'\n",
      " 'Former Yugoslavia' 'Bosnia Erzegovina' \"Costa d'Avorio\" 'Croazia'\n",
      " 'Tunisa' 'Filippine' 'Sri lanka' 'ghana' 'Kazalhstan' 'south Africa'\n",
      " 'Brazilian' 'Taiwanese' 'Luxembourg' 'francais' 'italien'\n",
      " 'luxembourgeois' 'portugais' 'roumain' 'ukrainien' 'Roumanie'\n",
      " 'République de Moldavie' 'République tchèque' 'brésilien' 'indien'\n",
      " 'Ethiopie' 'Indonésie' 'Sénégal' 'chinois' 'albanian' 'B & H' '0'\n",
      " 'Myanmar Nation' 'MORROCAN' 'BANGLADESH' 'CAMBODIA' 'INDIA' 'INDONESIA'\n",
      " 'LAOS' 'MALAYSIA' 'MONGOLIA' 'MYANMAR' 'NEPAL' 'PHILIPPINES' 'TAIWAN'\n",
      " 'THAILAND' 'UGANDA' 'Indian' 'Indonesian' 'Phillipines' 'SRI LANKA'\n",
      " 'Angolans' 'Tanzanian' 'Zambian' 'Angolan' 'South African' 'Benin Rep'\n",
      " \"Cote d'ivoire\" 'Guinea Conakry' 'Central africa' 'Niger Rep' 'Iceland'\n",
      " 'Saint Vincent and the Grenadines' 'Seychelles'\n",
      " 'Netherlands (own country)' 'Former Czechoslovakia' 'Surinam'\n",
      " 'The former Netherlands Antilles' 'Dominican Rebublic' 'Erithera' 'Samoa'\n",
      " 'DESCONOCIDA' 'DOMINICANA' 'EL SALVADOR' 'Palau' 'Venezolana' 'BRASILERA'\n",
      " 'NO REGISTRA' 'Solomon Islands' 'Kazahstan' 'Monte Negro'\n",
      " \"Lao People's Dem. Republic\" 'Burmese' 'Eritrean' 'Rohingya'\n",
      " 'South Korean' 'UKRAINE' 'Kazakhistan' 'AFGHANISTAN' 'MOLDOVA' 'RUSSIA'\n",
      " 'TURKMENISTAN' 'AZERBAIJAN' 'ROMANIA' 'Lesotho' 'Maldives']\n"
     ]
    }
   ],
   "source": [
    "valores_unicos = df_filtrado[\"Categoría\"].unique()\n",
    "\n",
    "print(valores_unicos)"
   ]
  },
  {
   "cell_type": "markdown",
   "id": "134a0a83",
   "metadata": {},
   "source": [
    "\"by country of repatriation\""
   ]
  },
  {
   "cell_type": "code",
   "execution_count": 18,
   "id": "c016b2a0",
   "metadata": {},
   "outputs": [
    {
     "name": "stdout",
     "output_type": "stream",
     "text": [
      "2             Ukraine\n",
      "3              Abroad\n",
      "4              Abroad\n",
      "14             Abroad\n",
      "15             Abroad\n",
      "             ...     \n",
      "37659         Jamaica\n",
      "37709          Abroad\n",
      "37710          Abroad\n",
      "37712    South Africa\n",
      "37721          Abroad\n",
      "Name: Categoría, Length: 1830, dtype: object\n"
     ]
    }
   ],
   "source": [
    "dimensión = df_new[\"Dimension\"]\n",
    "categoría = df_new[\"Categoría\"]\n",
    "\n",
    "df_filtrado2 = df_new.loc[dimensión == \"by country of repatriation\"]\n",
    "\n",
    "print(df_filtrado2[\"Categoría\"])"
   ]
  },
  {
   "cell_type": "code",
   "execution_count": 19,
   "id": "0e6b38af",
   "metadata": {},
   "outputs": [
    {
     "data": {
      "text/html": [
       "<div>\n",
       "<style scoped>\n",
       "    .dataframe tbody tr th:only-of-type {\n",
       "        vertical-align: middle;\n",
       "    }\n",
       "\n",
       "    .dataframe tbody tr th {\n",
       "        vertical-align: top;\n",
       "    }\n",
       "\n",
       "    .dataframe thead th {\n",
       "        text-align: right;\n",
       "    }\n",
       "</style>\n",
       "<table border=\"1\" class=\"dataframe\">\n",
       "  <thead>\n",
       "    <tr style=\"text-align: right;\">\n",
       "      <th></th>\n",
       "      <th>Dimension</th>\n",
       "      <th>Categoría</th>\n",
       "    </tr>\n",
       "  </thead>\n",
       "  <tbody>\n",
       "    <tr>\n",
       "      <th>2</th>\n",
       "      <td>by country of repatriation</td>\n",
       "      <td>Ukraine</td>\n",
       "    </tr>\n",
       "    <tr>\n",
       "      <th>3</th>\n",
       "      <td>by country of repatriation</td>\n",
       "      <td>Abroad</td>\n",
       "    </tr>\n",
       "    <tr>\n",
       "      <th>4</th>\n",
       "      <td>by country of repatriation</td>\n",
       "      <td>Abroad</td>\n",
       "    </tr>\n",
       "    <tr>\n",
       "      <th>14</th>\n",
       "      <td>by country of repatriation</td>\n",
       "      <td>Abroad</td>\n",
       "    </tr>\n",
       "    <tr>\n",
       "      <th>15</th>\n",
       "      <td>by country of repatriation</td>\n",
       "      <td>Abroad</td>\n",
       "    </tr>\n",
       "    <tr>\n",
       "      <th>...</th>\n",
       "      <td>...</td>\n",
       "      <td>...</td>\n",
       "    </tr>\n",
       "    <tr>\n",
       "      <th>37659</th>\n",
       "      <td>by country of repatriation</td>\n",
       "      <td>Jamaica</td>\n",
       "    </tr>\n",
       "    <tr>\n",
       "      <th>37709</th>\n",
       "      <td>by country of repatriation</td>\n",
       "      <td>Abroad</td>\n",
       "    </tr>\n",
       "    <tr>\n",
       "      <th>37710</th>\n",
       "      <td>by country of repatriation</td>\n",
       "      <td>Abroad</td>\n",
       "    </tr>\n",
       "    <tr>\n",
       "      <th>37712</th>\n",
       "      <td>by country of repatriation</td>\n",
       "      <td>South Africa</td>\n",
       "    </tr>\n",
       "    <tr>\n",
       "      <th>37721</th>\n",
       "      <td>by country of repatriation</td>\n",
       "      <td>Abroad</td>\n",
       "    </tr>\n",
       "  </tbody>\n",
       "</table>\n",
       "<p>1830 rows × 2 columns</p>\n",
       "</div>"
      ],
      "text/plain": [
       "                        Dimension     Categoría\n",
       "2      by country of repatriation       Ukraine\n",
       "3      by country of repatriation        Abroad\n",
       "4      by country of repatriation        Abroad\n",
       "14     by country of repatriation        Abroad\n",
       "15     by country of repatriation        Abroad\n",
       "...                           ...           ...\n",
       "37659  by country of repatriation       Jamaica\n",
       "37709  by country of repatriation        Abroad\n",
       "37710  by country of repatriation        Abroad\n",
       "37712  by country of repatriation  South Africa\n",
       "37721  by country of repatriation        Abroad\n",
       "\n",
       "[1830 rows x 2 columns]"
      ]
     },
     "execution_count": 19,
     "metadata": {},
     "output_type": "execute_result"
    }
   ],
   "source": [
    "df_filtrado2"
   ]
  },
  {
   "cell_type": "code",
   "execution_count": 37,
   "id": "2ce259b0",
   "metadata": {},
   "outputs": [
    {
     "name": "stdout",
     "output_type": "stream",
     "text": [
      "['Ukraine' 'Abroad' 'Nationals' 'Croatia' 'Albania'\n",
      " 'Netherlands (Kingdom of the)' 'Norway' 'Portugal' 'Denmark' 'Serbia'\n",
      " 'Switzerland' 'Germany' 'Indonesia' 'Kazakhstan' 'Kyrgyzstan' 'Nepal'\n",
      " 'Republic of Moldova' 'Tajikistan' 'Thailand'\n",
      " 'United Republic of Tanzania' 'Azerbaijan' 'Colombia' 'Tunisia'\n",
      " 'Uzbekistan' 'Armenia' 'Belarus' 'Nigeria' 'Uganda' 'Rwanda'\n",
      " 'Turkmenistan' 'Dominican Republic' 'Paraguay' 'Peru'\n",
      " 'Bolivia (Plurinational State of)' 'Ecuador' 'Honduras' 'ITALIA' 'Mexico'\n",
      " '0' 'Panama' 'Bolivia' 'Chile' 'Corea del Sur' 'Espa�a' 'Uruguay'\n",
      " 'Brasil' 'Costa Rica' 'Guatemala' 'Romania' 'Bulgaria' 'Hungary'\n",
      " 'Slovakia' 'Venezuela (Bolivarian Republic of)'\n",
      " 'The former Yugoslav Republic of Macedonia' 'Latvia' 'Burkina Faso'\n",
      " 'Russian Federation' 'Slovenia' 'croatia' 'El Salvador' 'Kurdistan, Iraq'\n",
      " 'Mumbai, India' 'South Africa' 'Japan' 'Israel' 'Poland' 'Georgia'\n",
      " 'Greece' 'Myanmar' 'Mongolia' 'Viet Nam' 'Cambodia' 'Timor-Leste'\n",
      " 'Lithuania' 'Argentina' 'China' 'ESPA�A' 'FILIPINAS' 'FRANCIA' 'HOLANDA'\n",
      " 'INDIA' 'M�XICO' 'NORUEGA' 'PANAM�' 'PER�' 'QATAR' 'SINGAPUR' 'SUIZA'\n",
      " 'TAILANDIA' 'BAHAMAS' 'Brazil' 'EMIRATOS �RABES UNIDOS' 'ISRAEL'\n",
      " 'REP�BLICA DOMINICANA' 'Republic of Korea' 'TURQU�A'\n",
      " 'ESTADOS UNIDOS DE AM�RICA' 'GRAN BRETA�A' 'Unknown' 'Panam�'\n",
      " '(especifique el pa�s)' 'Finland' 'Ciudadanos de su pa�s' nan 'Cuba'\n",
      " 'United Arab Emirates' 'Italy' 'Czechia' 'Sierra Leone' 'Senegal'\n",
      " 'Nicaragua' 'Spain' 'TOTAL POR AÑO' 'Belize' 'United States of America'\n",
      " 'Bosnia and Herzegovina' 'Kenya' 'Belgium' 'Cyprus' 'Ireland'\n",
      " 'United Kingdom' 'M49 Region: Africa' 'Egypt' 'France' 'Malaysia'\n",
      " 'Domestic (Myanmar)' 'TÃ¼rkiye' 'Benin Rep' \"Cote d'ivoire\" 'Ghana'\n",
      " 'Libya' 'Mali' 'Niger Rep' 'Oman' 'Saudi Arabia' 'Togo' 'Cameroon'\n",
      " 'Gambia' 'India' 'Lebanon' 'Gabon' 'Iraq' 'Sierra leone'\n",
      " 'Rep�blica Dominicana' 'Austria' 'Spania' 'Sweeden' 'Sweden' 'Montenegro'\n",
      " 'Lesotho' 'Jamaica']\n"
     ]
    }
   ],
   "source": [
    "valores_unicos = df_filtrado2[\"Categoría\"].unique()\n",
    "\n",
    "print(valores_unicos)"
   ]
  },
  {
   "cell_type": "markdown",
   "id": "e712ef79",
   "metadata": {},
   "source": [
    "\"by form of exploitation\""
   ]
  },
  {
   "cell_type": "code",
   "execution_count": 20,
   "id": "35cabca6",
   "metadata": {},
   "outputs": [
    {
     "name": "stdout",
     "output_type": "stream",
     "text": [
      "7                      Forced labour\n",
      "8                Sexual exploitation\n",
      "9                      Forced labour\n",
      "10               Sexual exploitation\n",
      "11                     Forced labour\n",
      "                    ...             \n",
      "46553    Other forms of exploitation\n",
      "46554    Other forms of exploitation\n",
      "46555    Other forms of exploitation\n",
      "46556    Other forms of exploitation\n",
      "46557    Other forms of exploitation\n",
      "Name: Categoría, Length: 13202, dtype: object\n"
     ]
    }
   ],
   "source": [
    "dimensión = df_new[\"Dimension\"]\n",
    "categoría = df_new[\"Categoría\"]\n",
    "\n",
    "# Filtramos las filas donde la dimensión es repatriación\n",
    "df_filtrado3 = df_new.loc[dimensión == \"by form of exploitation\"]\n",
    "\n",
    "# Visualizamos los valores de la columna categoría\n",
    "print(df_filtrado3[\"Categoría\"])"
   ]
  },
  {
   "cell_type": "code",
   "execution_count": 21,
   "id": "e695d8ec",
   "metadata": {},
   "outputs": [
    {
     "data": {
      "text/html": [
       "<div>\n",
       "<style scoped>\n",
       "    .dataframe tbody tr th:only-of-type {\n",
       "        vertical-align: middle;\n",
       "    }\n",
       "\n",
       "    .dataframe tbody tr th {\n",
       "        vertical-align: top;\n",
       "    }\n",
       "\n",
       "    .dataframe thead th {\n",
       "        text-align: right;\n",
       "    }\n",
       "</style>\n",
       "<table border=\"1\" class=\"dataframe\">\n",
       "  <thead>\n",
       "    <tr style=\"text-align: right;\">\n",
       "      <th></th>\n",
       "      <th>Dimension</th>\n",
       "      <th>Categoría</th>\n",
       "    </tr>\n",
       "  </thead>\n",
       "  <tbody>\n",
       "    <tr>\n",
       "      <th>7</th>\n",
       "      <td>by form of exploitation</td>\n",
       "      <td>Forced labour</td>\n",
       "    </tr>\n",
       "    <tr>\n",
       "      <th>8</th>\n",
       "      <td>by form of exploitation</td>\n",
       "      <td>Sexual exploitation</td>\n",
       "    </tr>\n",
       "    <tr>\n",
       "      <th>9</th>\n",
       "      <td>by form of exploitation</td>\n",
       "      <td>Forced labour</td>\n",
       "    </tr>\n",
       "    <tr>\n",
       "      <th>10</th>\n",
       "      <td>by form of exploitation</td>\n",
       "      <td>Sexual exploitation</td>\n",
       "    </tr>\n",
       "    <tr>\n",
       "      <th>11</th>\n",
       "      <td>by form of exploitation</td>\n",
       "      <td>Forced labour</td>\n",
       "    </tr>\n",
       "    <tr>\n",
       "      <th>...</th>\n",
       "      <td>...</td>\n",
       "      <td>...</td>\n",
       "    </tr>\n",
       "    <tr>\n",
       "      <th>46553</th>\n",
       "      <td>by form of exploitation</td>\n",
       "      <td>Other forms of exploitation</td>\n",
       "    </tr>\n",
       "    <tr>\n",
       "      <th>46554</th>\n",
       "      <td>by form of exploitation</td>\n",
       "      <td>Other forms of exploitation</td>\n",
       "    </tr>\n",
       "    <tr>\n",
       "      <th>46555</th>\n",
       "      <td>by form of exploitation</td>\n",
       "      <td>Other forms of exploitation</td>\n",
       "    </tr>\n",
       "    <tr>\n",
       "      <th>46556</th>\n",
       "      <td>by form of exploitation</td>\n",
       "      <td>Other forms of exploitation</td>\n",
       "    </tr>\n",
       "    <tr>\n",
       "      <th>46557</th>\n",
       "      <td>by form of exploitation</td>\n",
       "      <td>Other forms of exploitation</td>\n",
       "    </tr>\n",
       "  </tbody>\n",
       "</table>\n",
       "<p>13202 rows × 2 columns</p>\n",
       "</div>"
      ],
      "text/plain": [
       "                     Dimension                    Categoría\n",
       "7      by form of exploitation                Forced labour\n",
       "8      by form of exploitation          Sexual exploitation\n",
       "9      by form of exploitation                Forced labour\n",
       "10     by form of exploitation          Sexual exploitation\n",
       "11     by form of exploitation                Forced labour\n",
       "...                        ...                          ...\n",
       "46553  by form of exploitation  Other forms of exploitation\n",
       "46554  by form of exploitation  Other forms of exploitation\n",
       "46555  by form of exploitation  Other forms of exploitation\n",
       "46556  by form of exploitation  Other forms of exploitation\n",
       "46557  by form of exploitation  Other forms of exploitation\n",
       "\n",
       "[13202 rows x 2 columns]"
      ]
     },
     "execution_count": 21,
     "metadata": {},
     "output_type": "execute_result"
    }
   ],
   "source": [
    "df_filtrado3"
   ]
  },
  {
   "cell_type": "code",
   "execution_count": 38,
   "id": "a9f1ed92",
   "metadata": {},
   "outputs": [
    {
     "name": "stdout",
     "output_type": "stream",
     "text": [
      "['Forced labour' 'Sexual exploitation' 'Other forms of exploitation']\n"
     ]
    }
   ],
   "source": [
    "valores_unicos = df_filtrado3[\"Categoría\"].unique()\n",
    "\n",
    "print(valores_unicos)"
   ]
  },
  {
   "cell_type": "markdown",
   "id": "3585461e",
   "metadata": {},
   "source": [
    "\"Total\""
   ]
  },
  {
   "cell_type": "code",
   "execution_count": 39,
   "id": "56b13264",
   "metadata": {},
   "outputs": [
    {
     "name": "stdout",
     "output_type": "stream",
     "text": [
      "5        Total\n",
      "6        Total\n",
      "16       Total\n",
      "17       Total\n",
      "18       Total\n",
      "         ...  \n",
      "42470    Total\n",
      "42471    Total\n",
      "42472    Total\n",
      "42473    Total\n",
      "42474    Total\n",
      "Name: Categoría, Length: 23802, dtype: object\n"
     ]
    }
   ],
   "source": [
    "dimensión = df_new[\"Dimension\"]\n",
    "categoría = df_new[\"Categoría\"]\n",
    "\n",
    "# Filtramos las filas donde la dimensión es repatriación\n",
    "df_filtrado4 = df_new.loc[dimensión == \"Total\"]\n",
    "\n",
    "# Visualizamos los valores de la columna categoría\n",
    "print(df_filtrado4[\"Categoría\"])"
   ]
  },
  {
   "cell_type": "code",
   "execution_count": 23,
   "id": "3401c445",
   "metadata": {},
   "outputs": [
    {
     "data": {
      "text/html": [
       "<div>\n",
       "<style scoped>\n",
       "    .dataframe tbody tr th:only-of-type {\n",
       "        vertical-align: middle;\n",
       "    }\n",
       "\n",
       "    .dataframe tbody tr th {\n",
       "        vertical-align: top;\n",
       "    }\n",
       "\n",
       "    .dataframe thead th {\n",
       "        text-align: right;\n",
       "    }\n",
       "</style>\n",
       "<table border=\"1\" class=\"dataframe\">\n",
       "  <thead>\n",
       "    <tr style=\"text-align: right;\">\n",
       "      <th></th>\n",
       "      <th>Dimension</th>\n",
       "      <th>Categoría</th>\n",
       "    </tr>\n",
       "  </thead>\n",
       "  <tbody>\n",
       "    <tr>\n",
       "      <th>5</th>\n",
       "      <td>Total</td>\n",
       "      <td>Total</td>\n",
       "    </tr>\n",
       "    <tr>\n",
       "      <th>6</th>\n",
       "      <td>Total</td>\n",
       "      <td>Total</td>\n",
       "    </tr>\n",
       "    <tr>\n",
       "      <th>16</th>\n",
       "      <td>Total</td>\n",
       "      <td>Total</td>\n",
       "    </tr>\n",
       "    <tr>\n",
       "      <th>17</th>\n",
       "      <td>Total</td>\n",
       "      <td>Total</td>\n",
       "    </tr>\n",
       "    <tr>\n",
       "      <th>18</th>\n",
       "      <td>Total</td>\n",
       "      <td>Total</td>\n",
       "    </tr>\n",
       "    <tr>\n",
       "      <th>...</th>\n",
       "      <td>...</td>\n",
       "      <td>...</td>\n",
       "    </tr>\n",
       "    <tr>\n",
       "      <th>42470</th>\n",
       "      <td>Total</td>\n",
       "      <td>Total</td>\n",
       "    </tr>\n",
       "    <tr>\n",
       "      <th>42471</th>\n",
       "      <td>Total</td>\n",
       "      <td>Total</td>\n",
       "    </tr>\n",
       "    <tr>\n",
       "      <th>42472</th>\n",
       "      <td>Total</td>\n",
       "      <td>Total</td>\n",
       "    </tr>\n",
       "    <tr>\n",
       "      <th>42473</th>\n",
       "      <td>Total</td>\n",
       "      <td>Total</td>\n",
       "    </tr>\n",
       "    <tr>\n",
       "      <th>42474</th>\n",
       "      <td>Total</td>\n",
       "      <td>Total</td>\n",
       "    </tr>\n",
       "  </tbody>\n",
       "</table>\n",
       "<p>23802 rows × 2 columns</p>\n",
       "</div>"
      ],
      "text/plain": [
       "      Dimension Categoría\n",
       "5         Total     Total\n",
       "6         Total     Total\n",
       "16        Total     Total\n",
       "17        Total     Total\n",
       "18        Total     Total\n",
       "...         ...       ...\n",
       "42470     Total     Total\n",
       "42471     Total     Total\n",
       "42472     Total     Total\n",
       "42473     Total     Total\n",
       "42474     Total     Total\n",
       "\n",
       "[23802 rows x 2 columns]"
      ]
     },
     "execution_count": 23,
     "metadata": {},
     "output_type": "execute_result"
    }
   ],
   "source": [
    "df_filtrado4"
   ]
  },
  {
   "cell_type": "code",
   "execution_count": 40,
   "id": "d0655fb0",
   "metadata": {},
   "outputs": [
    {
     "name": "stdout",
     "output_type": "stream",
     "text": [
      "['Total']\n"
     ]
    }
   ],
   "source": [
    "valores_unicos = df_filtrado4[\"Categoría\"].unique()\n",
    "\n",
    "print(valores_unicos)"
   ]
  }
 ],
 "metadata": {
  "kernelspec": {
   "display_name": "Python 3 (ipykernel)",
   "language": "python",
   "name": "python3"
  },
  "language_info": {
   "codemirror_mode": {
    "name": "ipython",
    "version": 3
   },
   "file_extension": ".py",
   "mimetype": "text/x-python",
   "name": "python",
   "nbconvert_exporter": "python",
   "pygments_lexer": "ipython3",
   "version": "3.11.4"
  }
 },
 "nbformat": 4,
 "nbformat_minor": 5
}
