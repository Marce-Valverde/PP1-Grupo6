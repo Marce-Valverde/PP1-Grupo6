{
 "cells": [
  {
   "cell_type": "markdown",
   "id": "0d92e549-9ee1-494d-b2a7-19ff3b541701",
   "metadata": {},
   "source": [
    "Se importan las librerías que vamos a utilizar."
   ]
  },
  {
   "cell_type": "code",
   "execution_count": 3,
   "id": "c2bc3381-a055-4de3-88eb-dca2f898816e",
   "metadata": {
    "tags": []
   },
   "outputs": [],
   "source": [
    "import pandas as pd\n",
    "import numpy as np\n",
    "import matplotlib.pyplot as plt\n",
    "import seaborn as sns"
   ]
  },
  {
   "cell_type": "markdown",
   "id": "57efa701-d17f-4328-81a4-61bdc012ecff",
   "metadata": {},
   "source": [
    "Se cargan los archivos del set de datos."
   ]
  },
  {
   "cell_type": "code",
   "execution_count": 4,
   "id": "3d60f8bf-c20b-475f-b6ca-357a49055614",
   "metadata": {
    "tags": []
   },
   "outputs": [],
   "source": [
    "trata = pd.read_excel('set-de-datos/data_glotip.xlsx',skiprows=2) #Lectura de Archivo"
   ]
  },
  {
   "cell_type": "markdown",
   "id": "134b02d2-99d5-45a8-a22a-b24e8a72564b",
   "metadata": {},
   "source": [
    "Informacion del dataframe."
   ]
  },
  {
   "cell_type": "code",
   "execution_count": 5,
   "id": "422e525a-75ad-41f0-a12f-4dcc2926e83d",
   "metadata": {
    "tags": []
   },
   "outputs": [
    {
     "name": "stdout",
     "output_type": "stream",
     "text": [
      "<class 'pandas.core.frame.DataFrame'>\n",
      "RangeIndex: 46556 entries, 0 to 46555\n",
      "Data columns (total 13 columns):\n",
      " #   Column               Non-Null Count  Dtype \n",
      "---  ------               --------------  ----- \n",
      " 0   Iso3_code            46530 non-null  object\n",
      " 1   Country              45599 non-null  object\n",
      " 2   Region               45599 non-null  object\n",
      " 3   Subregion            45599 non-null  object\n",
      " 4   Indicator            46556 non-null  object\n",
      " 5   Dimension            46556 non-null  object\n",
      " 6   Category             46469 non-null  object\n",
      " 7   Sex                  46556 non-null  object\n",
      " 8   Age                  46556 non-null  object\n",
      " 9   Year                 46556 non-null  int64 \n",
      " 10  Unit of measurement  46556 non-null  object\n",
      " 11  txtVALUE             46556 non-null  object\n",
      " 12  Source               46556 non-null  object\n",
      "dtypes: int64(1), object(12)\n",
      "memory usage: 4.6+ MB\n"
     ]
    }
   ],
   "source": [
    "trata.info()"
   ]
  },
  {
   "cell_type": "markdown",
   "id": "2837fbb8-980c-47c1-ae76-48002c26682b",
   "metadata": {},
   "source": [
    "Se realiza vista previa del dataframe."
   ]
  },
  {
   "cell_type": "code",
   "execution_count": 6,
   "id": "2b1f7c16-b426-46f0-a3fe-5ec1b0aed953",
   "metadata": {
    "tags": []
   },
   "outputs": [
    {
     "data": {
      "text/html": [
       "<div>\n",
       "<style scoped>\n",
       "    .dataframe tbody tr th:only-of-type {\n",
       "        vertical-align: middle;\n",
       "    }\n",
       "\n",
       "    .dataframe tbody tr th {\n",
       "        vertical-align: top;\n",
       "    }\n",
       "\n",
       "    .dataframe thead th {\n",
       "        text-align: right;\n",
       "    }\n",
       "</style>\n",
       "<table border=\"1\" class=\"dataframe\">\n",
       "  <thead>\n",
       "    <tr style=\"text-align: right;\">\n",
       "      <th></th>\n",
       "      <th>Iso3_code</th>\n",
       "      <th>Country</th>\n",
       "      <th>Region</th>\n",
       "      <th>Subregion</th>\n",
       "      <th>Indicator</th>\n",
       "      <th>Dimension</th>\n",
       "      <th>Category</th>\n",
       "      <th>Sex</th>\n",
       "      <th>Age</th>\n",
       "      <th>Year</th>\n",
       "      <th>Unit of measurement</th>\n",
       "      <th>txtVALUE</th>\n",
       "      <th>Source</th>\n",
       "    </tr>\n",
       "  </thead>\n",
       "  <tbody>\n",
       "    <tr>\n",
       "      <th>0</th>\n",
       "      <td>ABW</td>\n",
       "      <td>Aruba</td>\n",
       "      <td>Americas</td>\n",
       "      <td>Latin America and the Caribbean</td>\n",
       "      <td>Detected trafficking victims</td>\n",
       "      <td>by country of repatriation</td>\n",
       "      <td>Ukraine</td>\n",
       "      <td>Total</td>\n",
       "      <td>Total</td>\n",
       "      <td>2010</td>\n",
       "      <td>Counts</td>\n",
       "      <td>&lt;5</td>\n",
       "      <td>GLOTIP</td>\n",
       "    </tr>\n",
       "    <tr>\n",
       "      <th>1</th>\n",
       "      <td>AFG</td>\n",
       "      <td>Afghanistan</td>\n",
       "      <td>Asia</td>\n",
       "      <td>Southern Asia</td>\n",
       "      <td>Detected trafficking victims</td>\n",
       "      <td>by country of repatriation</td>\n",
       "      <td>Abroad</td>\n",
       "      <td>Total</td>\n",
       "      <td>Total</td>\n",
       "      <td>2003</td>\n",
       "      <td>Counts</td>\n",
       "      <td>&lt;5</td>\n",
       "      <td>GLOTIP</td>\n",
       "    </tr>\n",
       "    <tr>\n",
       "      <th>2</th>\n",
       "      <td>AFG</td>\n",
       "      <td>Afghanistan</td>\n",
       "      <td>Asia</td>\n",
       "      <td>Southern Asia</td>\n",
       "      <td>Detected trafficking victims</td>\n",
       "      <td>by country of repatriation</td>\n",
       "      <td>Abroad</td>\n",
       "      <td>Total</td>\n",
       "      <td>Total</td>\n",
       "      <td>2008</td>\n",
       "      <td>Counts</td>\n",
       "      <td>&lt;5</td>\n",
       "      <td>GLOTIP</td>\n",
       "    </tr>\n",
       "    <tr>\n",
       "      <th>3</th>\n",
       "      <td>AFG</td>\n",
       "      <td>Afghanistan</td>\n",
       "      <td>Asia</td>\n",
       "      <td>Southern Asia</td>\n",
       "      <td>Offences of trafficking in persons</td>\n",
       "      <td>Total</td>\n",
       "      <td>Total</td>\n",
       "      <td>Total</td>\n",
       "      <td>Total</td>\n",
       "      <td>2013</td>\n",
       "      <td>Counts</td>\n",
       "      <td>103</td>\n",
       "      <td>GLOTIP</td>\n",
       "    </tr>\n",
       "    <tr>\n",
       "      <th>4</th>\n",
       "      <td>AFG</td>\n",
       "      <td>Afghanistan</td>\n",
       "      <td>Asia</td>\n",
       "      <td>Southern Asia</td>\n",
       "      <td>Persons brought into formal contact</td>\n",
       "      <td>Total</td>\n",
       "      <td>Total</td>\n",
       "      <td>Total</td>\n",
       "      <td>Total</td>\n",
       "      <td>2013</td>\n",
       "      <td>Counts</td>\n",
       "      <td>167</td>\n",
       "      <td>GLOTIP</td>\n",
       "    </tr>\n",
       "  </tbody>\n",
       "</table>\n",
       "</div>"
      ],
      "text/plain": [
       "  Iso3_code      Country    Region                        Subregion  \\\n",
       "0       ABW        Aruba  Americas  Latin America and the Caribbean   \n",
       "1       AFG  Afghanistan      Asia                    Southern Asia   \n",
       "2       AFG  Afghanistan      Asia                    Southern Asia   \n",
       "3       AFG  Afghanistan      Asia                    Southern Asia   \n",
       "4       AFG  Afghanistan      Asia                    Southern Asia   \n",
       "\n",
       "                             Indicator                   Dimension Category  \\\n",
       "0         Detected trafficking victims  by country of repatriation  Ukraine   \n",
       "1         Detected trafficking victims  by country of repatriation   Abroad   \n",
       "2         Detected trafficking victims  by country of repatriation   Abroad   \n",
       "3   Offences of trafficking in persons                       Total    Total   \n",
       "4  Persons brought into formal contact                       Total    Total   \n",
       "\n",
       "     Sex    Age  Year Unit of measurement txtVALUE  Source  \n",
       "0  Total  Total  2010              Counts       <5  GLOTIP  \n",
       "1  Total  Total  2003              Counts       <5  GLOTIP  \n",
       "2  Total  Total  2008              Counts       <5  GLOTIP  \n",
       "3  Total  Total  2013              Counts      103  GLOTIP  \n",
       "4  Total  Total  2013              Counts      167  GLOTIP  "
      ]
     },
     "execution_count": 6,
     "metadata": {},
     "output_type": "execute_result"
    }
   ],
   "source": [
    "trata.head()"
   ]
  },
  {
   "cell_type": "markdown",
   "id": "dbd3e0de",
   "metadata": {},
   "source": [
    "Observamos los valores unicos de la columna categorias."
   ]
  },
  {
   "cell_type": "code",
   "execution_count": 7,
   "id": "c8ef070d",
   "metadata": {},
   "outputs": [
    {
     "name": "stdout",
     "output_type": "stream",
     "text": [
      "['Ukraine' 'Abroad' 'Total' 'Forced labour' 'Sexual exploitation' 'Congo'\n",
      " 'Nationals' 'Namibia' 'Albania' 'Croatia' nan\n",
      " 'Netherlands (Kingdom of the)' 'Norway' 'Portugal' '97 albanian'\n",
      " 'Denmark' 'Serbia' 'Switzerland' 'Germany' 'Azerbaijan' 'Bangladesh'\n",
      " 'China' 'India' 'Indonesia' 'Iraq' 'Kazakhstan' 'Morocco' 'Nigeria'\n",
      " 'Pakistan' 'Philippines' 'Republic of Moldova' 'Russian Federation'\n",
      " 'Syrian Arab Republic' 'Uzbekistan' 'Kyrgyzstan' 'Algeria' 'Armenia'\n",
      " 'Ethiopia' 'Lebanon' 'Sri Lanka' 'Thailand' 'United Arab Emirates'\n",
      " 'Nepal' 'Tajikistan' 'United Republic of Tanzania' 'Turkmenistan'\n",
      " 'Colombia' 'Dominican Republic' 'Tunisia' 'Belarus' 'Uganda' 'Rwanda'\n",
      " 'Argentina' 'Bolivia (Plurinational State of)' 'Paraguay' 'Peru' 'Brazil'\n",
      " 'Chile' 'Ecuador' 'Uruguay' 'Venezuela (Bolivarian Republic of)'\n",
      " 'Honduras' 'OTROS' 'ITALIA' 'Mexico' 'Bolivia' 'Brasil' 'Gana' 'Haiti'\n",
      " 'R.Dominicana' 'Senegal' '0' 'Corea del Sur' 'Sudafrica' 'Panama'\n",
      " 'Desconocido' 'Rusia' 'United States of America' 'Espa�a' 'Costa Rica'\n",
      " 'Cuba' 'Jamaica' 'Marruecos' 'R.dominicana' 'Siria' 'Guatemala'\n",
      " 'Republic of Korea' 'Malaysia' 'Australia' 'Unknown' 'Afghanistan'\n",
      " 'Austria' 'Bulgaria' 'Hungary' 'Lithuania' 'Romania' 'Slovakia' 'Czechia'\n",
      " 'The former Yugoslav Republic of Macedonia' 'Poland' 'Viet Nam'\n",
      " 'TÃ¼rkiye' \"Democratic People's Republic of Korea\" 'Nicaragua'\n",
      " 'Bosnia and Herzegovina' 'Italy' 'Kenya' 'Georgia' 'Benin'\n",
      " \"CÃ´te d'Ivoire\" 'Malta' 'Somalia' 'Spain' 'Burundi' 'Belgium'\n",
      " 'Burkina Faso' 'Cameroon' 'Chad' 'Eritrea' 'France' 'Ghana' 'Jordan'\n",
      " 'Egypt' 'State of Palestine' 'Iran (Islamic Republic of)' 'Mauritius'\n",
      " 'Sierra Leone' 'Latvia' 'Bhutan' 'Guinea' 'Kosovo under UNSCR 1244'\n",
      " 'Equatorial Guinea' 'Armenie' 'Bresil' 'Guinée' 'Hongrie' 'Inconnue'\n",
      " 'Maroc' 'Montenegro' 'pays-bas' 'pologne' 'russie' 'thailande' 'tunisie'\n",
      " 'North Macedonia' 'Niger' 'Mali' 'Gambia' 'Libya' 'Nederland' 'Slovenia'\n",
      " 'croatia' 'El Salvador' 'Belizean' 'Honduranian' 'Guatemalan'\n",
      " 'Hodruanian' 'Argentino' 'Belga' 'Brasilero' 'Chino'\n",
      " 'Ciudadanos de su pa�s' 'Colombiano' 'Cubano' 'Haitiano' 'Keniano'\n",
      " 'Paraguayo' 'Peruano' 'Sin determinar' 'TOTAL' 'Venezolano'\n",
      " '(especifique otras nacionalidades)' 'Guyana' 'Kurdistan, Iraq'\n",
      " 'Bhuatnese' 'Mumbai, India' 'Botswana' 'Ethopia' 'Zambia' 'South Africa'\n",
      " 'Japan' 'Zimbabwe' 'Canada' 'China, Taiwan Province of China'\n",
      " 'China, Hong Kong SAR' 'Saudi Arabia' 'Israel' 'Togo' 'Mongolia'\n",
      " 'Mozambique' 'Greece' 'Personnes de nationalit� �trang�re' 'Myanmar'\n",
      " 'Cambodia' 'Timor-Leste' 'REPUBLICA DOMINICANA' 'ESPA�A' 'FILIPINAS'\n",
      " 'FRANCIA' 'HOLANDA' 'INDIA' 'M�XICO' 'NORUEGA' 'PANAM�' 'PER�' 'QATAR'\n",
      " 'SINGAPUR' 'SUIZA' 'TAILANDIA' 'BAHAMAS' 'EMIRATOS �RABES UNIDOS'\n",
      " 'ISRAEL' 'REP�BLICA DOMINICANA' 'TURQU�A' 'ESTADOS UNIDOS DE AM�RICA'\n",
      " 'BARSIL' 'GRAN BRETA�A' 'Panam�' 'Rep�blica Dominicana' 'Rep. Dominicana'\n",
      " '(especifique el pa�s)' 'Estonia' 'Cyprus' 'United Kingdom' 'Suriname'\n",
      " 'Sudan' 'Cabo Verde' 'Ireland' 'Singapore' 'South Sudan' 'Albanian'\n",
      " 'Bosnian' 'Gambian' 'Georgian' 'Ghanaian' 'Kosovo (under UNSC res. 1244)'\n",
      " 'Macedonian' 'without' 'Africa others' 'EU-28 others' 'own country'\n",
      " 'Byelorussian' 'Moldovan' 'Sierra Leonean' 'Spanish' 'vietnamese'\n",
      " 'Europe others' 'no information' 'stateless' 'Belarussian' 'Cameroonian'\n",
      " 'Congolese' 'Kirghiz' 'Madagascarian' 'Ugandan' 'Asia others' 'Moroco'\n",
      " 'Liberia' 'Finland' 'Abania' 'Tanzania' 'Bosnia' 'Columbia'\n",
      " 'Dominican Rep' 'Libanon' 'Stateless' 'Kosovo' 'Syriah' 'Alemania'\n",
      " 'Canad�' 'Francia' 'Italia' 'Alemana' '3 maliens' '2 maliens'\n",
      " '3 nigériens et 1 tunisien' 'NO DETERMINADA' 'PERO' 'COLOMBIANA'\n",
      " 'PERUANA' 'Yemen' 'Guinea-Bissau' 'Malawi' 'BIELORRUSIA' 'HUNGRÍA'\n",
      " 'POLONIA' 'REPÚBLICA CHECA' 'UCRANIA' 'VIETNAM' 'CAMERUN' 'CAMERÚN'\n",
      " 'GUINEA ECUATORIAL' 'KIRGUIZSTÁN' 'MÉXICO' 'SENEGAL'\n",
      " 'Dem. Rep. of the Congo' 'Angola' 'Fiji' 'Gabon'\n",
      " \"Lao People's Democratic Republic\" 'Madagascar' 'Swaziland' 'Mauritania'\n",
      " 'Western Sahara' 'United Kingdom of Great Britain and Northern Ireland'\n",
      " 'Barbados' 'C�te d�Ivoire' 'Democratic Republic of the Congo' 'Kuwait'\n",
      " 'Lybia' 'Oman' 'Palestine' 'Belize' 'Nationality' 'Qatar'\n",
      " 'St Vincent and the Grenadines' 'Sweden' 'Trinidad and Tobago' 'T�rkiye'\n",
      " 'China, Hong Kong Special Administrative Region'\n",
      " 'Tanzania, United Republic of' 'TOTAL POR AÑO' 'BELICE�A' 'HONDURE�A'\n",
      " 'SALVADORE�A' 'Salvadore�a' 'Guatemaltecos' 'Hondure�o'\n",
      " 'Caribbean (Trinidad and Tobago, Barbados, etc)'\n",
      " 'Other Countries (Dominica, Panama, French Guiana, Brazil, etc.)'\n",
      " 'European Economic Area' 'M49 Region: Africa' 'M49 Region: Americas'\n",
      " 'M49 Region: Asia' 'Amercias' 'Disputed' 'The Ukraine' 'Etiopia'\n",
      " 'Former Yugoslavia' 'Bosnia Erzegovina' \"Costa d'Avorio\" 'Croazia'\n",
      " 'Tunisa' 'Filippine' 'Sri lanka' 'ghana' 'Kazalhstan' 'south Africa'\n",
      " 'Brazilian' 'Taiwanese' 'Luxembourg' 'francais' 'italien'\n",
      " 'luxembourgeois' 'portugais' 'roumain' 'ukrainien' 'Roumanie'\n",
      " 'République de Moldavie' 'République tchèque' 'brésilien' 'indien'\n",
      " 'Ethiopie' 'Indonésie' 'Sénégal' 'chinois' 'albanian' 'B & H'\n",
      " 'Myanmar Nation' 'Domestic (Myanmar)' 'MORROCAN' 'BANGLADESH' 'CAMBODIA'\n",
      " 'INDONESIA' 'LAOS' 'MALAYSIA' 'MONGOLIA' 'MYANMAR' 'NEPAL' 'PHILIPPINES'\n",
      " 'TAIWAN' 'THAILAND' 'UGANDA' 'Indian' 'Indonesian' 'Phillipines'\n",
      " 'SRI LANKA' 'Angolans' 'Tanzanian' 'Zambian' 'Angolan' 'South African'\n",
      " 'Benin Rep' \"Cote d'ivoire\" 'Guinea Conakry' 'Niger Rep' 'Central africa'\n",
      " 'Sierra leone' 'Iceland' 'Saint Vincent and the Grenadines' 'Seychelles'\n",
      " 'Netherlands (own country)' 'Former Czechoslovakia' 'Surinam'\n",
      " 'The former Netherlands Antilles' 'Dominican Rebublic' 'Erithera' 'Samoa'\n",
      " 'DESCONOCIDA' 'DOMINICANA' 'EL SALVADOR' 'Palau' 'Venezolana' 'BRASILERA'\n",
      " 'NO REGISTRA' 'Spania' 'Sweeden' 'Solomon Islands' 'Kazahstan'\n",
      " 'Monte Negro' \"Lao People's Dem. Republic\" 'Burmese' 'Eritrean'\n",
      " 'Rohingya' 'South Korean' 'UKRAINE' 'Kazakhistan' 'AFGHANISTAN' 'MOLDOVA'\n",
      " 'RUSSIA' 'TURKMENISTAN' 'AZERBAIJAN' 'ROMANIA' 'Lesotho' 'Maldives'\n",
      " 'Other forms of exploitation']\n",
      "(436,)\n"
     ]
    }
   ],
   "source": [
    "categorias = trata['Category'].unique()\n",
    "print(categorias)\n",
    "print(categorias.shape)"
   ]
  },
  {
   "cell_type": "markdown",
   "id": "12d5c819",
   "metadata": {},
   "source": [
    "Se observa una lista extensa (436) valores unicos de la columna categoria por lo que al analizar el dataframe se observa que esta relacionada con la columna dimension, principalmente la variacion es por ciudadania/pais:"
   ]
  },
  {
   "cell_type": "code",
   "execution_count": 8,
   "id": "d0af5d1d",
   "metadata": {},
   "outputs": [
    {
     "name": "stdout",
     "output_type": "stream",
     "text": [
      "['by country of repatriation' 'Total' 'by form of exploitation'\n",
      " 'by citizenship']\n"
     ]
    }
   ],
   "source": [
    "dimension = trata['Dimension'].unique()\n",
    "print(dimension)\n",
    "\n",
    "trata_exp = trata"
   ]
  },
  {
   "cell_type": "markdown",
   "id": "db4053ca",
   "metadata": {},
   "source": [
    "Dejamos solo los valores para formas de explotacion"
   ]
  },
  {
   "cell_type": "code",
   "execution_count": 9,
   "id": "159f2bf4",
   "metadata": {},
   "outputs": [],
   "source": [
    "trata_exp = trata_exp[trata_exp['Dimension'] == 'by form of exploitation']"
   ]
  },
  {
   "cell_type": "markdown",
   "id": "1008bfb0",
   "metadata": {},
   "source": [
    "Y ahora vemos que el dataframe sin Dimension por ciudadania y pais, queda solo por categoria los valores unicos por trabajo forzado, explotacion sexual u otras formas de explotacion."
   ]
  },
  {
   "cell_type": "code",
   "execution_count": 10,
   "id": "f08c5635",
   "metadata": {},
   "outputs": [
    {
     "data": {
      "text/plain": [
       "array(['Forced labour', 'Sexual exploitation',\n",
       "       'Other forms of exploitation'], dtype=object)"
      ]
     },
     "execution_count": 10,
     "metadata": {},
     "output_type": "execute_result"
    }
   ],
   "source": [
    "categ_nueva = trata_exp['Category'].unique()\n",
    "categ_nueva"
   ]
  },
  {
   "cell_type": "code",
   "execution_count": 11,
   "id": "3503cec3",
   "metadata": {},
   "outputs": [
    {
     "name": "stdout",
     "output_type": "stream",
     "text": [
      "<class 'pandas.core.frame.DataFrame'>\n",
      "Int64Index: 13202 entries, 5 to 46555\n",
      "Data columns (total 13 columns):\n",
      " #   Column               Non-Null Count  Dtype \n",
      "---  ------               --------------  ----- \n",
      " 0   Iso3_code            13192 non-null  object\n",
      " 1   Country              12826 non-null  object\n",
      " 2   Region               12826 non-null  object\n",
      " 3   Subregion            12826 non-null  object\n",
      " 4   Indicator            13202 non-null  object\n",
      " 5   Dimension            13202 non-null  object\n",
      " 6   Category             13202 non-null  object\n",
      " 7   Sex                  13202 non-null  object\n",
      " 8   Age                  13202 non-null  object\n",
      " 9   Year                 13202 non-null  int64 \n",
      " 10  Unit of measurement  13202 non-null  object\n",
      " 11  txtVALUE             13202 non-null  object\n",
      " 12  Source               13202 non-null  object\n",
      "dtypes: int64(1), object(12)\n",
      "memory usage: 1.4+ MB\n"
     ]
    }
   ],
   "source": [
    "trata_exp.info()"
   ]
  },
  {
   "cell_type": "markdown",
   "id": "cc2d8723",
   "metadata": {},
   "source": [
    "cantidad_casos = trata_exp['txtVALUE'].unique()\n",
    "print(cantidad_casos)"
   ]
  },
  {
   "cell_type": "markdown",
   "id": "537e0bb6",
   "metadata": {},
   "source": [
    "Modificamos el valor \"<5\" para tomar valor numerico y quitar las comas de los miles."
   ]
  },
  {
   "cell_type": "code",
   "execution_count": 12,
   "id": "6e5fabdc",
   "metadata": {},
   "outputs": [
    {
     "name": "stderr",
     "output_type": "stream",
     "text": [
      "C:\\Users\\angel\\AppData\\Local\\Temp\\ipykernel_4724\\692451802.py:3: SettingWithCopyWarning: \n",
      "A value is trying to be set on a copy of a slice from a DataFrame.\n",
      "Try using .loc[row_indexer,col_indexer] = value instead\n",
      "\n",
      "See the caveats in the documentation: https://pandas.pydata.org/pandas-docs/stable/user_guide/indexing.html#returning-a-view-versus-a-copy\n",
      "  trata_exp['txtVALUE'] = trata_exp['txtVALUE'].str.replace(',', '', regex=True)\n",
      "C:\\Users\\angel\\AppData\\Local\\Temp\\ipykernel_4724\\692451802.py:4: SettingWithCopyWarning: \n",
      "A value is trying to be set on a copy of a slice from a DataFrame.\n",
      "Try using .loc[row_indexer,col_indexer] = value instead\n",
      "\n",
      "See the caveats in the documentation: https://pandas.pydata.org/pandas-docs/stable/user_guide/indexing.html#returning-a-view-versus-a-copy\n",
      "  trata_exp['txtVALUE'] = trata_exp['txtVALUE'].astype(int)\n"
     ]
    }
   ],
   "source": [
    "condicion = trata_exp['txtVALUE'] == '<5'\n",
    "trata_exp.loc[condicion, 'txtVALUE'] = '3'\n",
    "trata_exp['txtVALUE'] = trata_exp['txtVALUE'].str.replace(',', '', regex=True)\n",
    "trata_exp['txtVALUE'] = trata_exp['txtVALUE'].astype(int)"
   ]
  },
  {
   "cell_type": "code",
   "execution_count": 13,
   "id": "f34a62b7",
   "metadata": {},
   "outputs": [
    {
     "name": "stdout",
     "output_type": "stream",
     "text": [
      "<class 'pandas.core.frame.DataFrame'>\n",
      "Int64Index: 13202 entries, 5 to 46555\n",
      "Data columns (total 13 columns):\n",
      " #   Column               Non-Null Count  Dtype \n",
      "---  ------               --------------  ----- \n",
      " 0   Iso3_code            13192 non-null  object\n",
      " 1   Country              12826 non-null  object\n",
      " 2   Region               12826 non-null  object\n",
      " 3   Subregion            12826 non-null  object\n",
      " 4   Indicator            13202 non-null  object\n",
      " 5   Dimension            13202 non-null  object\n",
      " 6   Category             13202 non-null  object\n",
      " 7   Sex                  13202 non-null  object\n",
      " 8   Age                  13202 non-null  object\n",
      " 9   Year                 13202 non-null  int64 \n",
      " 10  Unit of measurement  13202 non-null  object\n",
      " 11  txtVALUE             13202 non-null  int32 \n",
      " 12  Source               13202 non-null  object\n",
      "dtypes: int32(1), int64(1), object(11)\n",
      "memory usage: 1.4+ MB\n"
     ]
    }
   ],
   "source": [
    "trata_exp.info()"
   ]
  },
  {
   "cell_type": "markdown",
   "id": "aeeb46b4",
   "metadata": {},
   "source": [
    "Agrupa por \"País\", y suma los valores"
   ]
  },
  {
   "cell_type": "code",
   "execution_count": 14,
   "id": "16f76293",
   "metadata": {},
   "outputs": [
    {
     "data": {
      "text/html": [
       "<div>\n",
       "<style scoped>\n",
       "    .dataframe tbody tr th:only-of-type {\n",
       "        vertical-align: middle;\n",
       "    }\n",
       "\n",
       "    .dataframe tbody tr th {\n",
       "        vertical-align: top;\n",
       "    }\n",
       "\n",
       "    .dataframe thead th {\n",
       "        text-align: right;\n",
       "    }\n",
       "</style>\n",
       "<table border=\"1\" class=\"dataframe\">\n",
       "  <thead>\n",
       "    <tr style=\"text-align: right;\">\n",
       "      <th></th>\n",
       "      <th>Country</th>\n",
       "      <th>txtVALUE</th>\n",
       "    </tr>\n",
       "  </thead>\n",
       "  <tbody>\n",
       "    <tr>\n",
       "      <th>175</th>\n",
       "      <td>United States of America</td>\n",
       "      <td>115035</td>\n",
       "    </tr>\n",
       "    <tr>\n",
       "      <th>173</th>\n",
       "      <td>United Kingdom of Great Britain and Northern I...</td>\n",
       "      <td>56452</td>\n",
       "    </tr>\n",
       "    <tr>\n",
       "      <th>120</th>\n",
       "      <td>Nigeria</td>\n",
       "      <td>23395</td>\n",
       "    </tr>\n",
       "    <tr>\n",
       "      <th>75</th>\n",
       "      <td>India</td>\n",
       "      <td>22366</td>\n",
       "    </tr>\n",
       "    <tr>\n",
       "      <th>116</th>\n",
       "      <td>Netherlands</td>\n",
       "      <td>21227</td>\n",
       "    </tr>\n",
       "    <tr>\n",
       "      <th>...</th>\n",
       "      <td>...</td>\n",
       "      <td>...</td>\n",
       "    </tr>\n",
       "    <tr>\n",
       "      <th>0</th>\n",
       "      <td>Afghanistan</td>\n",
       "      <td>33</td>\n",
       "    </tr>\n",
       "    <tr>\n",
       "      <th>13</th>\n",
       "      <td>Bangladesh</td>\n",
       "      <td>33</td>\n",
       "    </tr>\n",
       "    <tr>\n",
       "      <th>142</th>\n",
       "      <td>San Marino</td>\n",
       "      <td>30</td>\n",
       "    </tr>\n",
       "    <tr>\n",
       "      <th>143</th>\n",
       "      <td>Sark</td>\n",
       "      <td>30</td>\n",
       "    </tr>\n",
       "    <tr>\n",
       "      <th>71</th>\n",
       "      <td>Holy See</td>\n",
       "      <td>27</td>\n",
       "    </tr>\n",
       "  </tbody>\n",
       "</table>\n",
       "<p>183 rows × 2 columns</p>\n",
       "</div>"
      ],
      "text/plain": [
       "                                               Country  txtVALUE\n",
       "175                           United States of America    115035\n",
       "173  United Kingdom of Great Britain and Northern I...     56452\n",
       "120                                            Nigeria     23395\n",
       "75                                               India     22366\n",
       "116                                        Netherlands     21227\n",
       "..                                                 ...       ...\n",
       "0                                          Afghanistan        33\n",
       "13                                          Bangladesh        33\n",
       "142                                         San Marino        30\n",
       "143                                               Sark        30\n",
       "71                                            Holy See        27\n",
       "\n",
       "[183 rows x 2 columns]"
      ]
     },
     "execution_count": 14,
     "metadata": {},
     "output_type": "execute_result"
    }
   ],
   "source": [
    "res_pais = trata_exp.groupby(['Country'])['txtVALUE'].sum().reset_index()\n",
    "res_pais.sort_values(by='txtVALUE', ascending=False) "
   ]
  },
  {
   "cell_type": "markdown",
   "id": "10917bb4",
   "metadata": {},
   "source": [
    "Agrupa por \"Categoria\", y suma los valores"
   ]
  },
  {
   "cell_type": "code",
   "execution_count": 15,
   "id": "6c3822fb",
   "metadata": {},
   "outputs": [
    {
     "data": {
      "text/html": [
       "<div>\n",
       "<style scoped>\n",
       "    .dataframe tbody tr th:only-of-type {\n",
       "        vertical-align: middle;\n",
       "    }\n",
       "\n",
       "    .dataframe tbody tr th {\n",
       "        vertical-align: top;\n",
       "    }\n",
       "\n",
       "    .dataframe thead th {\n",
       "        text-align: right;\n",
       "    }\n",
       "</style>\n",
       "<table border=\"1\" class=\"dataframe\">\n",
       "  <thead>\n",
       "    <tr style=\"text-align: right;\">\n",
       "      <th></th>\n",
       "      <th>Category</th>\n",
       "      <th>txtVALUE</th>\n",
       "    </tr>\n",
       "  </thead>\n",
       "  <tbody>\n",
       "    <tr>\n",
       "      <th>2</th>\n",
       "      <td>Sexual exploitation</td>\n",
       "      <td>319541</td>\n",
       "    </tr>\n",
       "    <tr>\n",
       "      <th>0</th>\n",
       "      <td>Forced labour</td>\n",
       "      <td>197068</td>\n",
       "    </tr>\n",
       "    <tr>\n",
       "      <th>1</th>\n",
       "      <td>Other forms of exploitation</td>\n",
       "      <td>97914</td>\n",
       "    </tr>\n",
       "  </tbody>\n",
       "</table>\n",
       "</div>"
      ],
      "text/plain": [
       "                      Category  txtVALUE\n",
       "2          Sexual exploitation    319541\n",
       "0                Forced labour    197068\n",
       "1  Other forms of exploitation     97914"
      ]
     },
     "execution_count": 15,
     "metadata": {},
     "output_type": "execute_result"
    }
   ],
   "source": [
    "res_categ = trata_exp.groupby(['Category'])['txtVALUE'].sum().reset_index()\n",
    "res_categ.sort_values(by='txtVALUE', ascending=False) "
   ]
  }
 ],
 "metadata": {
  "kernelspec": {
   "display_name": "Python 3 (ipykernel)",
   "language": "python",
   "name": "python3"
  },
  "language_info": {
   "codemirror_mode": {
    "name": "ipython",
    "version": 3
   },
   "file_extension": ".py",
   "mimetype": "text/x-python",
   "name": "python",
   "nbconvert_exporter": "python",
   "pygments_lexer": "ipython3",
   "version": "3.10.4"
  }
 },
 "nbformat": 4,
 "nbformat_minor": 5
}
