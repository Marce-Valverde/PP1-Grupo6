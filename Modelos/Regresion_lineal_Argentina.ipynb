{
 "cells": [
  {
   "cell_type": "markdown",
   "id": "3cc2e605-472d-4b46-93e8-149b1df3a1ee",
   "metadata": {},
   "source": [
    "## Librerias"
   ]
  },
  {
   "cell_type": "markdown",
   "id": "39919723-7e8b-4158-a720-4cf4c2de5ebc",
   "metadata": {},
   "source": [
    "Se importan las librerías que vamos a utilizar."
   ]
  },
  {
   "cell_type": "code",
   "execution_count": 19,
   "id": "c1f32b3d-607c-415b-be4d-91195add61d4",
   "metadata": {
    "tags": []
   },
   "outputs": [],
   "source": [
    "import pandas as pd\n",
    "import numpy as np\n",
    "import matplotlib.pyplot as plt\n",
    "import seaborn as sns\n",
    "import pandas as pd\n",
    "from sklearn import linear_model\n",
    "from sklearn.metrics import r2_score"
   ]
  },
  {
   "cell_type": "markdown",
   "id": "f8de55f0-770d-467d-bafe-4825ccc20b88",
   "metadata": {},
   "source": [
    "## Carga de set de datos"
   ]
  },
  {
   "cell_type": "markdown",
   "id": "e6030e3a-d2e4-4417-9299-bcf0aa547bb4",
   "metadata": {},
   "source": [
    "Se cargan archivo del set de datos final."
   ]
  },
  {
   "cell_type": "code",
   "execution_count": 20,
   "id": "24503dbb-8982-4601-b733-ad2d5cad3406",
   "metadata": {
    "tags": []
   },
   "outputs": [],
   "source": [
    "trata_exp = pd.read_csv('trata_exp.csv') #Lectura de Archivo"
   ]
  },
  {
   "cell_type": "markdown",
   "id": "65b065f8-c620-47aa-b16e-1c7a544cc359",
   "metadata": {},
   "source": [
    "Informacion del dataframe."
   ]
  },
  {
   "cell_type": "markdown",
   "id": "6d416a77-34c5-4d64-b9b5-9ea56b31ee81",
   "metadata": {},
   "source": [
    "Se realiza vista previa del dataframe."
   ]
  },
  {
   "cell_type": "code",
   "execution_count": 21,
   "id": "d0f69dce-a841-4433-bce3-60b157d739e0",
   "metadata": {
    "tags": []
   },
   "outputs": [
    {
     "data": {
      "text/html": [
       "<div>\n",
       "<style scoped>\n",
       "    .dataframe tbody tr th:only-of-type {\n",
       "        vertical-align: middle;\n",
       "    }\n",
       "\n",
       "    .dataframe tbody tr th {\n",
       "        vertical-align: top;\n",
       "    }\n",
       "\n",
       "    .dataframe thead th {\n",
       "        text-align: right;\n",
       "    }\n",
       "</style>\n",
       "<table border=\"1\" class=\"dataframe\">\n",
       "  <thead>\n",
       "    <tr style=\"text-align: right;\">\n",
       "      <th></th>\n",
       "      <th>Code</th>\n",
       "      <th>Country</th>\n",
       "      <th>Region</th>\n",
       "      <th>Subregion</th>\n",
       "      <th>Indicator</th>\n",
       "      <th>Dimension</th>\n",
       "      <th>Category</th>\n",
       "      <th>Sex</th>\n",
       "      <th>Age</th>\n",
       "      <th>Year</th>\n",
       "      <th>Unit</th>\n",
       "      <th>Value</th>\n",
       "      <th>Source</th>\n",
       "    </tr>\n",
       "  </thead>\n",
       "  <tbody>\n",
       "    <tr>\n",
       "      <th>0</th>\n",
       "      <td>AGO</td>\n",
       "      <td>Angola</td>\n",
       "      <td>Africa</td>\n",
       "      <td>Sub-Saharan Africa</td>\n",
       "      <td>Detected trafficking victims</td>\n",
       "      <td>by form of exploitation</td>\n",
       "      <td>Forced labour</td>\n",
       "      <td>Female</td>\n",
       "      <td>0 to 17 years</td>\n",
       "      <td>2017</td>\n",
       "      <td>Counts</td>\n",
       "      <td>3</td>\n",
       "      <td>GLOTIP</td>\n",
       "    </tr>\n",
       "    <tr>\n",
       "      <th>1</th>\n",
       "      <td>AGO</td>\n",
       "      <td>Angola</td>\n",
       "      <td>Africa</td>\n",
       "      <td>Sub-Saharan Africa</td>\n",
       "      <td>Detected trafficking victims</td>\n",
       "      <td>by form of exploitation</td>\n",
       "      <td>Forced labour</td>\n",
       "      <td>Female</td>\n",
       "      <td>18 years or over</td>\n",
       "      <td>2017</td>\n",
       "      <td>Counts</td>\n",
       "      <td>3</td>\n",
       "      <td>GLOTIP</td>\n",
       "    </tr>\n",
       "    <tr>\n",
       "      <th>2</th>\n",
       "      <td>AGO</td>\n",
       "      <td>Angola</td>\n",
       "      <td>Africa</td>\n",
       "      <td>Sub-Saharan Africa</td>\n",
       "      <td>Detected trafficking victims</td>\n",
       "      <td>by form of exploitation</td>\n",
       "      <td>Forced labour</td>\n",
       "      <td>Male</td>\n",
       "      <td>0 to 17 years</td>\n",
       "      <td>2017</td>\n",
       "      <td>Counts</td>\n",
       "      <td>12</td>\n",
       "      <td>GLOTIP</td>\n",
       "    </tr>\n",
       "    <tr>\n",
       "      <th>3</th>\n",
       "      <td>AGO</td>\n",
       "      <td>Angola</td>\n",
       "      <td>Africa</td>\n",
       "      <td>Sub-Saharan Africa</td>\n",
       "      <td>Detected trafficking victims</td>\n",
       "      <td>by form of exploitation</td>\n",
       "      <td>Forced labour</td>\n",
       "      <td>Male</td>\n",
       "      <td>18 years or over</td>\n",
       "      <td>2017</td>\n",
       "      <td>Counts</td>\n",
       "      <td>5</td>\n",
       "      <td>GLOTIP</td>\n",
       "    </tr>\n",
       "    <tr>\n",
       "      <th>4</th>\n",
       "      <td>AGO</td>\n",
       "      <td>Angola</td>\n",
       "      <td>Africa</td>\n",
       "      <td>Sub-Saharan Africa</td>\n",
       "      <td>Detected trafficking victims</td>\n",
       "      <td>by form of exploitation</td>\n",
       "      <td>Sexual exploitation</td>\n",
       "      <td>Female</td>\n",
       "      <td>0 to 17 years</td>\n",
       "      <td>2017</td>\n",
       "      <td>Counts</td>\n",
       "      <td>3</td>\n",
       "      <td>GLOTIP</td>\n",
       "    </tr>\n",
       "  </tbody>\n",
       "</table>\n",
       "</div>"
      ],
      "text/plain": [
       "  Code Country  Region           Subregion                     Indicator  \\\n",
       "0  AGO  Angola  Africa  Sub-Saharan Africa  Detected trafficking victims   \n",
       "1  AGO  Angola  Africa  Sub-Saharan Africa  Detected trafficking victims   \n",
       "2  AGO  Angola  Africa  Sub-Saharan Africa  Detected trafficking victims   \n",
       "3  AGO  Angola  Africa  Sub-Saharan Africa  Detected trafficking victims   \n",
       "4  AGO  Angola  Africa  Sub-Saharan Africa  Detected trafficking victims   \n",
       "\n",
       "                 Dimension             Category     Sex               Age  \\\n",
       "0  by form of exploitation        Forced labour  Female     0 to 17 years   \n",
       "1  by form of exploitation        Forced labour  Female  18 years or over   \n",
       "2  by form of exploitation        Forced labour    Male     0 to 17 years   \n",
       "3  by form of exploitation        Forced labour    Male  18 years or over   \n",
       "4  by form of exploitation  Sexual exploitation  Female     0 to 17 years   \n",
       "\n",
       "   Year    Unit  Value  Source  \n",
       "0  2017  Counts      3  GLOTIP  \n",
       "1  2017  Counts      3  GLOTIP  \n",
       "2  2017  Counts     12  GLOTIP  \n",
       "3  2017  Counts      5  GLOTIP  \n",
       "4  2017  Counts      3  GLOTIP  "
      ]
     },
     "execution_count": 21,
     "metadata": {},
     "output_type": "execute_result"
    }
   ],
   "source": [
    "trata_exp.head()"
   ]
  },
  {
   "cell_type": "code",
   "execution_count": 22,
   "id": "c3f1803a-6702-45dc-8236-f934ee283f22",
   "metadata": {
    "tags": []
   },
   "outputs": [
    {
     "data": {
      "text/html": [
       "<div>\n",
       "<style scoped>\n",
       "    .dataframe tbody tr th:only-of-type {\n",
       "        vertical-align: middle;\n",
       "    }\n",
       "\n",
       "    .dataframe tbody tr th {\n",
       "        vertical-align: top;\n",
       "    }\n",
       "\n",
       "    .dataframe thead th {\n",
       "        text-align: right;\n",
       "    }\n",
       "</style>\n",
       "<table border=\"1\" class=\"dataframe\">\n",
       "  <thead>\n",
       "    <tr style=\"text-align: right;\">\n",
       "      <th></th>\n",
       "      <th>Code</th>\n",
       "      <th>Country</th>\n",
       "      <th>Region</th>\n",
       "      <th>Subregion</th>\n",
       "      <th>Indicator</th>\n",
       "      <th>Dimension</th>\n",
       "      <th>Category</th>\n",
       "      <th>Sex</th>\n",
       "      <th>Age</th>\n",
       "      <th>Year</th>\n",
       "      <th>Unit</th>\n",
       "      <th>Value</th>\n",
       "      <th>Source</th>\n",
       "    </tr>\n",
       "  </thead>\n",
       "  <tbody>\n",
       "    <tr>\n",
       "      <th>0</th>\n",
       "      <td>AGO</td>\n",
       "      <td>Angola</td>\n",
       "      <td>Africa</td>\n",
       "      <td>Sub-Saharan Africa</td>\n",
       "      <td>Detected trafficking victims</td>\n",
       "      <td>by form of exploitation</td>\n",
       "      <td>Forced labour</td>\n",
       "      <td>Female</td>\n",
       "      <td>0 to 17 years</td>\n",
       "      <td>2017</td>\n",
       "      <td>Counts</td>\n",
       "      <td>3</td>\n",
       "      <td>GLOTIP</td>\n",
       "    </tr>\n",
       "    <tr>\n",
       "      <th>1</th>\n",
       "      <td>AGO</td>\n",
       "      <td>Angola</td>\n",
       "      <td>Africa</td>\n",
       "      <td>Sub-Saharan Africa</td>\n",
       "      <td>Detected trafficking victims</td>\n",
       "      <td>by form of exploitation</td>\n",
       "      <td>Forced labour</td>\n",
       "      <td>Female</td>\n",
       "      <td>18 years or over</td>\n",
       "      <td>2017</td>\n",
       "      <td>Counts</td>\n",
       "      <td>3</td>\n",
       "      <td>GLOTIP</td>\n",
       "    </tr>\n",
       "    <tr>\n",
       "      <th>2</th>\n",
       "      <td>AGO</td>\n",
       "      <td>Angola</td>\n",
       "      <td>Africa</td>\n",
       "      <td>Sub-Saharan Africa</td>\n",
       "      <td>Detected trafficking victims</td>\n",
       "      <td>by form of exploitation</td>\n",
       "      <td>Forced labour</td>\n",
       "      <td>Male</td>\n",
       "      <td>0 to 17 years</td>\n",
       "      <td>2017</td>\n",
       "      <td>Counts</td>\n",
       "      <td>12</td>\n",
       "      <td>GLOTIP</td>\n",
       "    </tr>\n",
       "    <tr>\n",
       "      <th>3</th>\n",
       "      <td>AGO</td>\n",
       "      <td>Angola</td>\n",
       "      <td>Africa</td>\n",
       "      <td>Sub-Saharan Africa</td>\n",
       "      <td>Detected trafficking victims</td>\n",
       "      <td>by form of exploitation</td>\n",
       "      <td>Forced labour</td>\n",
       "      <td>Male</td>\n",
       "      <td>18 years or over</td>\n",
       "      <td>2017</td>\n",
       "      <td>Counts</td>\n",
       "      <td>5</td>\n",
       "      <td>GLOTIP</td>\n",
       "    </tr>\n",
       "    <tr>\n",
       "      <th>4</th>\n",
       "      <td>AGO</td>\n",
       "      <td>Angola</td>\n",
       "      <td>Africa</td>\n",
       "      <td>Sub-Saharan Africa</td>\n",
       "      <td>Detected trafficking victims</td>\n",
       "      <td>by form of exploitation</td>\n",
       "      <td>Sexual exploitation</td>\n",
       "      <td>Female</td>\n",
       "      <td>0 to 17 years</td>\n",
       "      <td>2017</td>\n",
       "      <td>Counts</td>\n",
       "      <td>3</td>\n",
       "      <td>GLOTIP</td>\n",
       "    </tr>\n",
       "    <tr>\n",
       "      <th>...</th>\n",
       "      <td>...</td>\n",
       "      <td>...</td>\n",
       "      <td>...</td>\n",
       "      <td>...</td>\n",
       "      <td>...</td>\n",
       "      <td>...</td>\n",
       "      <td>...</td>\n",
       "      <td>...</td>\n",
       "      <td>...</td>\n",
       "      <td>...</td>\n",
       "      <td>...</td>\n",
       "      <td>...</td>\n",
       "      <td>...</td>\n",
       "    </tr>\n",
       "    <tr>\n",
       "      <th>5736</th>\n",
       "      <td>UZB</td>\n",
       "      <td>Uzbekistan</td>\n",
       "      <td>Asia</td>\n",
       "      <td>Central Asia</td>\n",
       "      <td>Detected trafficking victims</td>\n",
       "      <td>by form of exploitation</td>\n",
       "      <td>Other forms of exploitation</td>\n",
       "      <td>Male</td>\n",
       "      <td>0 to 17 years</td>\n",
       "      <td>2021</td>\n",
       "      <td>Counts</td>\n",
       "      <td>20</td>\n",
       "      <td>GLOTIP</td>\n",
       "    </tr>\n",
       "    <tr>\n",
       "      <th>5737</th>\n",
       "      <td>ZWE</td>\n",
       "      <td>Zimbabwe</td>\n",
       "      <td>Africa</td>\n",
       "      <td>Sub-Saharan Africa</td>\n",
       "      <td>Detected trafficking victims</td>\n",
       "      <td>by form of exploitation</td>\n",
       "      <td>Other forms of exploitation</td>\n",
       "      <td>Female</td>\n",
       "      <td>0 to 17 years</td>\n",
       "      <td>2020</td>\n",
       "      <td>Counts</td>\n",
       "      <td>3</td>\n",
       "      <td>GLOTIP</td>\n",
       "    </tr>\n",
       "    <tr>\n",
       "      <th>5738</th>\n",
       "      <td>ZWE</td>\n",
       "      <td>Zimbabwe</td>\n",
       "      <td>Africa</td>\n",
       "      <td>Sub-Saharan Africa</td>\n",
       "      <td>Detected trafficking victims</td>\n",
       "      <td>by form of exploitation</td>\n",
       "      <td>Other forms of exploitation</td>\n",
       "      <td>Female</td>\n",
       "      <td>18 years or over</td>\n",
       "      <td>2020</td>\n",
       "      <td>Counts</td>\n",
       "      <td>3</td>\n",
       "      <td>GLOTIP</td>\n",
       "    </tr>\n",
       "    <tr>\n",
       "      <th>5739</th>\n",
       "      <td>ZWE</td>\n",
       "      <td>Zimbabwe</td>\n",
       "      <td>Africa</td>\n",
       "      <td>Sub-Saharan Africa</td>\n",
       "      <td>Detected trafficking victims</td>\n",
       "      <td>by form of exploitation</td>\n",
       "      <td>Other forms of exploitation</td>\n",
       "      <td>Male</td>\n",
       "      <td>0 to 17 years</td>\n",
       "      <td>2020</td>\n",
       "      <td>Counts</td>\n",
       "      <td>3</td>\n",
       "      <td>GLOTIP</td>\n",
       "    </tr>\n",
       "    <tr>\n",
       "      <th>5740</th>\n",
       "      <td>ZWE</td>\n",
       "      <td>Zimbabwe</td>\n",
       "      <td>Africa</td>\n",
       "      <td>Sub-Saharan Africa</td>\n",
       "      <td>Detected trafficking victims</td>\n",
       "      <td>by form of exploitation</td>\n",
       "      <td>Other forms of exploitation</td>\n",
       "      <td>Male</td>\n",
       "      <td>18 years or over</td>\n",
       "      <td>2020</td>\n",
       "      <td>Counts</td>\n",
       "      <td>3</td>\n",
       "      <td>GLOTIP</td>\n",
       "    </tr>\n",
       "  </tbody>\n",
       "</table>\n",
       "<p>5741 rows × 13 columns</p>\n",
       "</div>"
      ],
      "text/plain": [
       "     Code     Country  Region           Subregion  \\\n",
       "0     AGO      Angola  Africa  Sub-Saharan Africa   \n",
       "1     AGO      Angola  Africa  Sub-Saharan Africa   \n",
       "2     AGO      Angola  Africa  Sub-Saharan Africa   \n",
       "3     AGO      Angola  Africa  Sub-Saharan Africa   \n",
       "4     AGO      Angola  Africa  Sub-Saharan Africa   \n",
       "...   ...         ...     ...                 ...   \n",
       "5736  UZB  Uzbekistan    Asia        Central Asia   \n",
       "5737  ZWE    Zimbabwe  Africa  Sub-Saharan Africa   \n",
       "5738  ZWE    Zimbabwe  Africa  Sub-Saharan Africa   \n",
       "5739  ZWE    Zimbabwe  Africa  Sub-Saharan Africa   \n",
       "5740  ZWE    Zimbabwe  Africa  Sub-Saharan Africa   \n",
       "\n",
       "                         Indicator                Dimension  \\\n",
       "0     Detected trafficking victims  by form of exploitation   \n",
       "1     Detected trafficking victims  by form of exploitation   \n",
       "2     Detected trafficking victims  by form of exploitation   \n",
       "3     Detected trafficking victims  by form of exploitation   \n",
       "4     Detected trafficking victims  by form of exploitation   \n",
       "...                            ...                      ...   \n",
       "5736  Detected trafficking victims  by form of exploitation   \n",
       "5737  Detected trafficking victims  by form of exploitation   \n",
       "5738  Detected trafficking victims  by form of exploitation   \n",
       "5739  Detected trafficking victims  by form of exploitation   \n",
       "5740  Detected trafficking victims  by form of exploitation   \n",
       "\n",
       "                         Category     Sex               Age  Year    Unit  \\\n",
       "0                   Forced labour  Female     0 to 17 years  2017  Counts   \n",
       "1                   Forced labour  Female  18 years or over  2017  Counts   \n",
       "2                   Forced labour    Male     0 to 17 years  2017  Counts   \n",
       "3                   Forced labour    Male  18 years or over  2017  Counts   \n",
       "4             Sexual exploitation  Female     0 to 17 years  2017  Counts   \n",
       "...                           ...     ...               ...   ...     ...   \n",
       "5736  Other forms of exploitation    Male     0 to 17 years  2021  Counts   \n",
       "5737  Other forms of exploitation  Female     0 to 17 years  2020  Counts   \n",
       "5738  Other forms of exploitation  Female  18 years or over  2020  Counts   \n",
       "5739  Other forms of exploitation    Male     0 to 17 years  2020  Counts   \n",
       "5740  Other forms of exploitation    Male  18 years or over  2020  Counts   \n",
       "\n",
       "      Value  Source  \n",
       "0         3  GLOTIP  \n",
       "1         3  GLOTIP  \n",
       "2        12  GLOTIP  \n",
       "3         5  GLOTIP  \n",
       "4         3  GLOTIP  \n",
       "...     ...     ...  \n",
       "5736     20  GLOTIP  \n",
       "5737      3  GLOTIP  \n",
       "5738      3  GLOTIP  \n",
       "5739      3  GLOTIP  \n",
       "5740      3  GLOTIP  \n",
       "\n",
       "[5741 rows x 13 columns]"
      ]
     },
     "execution_count": 22,
     "metadata": {},
     "output_type": "execute_result"
    }
   ],
   "source": [
    "trata_exp"
   ]
  },
  {
   "cell_type": "markdown",
   "id": "3c737314-35d5-470a-9625-b1e17c96b107",
   "metadata": {},
   "source": [
    "## Evaluación del modelo"
   ]
  },
  {
   "cell_type": "markdown",
   "id": "07e72fdf-0c15-4623-8924-0461799fe3bc",
   "metadata": {},
   "source": [
    "Visualiza panorama de los valores por año de Argentina."
   ]
  },
  {
   "cell_type": "code",
   "execution_count": 23,
   "id": "535643ff-5462-4980-a67f-e8be1ff88115",
   "metadata": {
    "tags": []
   },
   "outputs": [],
   "source": [
    "argentina_data = trata_exp[trata_exp['Country'] == 'Argentina']\n",
    "\n",
    "# Agrupa los datos filtrados por año y sumar los valores para cada año\n",
    "argentina_grouped = argentina_data.groupby('Year')['Value'].sum()"
   ]
  },
  {
   "cell_type": "code",
   "execution_count": 24,
   "id": "f6bcb52b-b989-47f9-a23f-3f415ce409ab",
   "metadata": {
    "tags": []
   },
   "outputs": [
    {
     "data": {
      "text/plain": [
       "Year\n",
       "2014     342\n",
       "2015     354\n",
       "2016     423\n",
       "2017      15\n",
       "2018      15\n",
       "2019    1621\n",
       "2020     963\n",
       "2021    1426\n",
       "Name: Value, dtype: int64"
      ]
     },
     "execution_count": 24,
     "metadata": {},
     "output_type": "execute_result"
    }
   ],
   "source": [
    "argentina_grouped"
   ]
  },
  {
   "cell_type": "markdown",
   "id": "48da6445-55c1-4e86-bbbe-3815b8a6dc2f",
   "metadata": {},
   "source": [
    "Convierte a dataframe al grupo sumatorio por año."
   ]
  },
  {
   "cell_type": "code",
   "execution_count": 25,
   "id": "85b44e64-6b31-42c2-b42b-4aee39bd0a83",
   "metadata": {
    "tags": []
   },
   "outputs": [
    {
     "name": "stdout",
     "output_type": "stream",
     "text": [
      "   Year  Value\n",
      "0  2014    342\n",
      "1  2015    354\n",
      "2  2016    423\n",
      "3  2017     15\n",
      "4  2018     15\n"
     ]
    }
   ],
   "source": [
    "argentina_grouped = argentina_grouped.reset_index()\n",
    "print(argentina_grouped.head())"
   ]
  },
  {
   "cell_type": "code",
   "execution_count": 26,
   "id": "699bf9d0-e8cd-4c23-9e97-a3a867fcf2e5",
   "metadata": {
    "tags": []
   },
   "outputs": [
    {
     "data": {
      "text/plain": [
       "<Axes: xlabel='Year', ylabel='Value'>"
      ]
     },
     "execution_count": 26,
     "metadata": {},
     "output_type": "execute_result"
    },
    {
     "data": {
      "image/png": "[encoded data removed]",
      "text/plain": [
       "<Figure size 640x480 with 1 Axes>"
      ]
     },
     "metadata": {},
     "output_type": "display_data"
    }
   ],
   "source": [
    "argentina_grouped.plot.scatter(x=\"Year\", y=\"Value\")"
   ]
  },
  {
   "cell_type": "markdown",
   "id": "386a6d42-ead5-4765-98bf-8ec6e253fd92",
   "metadata": {},
   "source": [
    "## Regresión lineal "
   ]
  },
  {
   "cell_type": "markdown",
   "id": "70e9fd8f-fbdf-4368-83a0-44df9461f6e2",
   "metadata": {},
   "source": [
    "Instancia modelo."
   ]
  },
  {
   "cell_type": "code",
   "execution_count": 27,
   "id": "aa873a78-2633-42d9-b60c-b1033b71dc8b",
   "metadata": {
    "tags": []
   },
   "outputs": [],
   "source": [
    "regresion = linear_model.LinearRegression()\n",
    "\n",
    "#convertir la serie de pandas en un arreglo NumPy.\n",
    "anio = argentina_grouped[\"Year\"].values.reshape((-1, 1))"
   ]
  },
  {
   "cell_type": "markdown",
   "id": "1d4c1be0-a791-4fd5-b4ae-8df6bf05cd70",
   "metadata": {},
   "source": [
    "Entrena modelo."
   ]
  },
  {
   "cell_type": "code",
   "execution_count": 28,
   "id": "83871cc5-c5a2-4a90-be6a-065e73d38a79",
   "metadata": {
    "tags": []
   },
   "outputs": [],
   "source": [
    "modelo = regresion.fit(anio, argentina_grouped[\"Value\"])"
   ]
  },
  {
   "cell_type": "markdown",
   "id": "0eb531eb-f9a5-4616-8671-aa3a108f6542",
   "metadata": {},
   "source": [
    "Estima valor de a y b de la recta."
   ]
  },
  {
   "cell_type": "code",
   "execution_count": 29,
   "id": "880156ea-2f92-49ee-8bcc-9bd25df75137",
   "metadata": {
    "tags": []
   },
   "outputs": [
    {
     "name": "stdout",
     "output_type": "stream",
     "text": [
      "Intersección (b) -341057.17857142864\n",
      "Pendiente (m) [169.36904762]\n"
     ]
    }
   ],
   "source": [
    "print(\"Intersección (b)\", modelo.intercept_)\n",
    "print(\"Pendiente (m)\", modelo.coef_)"
   ]
  },
  {
   "cell_type": "markdown",
   "id": "d7ba06da-ee5a-4a1b-8914-17dca25b7629",
   "metadata": {},
   "source": [
    "Predice valores para años anteriores no evaluados y a futuro."
   ]
  },
  {
   "cell_type": "code",
   "execution_count": 30,
   "id": "b8e1575d-3bda-4262-be64-c1432b8352d8",
   "metadata": {
    "tags": []
   },
   "outputs": [
    {
     "data": {
      "text/plain": [
       "array([-625.39285714, -456.02380952, -286.6547619 , -117.28571429,\n",
       "         52.08333333,  221.45238095,  390.82142857,  560.19047619,\n",
       "        729.55952381,  898.92857143, 1068.29761905, 1237.66666667,\n",
       "       1407.03571429, 1576.4047619 , 1745.77380952, 1915.14285714,\n",
       "       2084.51190476, 2253.88095238, 2423.25      , 2592.61904762,\n",
       "       2761.98809524, 2931.35714286, 3100.72619048, 3270.0952381 ,\n",
       "       3439.46428571, 3608.83333333, 3778.20238095, 3947.57142857,\n",
       "       4116.94047619, 4286.30952381, 4455.67857143])"
      ]
     },
     "execution_count": 30,
     "metadata": {},
     "output_type": "execute_result"
    }
   ],
   "source": [
    "# en entrada guardamos los valores de x para los cuales deseamos predecir y.\n",
    "entrada = np.arange(2010, 2041).reshape(-1, 1)\n",
    "modelo.predict(entrada)"
   ]
  },
  {
   "cell_type": "markdown",
   "id": "970a5d01-fa88-4142-9577-503f81f891c2",
   "metadata": {},
   "source": [
    "Predice valores para años no evaluados y a futuro."
   ]
  },
  {
   "cell_type": "code",
   "execution_count": 31,
   "id": "1594d17a-e2f0-487e-9464-9a4e155d29c1",
   "metadata": {
    "tags": []
   },
   "outputs": [
    {
     "name": "stdout",
     "output_type": "stream",
     "text": [
      "Coeficiente de determinación R cuadrado: 0.4490127686783645\n"
     ]
    }
   ],
   "source": [
    "predicciones = modelo.predict(entrada)\n",
    "\n",
    "# Calculo del coeficiente de determinación R cuadrado.\n",
    "r2 = r2_score(argentina_grouped[\"Value\"], modelo.predict(anio))\n",
    "print(\"Coeficiente de determinación R cuadrado:\", r2)"
   ]
  },
  {
   "cell_type": "markdown",
   "id": "c09e5645-7480-4abc-9a12-c13cf137078d",
   "metadata": {},
   "source": [
    "Grafica (Los puntos en rojo son los valores predecidos."
   ]
  },
  {
   "cell_type": "code",
   "execution_count": 32,
   "id": "ec1f9789-986e-4f82-a6a7-0935b66092d8",
   "metadata": {
    "tags": []
   },
   "outputs": [
    {
     "data": {
      "image/png": "[encoded data removed]",
      "text/plain": [
       "<Figure size 640x480 with 1 Axes>"
      ]
     },
     "metadata": {},
     "output_type": "display_data"
    }
   ],
   "source": [
    "plt.scatter(entrada, modelo.predict(entrada), color=\"red\") #datos de prueba\n",
    "plt.plot(entrada, modelo.predict(entrada), color=\"black\") #recta\n",
    "\n",
    "plt.title('Cantidad de Victimas por año en Argentina .')\n",
    "plt.ylabel(\"Cantidad\")\n",
    "plt.xlabel(\"Año\")\n",
    "plt.scatter(argentina_grouped[\"Year\"], argentina_grouped[\"Value\"], color=\"blue\") #datos de entrenamiento\n",
    "plt.show()"
   ]
  },
  {
   "cell_type": "markdown",
   "id": "3265282d-a087-455d-adab-72fe4d6016e5",
   "metadata": {},
   "source": [
    "Predicción para el año 2040."
   ]
  },
  {
   "cell_type": "code",
   "execution_count": 33,
   "id": "3411e721-6f70-4d14-8f88-6071a55eeb53",
   "metadata": {
    "tags": []
   },
   "outputs": [
    {
     "data": {
      "text/plain": [
       "array([4455.67857143])"
      ]
     },
     "execution_count": 33,
     "metadata": {},
     "output_type": "execute_result"
    }
   ],
   "source": [
    "anio=2040\n",
    "cantidad_de_casos = modelo.intercept_ + modelo.coef_ * anio\n",
    "cantidad_de_casos"
   ]
  },
  {
   "cell_type": "markdown",
   "id": "e313cbf1-d65a-4669-b71c-06dcdff12aef",
   "metadata": {},
   "source": [
    "se estima que la cantidad de casos en el año 2040 será de aproximadamente 4455."
   ]
  },
  {
   "cell_type": "markdown",
   "id": "1ef0821a-9e86-4c25-8581-d6b9c3f5c122",
   "metadata": {},
   "source": [
    "Conclusión "
   ]
  },
  {
   "cell_type": "markdown",
   "id": "d4a6c6d5-48ff-4ff3-9191-e6f67a7c86e4",
   "metadata": {},
   "source": [
    "Basado en el análisis de datos realizado para los valores por año en Argentina, se observa una tendencia general de incremento en la cantidad de víctimas a lo largo de los años, con una ligera disminución en los años 2017 y 2018. La regresión lineal aplicada sugiere una relación positiva entre el año y la cantidad de víctimas, con un coeficiente de determinación R cuadrado de 0.449, lo que indica que el modelo explica aproximadamente el 44.9% de la variabilidad de los datos. No obstante, es importante considerar que existen posibles limitaciones en la predicción de valores futuros basados únicamente en los datos históricos proporcionados. Se requiere un análisis más exhaustivo y consideración de otros factores relevantes para comprender completamente la dinámica de estos valores en Argentina."
   ]
  },
  {
   "cell_type": "code",
   "execution_count": null,
   "id": "dd1a202a-d59b-4ec8-a1da-70d66c6016e5",
   "metadata": {},
   "outputs": [],
   "source": []
  }
 ],
 "metadata": {
  "kernelspec": {
   "display_name": "Python 3 (ipykernel)",
   "language": "python",
   "name": "python3"
  },
  "language_info": {
   "codemirror_mode": {
    "name": "ipython",
    "version": 3
   },
   "file_extension": ".py",
   "mimetype": "text/x-python",
   "name": "python",
   "nbconvert_exporter": "python",
   "pygments_lexer": "ipython3",
   "version": "3.10.11"
  }
 },
 "nbformat": 4,
 "nbformat_minor": 5
}
