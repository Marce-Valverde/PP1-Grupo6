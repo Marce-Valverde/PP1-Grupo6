{
 "cells": [
  {
   "cell_type": "markdown",
   "metadata": {},
   "source": [
    "# Arbol de Decisión\n",
    "Un árbol de decisión es un modelo de aprendizaje automático que toma decisiones basadas en una serie de preguntas (nodos) para clasificar o predecir datos. Cada pregunta divide los datos en ramas, lo que lleva a decisiones finales (hojas) que representan las predicciones. Es una técnica de aprendizaje supervisado utilizada en clasificación y regresión.\n",
    "Exportamos el DataFrame ya trabajado anteriormente."
   ]
  },
  {
   "cell_type": "code",
   "execution_count": 37,
   "metadata": {},
   "outputs": [
    {
     "data": {
      "text/html": [
       "<div>\n",
       "<style scoped>\n",
       "    .dataframe tbody tr th:only-of-type {\n",
       "        vertical-align: middle;\n",
       "    }\n",
       "\n",
       "    .dataframe tbody tr th {\n",
       "        vertical-align: top;\n",
       "    }\n",
       "\n",
       "    .dataframe thead th {\n",
       "        text-align: right;\n",
       "    }\n",
       "</style>\n",
       "<table border=\"1\" class=\"dataframe\">\n",
       "  <thead>\n",
       "    <tr style=\"text-align: right;\">\n",
       "      <th></th>\n",
       "      <th>Code</th>\n",
       "      <th>Country</th>\n",
       "      <th>Region</th>\n",
       "      <th>Subregion</th>\n",
       "      <th>Indicator</th>\n",
       "      <th>Dimension</th>\n",
       "      <th>Category</th>\n",
       "      <th>Sex</th>\n",
       "      <th>Age</th>\n",
       "      <th>Year</th>\n",
       "      <th>Unit</th>\n",
       "      <th>Value</th>\n",
       "      <th>Source</th>\n",
       "    </tr>\n",
       "  </thead>\n",
       "  <tbody>\n",
       "    <tr>\n",
       "      <th>0</th>\n",
       "      <td>AGO</td>\n",
       "      <td>Angola</td>\n",
       "      <td>Africa</td>\n",
       "      <td>Sub-Saharan Africa</td>\n",
       "      <td>Detected trafficking victims</td>\n",
       "      <td>by form of exploitation</td>\n",
       "      <td>Forced labour</td>\n",
       "      <td>Female</td>\n",
       "      <td>0 to 17 years</td>\n",
       "      <td>2017</td>\n",
       "      <td>Counts</td>\n",
       "      <td>3</td>\n",
       "      <td>GLOTIP</td>\n",
       "    </tr>\n",
       "    <tr>\n",
       "      <th>1</th>\n",
       "      <td>AGO</td>\n",
       "      <td>Angola</td>\n",
       "      <td>Africa</td>\n",
       "      <td>Sub-Saharan Africa</td>\n",
       "      <td>Detected trafficking victims</td>\n",
       "      <td>by form of exploitation</td>\n",
       "      <td>Forced labour</td>\n",
       "      <td>Female</td>\n",
       "      <td>18 years or over</td>\n",
       "      <td>2017</td>\n",
       "      <td>Counts</td>\n",
       "      <td>3</td>\n",
       "      <td>GLOTIP</td>\n",
       "    </tr>\n",
       "    <tr>\n",
       "      <th>2</th>\n",
       "      <td>AGO</td>\n",
       "      <td>Angola</td>\n",
       "      <td>Africa</td>\n",
       "      <td>Sub-Saharan Africa</td>\n",
       "      <td>Detected trafficking victims</td>\n",
       "      <td>by form of exploitation</td>\n",
       "      <td>Forced labour</td>\n",
       "      <td>Male</td>\n",
       "      <td>0 to 17 years</td>\n",
       "      <td>2017</td>\n",
       "      <td>Counts</td>\n",
       "      <td>12</td>\n",
       "      <td>GLOTIP</td>\n",
       "    </tr>\n",
       "    <tr>\n",
       "      <th>3</th>\n",
       "      <td>AGO</td>\n",
       "      <td>Angola</td>\n",
       "      <td>Africa</td>\n",
       "      <td>Sub-Saharan Africa</td>\n",
       "      <td>Detected trafficking victims</td>\n",
       "      <td>by form of exploitation</td>\n",
       "      <td>Forced labour</td>\n",
       "      <td>Male</td>\n",
       "      <td>18 years or over</td>\n",
       "      <td>2017</td>\n",
       "      <td>Counts</td>\n",
       "      <td>5</td>\n",
       "      <td>GLOTIP</td>\n",
       "    </tr>\n",
       "    <tr>\n",
       "      <th>4</th>\n",
       "      <td>AGO</td>\n",
       "      <td>Angola</td>\n",
       "      <td>Africa</td>\n",
       "      <td>Sub-Saharan Africa</td>\n",
       "      <td>Detected trafficking victims</td>\n",
       "      <td>by form of exploitation</td>\n",
       "      <td>Sexual exploitation</td>\n",
       "      <td>Female</td>\n",
       "      <td>0 to 17 years</td>\n",
       "      <td>2017</td>\n",
       "      <td>Counts</td>\n",
       "      <td>3</td>\n",
       "      <td>GLOTIP</td>\n",
       "    </tr>\n",
       "  </tbody>\n",
       "</table>\n",
       "</div>"
      ],
      "text/plain": [
       "  Code Country  Region           Subregion                     Indicator  \\\n",
       "0  AGO  Angola  Africa  Sub-Saharan Africa  Detected trafficking victims   \n",
       "1  AGO  Angola  Africa  Sub-Saharan Africa  Detected trafficking victims   \n",
       "2  AGO  Angola  Africa  Sub-Saharan Africa  Detected trafficking victims   \n",
       "3  AGO  Angola  Africa  Sub-Saharan Africa  Detected trafficking victims   \n",
       "4  AGO  Angola  Africa  Sub-Saharan Africa  Detected trafficking victims   \n",
       "\n",
       "                 Dimension             Category     Sex               Age  \\\n",
       "0  by form of exploitation        Forced labour  Female     0 to 17 years   \n",
       "1  by form of exploitation        Forced labour  Female  18 years or over   \n",
       "2  by form of exploitation        Forced labour    Male     0 to 17 years   \n",
       "3  by form of exploitation        Forced labour    Male  18 years or over   \n",
       "4  by form of exploitation  Sexual exploitation  Female     0 to 17 years   \n",
       "\n",
       "   Year    Unit  Value  Source  \n",
       "0  2017  Counts      3  GLOTIP  \n",
       "1  2017  Counts      3  GLOTIP  \n",
       "2  2017  Counts     12  GLOTIP  \n",
       "3  2017  Counts      5  GLOTIP  \n",
       "4  2017  Counts      3  GLOTIP  "
      ]
     },
     "execution_count": 37,
     "metadata": {},
     "output_type": "execute_result"
    }
   ],
   "source": [
    "import pandas as pd\n",
    "import matplotlib.pyplot as plt\n",
    "\n",
    "trata_exp = pd.read_csv('../trata_exp.csv') \n",
    "trata_exp.shape\n",
    "trata_exp.head()"
   ]
  },
  {
   "cell_type": "markdown",
   "metadata": {},
   "source": [
    "### Adecuaciones para trabajar en el modelo"
   ]
  },
  {
   "cell_type": "markdown",
   "metadata": {},
   "source": [
    "#### Filtrado de Sexo y Edad"
   ]
  },
  {
   "cell_type": "markdown",
   "metadata": {},
   "source": [
    "Se eliminan las filas del Sexo \"Desconocido\" (Unknown) y \"Otros\" (Others) que representan el 10.9% del total."
   ]
  },
  {
   "cell_type": "code",
   "execution_count": 34,
   "metadata": {},
   "outputs": [
    {
     "data": {
      "text/plain": [
       "(5118, 13)"
      ]
     },
     "execution_count": 34,
     "metadata": {},
     "output_type": "execute_result"
    }
   ],
   "source": [
    "df = trata_exp.copy()\n",
    "df = df[df['Sex'] != 'Unknown']\n",
    "df = df[df['Sex'] != 'Other']\n",
    "df = df[df['Age'] != 'Unknown']\n",
    "df.shape"
   ]
  },
  {
   "cell_type": "markdown",
   "metadata": {},
   "source": [
    "### Valores extremos (outliner)\n",
    "Se procede a eliminar los valors extremos."
   ]
  },
  {
   "cell_type": "code",
   "execution_count": 35,
   "metadata": {},
   "outputs": [],
   "source": [
    "# Calcula el rango intercuartil (IQR)\n",
    "Q1 = df['Value'].quantile(0.25)\n",
    "Q3 = df['Value'].quantile(0.75)\n",
    "IQR = Q3 - Q1\n",
    "\n",
    "# Define los límites para identificar valores atípicos 2 veces el rango intercuartil\n",
    "limite_inferior = Q1 - 2 * IQR\n",
    "limite_superior = Q3 + 2 * IQR\n",
    "\n",
    "# Crea una máscara booleana para identificar las filas con valores atípicos.\n",
    "mascara_atipicos = (df['Value'] < limite_inferior) | (df['Value'] > limite_superior)\n",
    "\n",
    "# Filtra el DataFrame para eliminar las filas con valores atípicos\n",
    "df_sin_atipicos = df[~mascara_atipicos]\n",
    "# Se crea una copia para evitar dataframes rebanados (slices)\n",
    "df_arbol = df_sin_atipicos.copy()\n"
   ]
  },
  {
   "cell_type": "markdown",
   "metadata": {},
   "source": [
    "Se crean las etiquetas para las variables categóricas: Categoría, Sexo y Edad."
   ]
  },
  {
   "cell_type": "code",
   "execution_count": 36,
   "metadata": {},
   "outputs": [
    {
     "data": {
      "text/html": [
       "<div>\n",
       "<style scoped>\n",
       "    .dataframe tbody tr th:only-of-type {\n",
       "        vertical-align: middle;\n",
       "    }\n",
       "\n",
       "    .dataframe tbody tr th {\n",
       "        vertical-align: top;\n",
       "    }\n",
       "\n",
       "    .dataframe thead th {\n",
       "        text-align: right;\n",
       "    }\n",
       "</style>\n",
       "<table border=\"1\" class=\"dataframe\">\n",
       "  <thead>\n",
       "    <tr style=\"text-align: right;\">\n",
       "      <th></th>\n",
       "      <th>Category_encoded</th>\n",
       "      <th>Age_encoded</th>\n",
       "      <th>Sex_encoded</th>\n",
       "    </tr>\n",
       "  </thead>\n",
       "  <tbody>\n",
       "    <tr>\n",
       "      <th>0</th>\n",
       "      <td>0</td>\n",
       "      <td>0</td>\n",
       "      <td>0</td>\n",
       "    </tr>\n",
       "    <tr>\n",
       "      <th>1</th>\n",
       "      <td>0</td>\n",
       "      <td>1</td>\n",
       "      <td>0</td>\n",
       "    </tr>\n",
       "    <tr>\n",
       "      <th>2</th>\n",
       "      <td>0</td>\n",
       "      <td>0</td>\n",
       "      <td>1</td>\n",
       "    </tr>\n",
       "    <tr>\n",
       "      <th>3</th>\n",
       "      <td>0</td>\n",
       "      <td>1</td>\n",
       "      <td>1</td>\n",
       "    </tr>\n",
       "    <tr>\n",
       "      <th>4</th>\n",
       "      <td>2</td>\n",
       "      <td>0</td>\n",
       "      <td>0</td>\n",
       "    </tr>\n",
       "  </tbody>\n",
       "</table>\n",
       "</div>"
      ],
      "text/plain": [
       "   Category_encoded  Age_encoded  Sex_encoded\n",
       "0                 0            0            0\n",
       "1                 0            1            0\n",
       "2                 0            0            1\n",
       "3                 0            1            1\n",
       "4                 2            0            0"
      ]
     },
     "execution_count": 36,
     "metadata": {},
     "output_type": "execute_result"
    }
   ],
   "source": [
    "from sklearn.preprocessing import LabelEncoder\n",
    "\n",
    "# Crear una instancia de LabelEncoder para cada variable categórica\n",
    "label_encoder_category = LabelEncoder()\n",
    "label_encoder_sex = LabelEncoder()\n",
    "label_encoder_age = LabelEncoder()\n",
    "\n",
    "# Aplicar LabelEncoder a cada variable categórica\n",
    "df_arbol['Category_encoded'] = label_encoder_category.fit_transform(df_arbol['Category'])\n",
    "df_arbol['Sex_encoded'] = label_encoder_sex.fit_transform(df_arbol['Sex'])\n",
    "df_arbol['Age_encoded'] = label_encoder_age.fit_transform(df_arbol['Age'])\n",
    "\n",
    "nuevo_orden = ['Category_encoded','Age_encoded', 'Sex_encoded' ]\n",
    "df_arbol = df_arbol[nuevo_orden]\n",
    "df_arbol.head()"
   ]
  },
  {
   "cell_type": "markdown",
   "metadata": {},
   "source": [
    "Las codificación de las categorías son: *CATEGORÍA: 0 EXP. POR FUERZA LABORAL, 1 EXP. SEXUAL Y 2 OTRAS FORMAS DE EXPLOTACIÓN, - EDAD: 0 MENOR DE 18 AÑOS, 1 MAYOR DE 18 AÑOS, - SEXO: 0 FEMENINO, 1 MASCULINO*"
   ]
  },
  {
   "cell_type": "markdown",
   "metadata": {},
   "source": [
    "## Entrenamiento del modelo.\n",
    "Se intenta explicar la categoría del delito (variable y) por las categorias sexo y edad (variables x).\n",
    "Se entrena bajo el criterio de Entropía y se imprime el número de precisión."
   ]
  },
  {
   "cell_type": "code",
   "execution_count": 25,
   "metadata": {},
   "outputs": [
    {
     "name": "stdout",
     "output_type": "stream",
     "text": [
      "La precisión del modelo es: 0.34637514384349827\n"
     ]
    }
   ],
   "source": [
    "from sklearn.tree import DecisionTreeClassifier\n",
    "y = df_arbol.iloc[:,0]\n",
    "x = df_arbol.iloc[:,1:]\n",
    "from sklearn.model_selection import train_test_split\n",
    "x_train, x_test, y_train, y_test = train_test_split(x, y, test_size=0.2)\n",
    "\n",
    "\n",
    "arbol = DecisionTreeClassifier(criterion='entropy', max_depth=5)\n",
    "arbol.fit(x_train, y_train)\n",
    "prediccion = arbol.predict(x_test)\n",
    "\n",
    "from sklearn.metrics import accuracy_score\n",
    "print(f'La precisión del modelo es: {accuracy_score(y_test, prediccion)}')\n",
    "\n"
   ]
  },
  {
   "cell_type": "markdown",
   "metadata": {},
   "source": [
    "### Métricas del módelo\n",
    "\n",
    "Usamos la precisión para analizar los datos obtenidos."
   ]
  },
  {
   "cell_type": "code",
   "execution_count": 11,
   "metadata": {},
   "outputs": [
    {
     "name": "stdout",
     "output_type": "stream",
     "text": [
      "|--- Sex <= 0.50\n",
      "|   |--- Age <= 0.50\n",
      "|   |   |--- class: Other forms of exploitation\n",
      "|   |--- Age >  0.50\n",
      "|   |   |--- class: Forced labour\n",
      "|--- Sex >  0.50\n",
      "|   |--- Age <= 0.50\n",
      "|   |   |--- class: Other forms of exploitation\n",
      "|   |--- Age >  0.50\n",
      "|   |   |--- class: Other forms of exploitation\n",
      "\n"
     ]
    }
   ],
   "source": [
    "from sklearn import tree\n",
    "print(tree.export_text(arbol, feature_names=['Age', 'Sex'], class_names=['Forced labour', 'Sexual exploitation', 'Other forms of exploitation']))"
   ]
  },
  {
   "cell_type": "markdown",
   "metadata": {},
   "source": [
    "Se verifica la cantidad de clases: 3, que son las categorias de violencia."
   ]
  },
  {
   "cell_type": "code",
   "execution_count": 6,
   "metadata": {},
   "outputs": [
    {
     "name": "stdout",
     "output_type": "stream",
     "text": [
      "Número de clases: 3\n"
     ]
    }
   ],
   "source": [
    "num_clases = len(arbol.classes_)\n",
    "print(f'Número de clases: {num_clases}')"
   ]
  },
  {
   "cell_type": "markdown",
   "metadata": {},
   "source": [
    "Se importa el gráfico del árbol en PDF (arbol.pdf)."
   ]
  },
  {
   "cell_type": "code",
   "execution_count": 15,
   "metadata": {},
   "outputs": [
    {
     "data": {
      "text/plain": [
       "'arbol.pdf'"
      ]
     },
     "execution_count": 15,
     "metadata": {},
     "output_type": "execute_result"
    }
   ],
   "source": [
    "from sklearn.tree import export_graphviz\n",
    "import graphviz\n",
    "\n",
    "dot_data = export_graphviz(arbol, out_file=None, feature_names=['Age', 'Sex'], class_names=['Forced labour', 'Sexual exploitation', 'Other forms of exploitation'], filled=True, rounded=True, special_characters=True)\n",
    "graph = graphviz.Source(dot_data)\n",
    "graph.render(\"arbol\")  # Esto creará un archivo \"arbol.pdf\" en el directorio actual\n",
    "graph.view(\"arbol\")    # Esto abrirá la representación gráfica del árbol en un visor PDF"
   ]
  },
  {
   "cell_type": "markdown",
   "metadata": {},
   "source": [
    "Se prueba bajo el criterio del coeficiente de Gini si es posible mejorar la predición. De todas formas la precisión es similar."
   ]
  },
  {
   "cell_type": "code",
   "execution_count": 17,
   "metadata": {},
   "outputs": [
    {
     "name": "stdout",
     "output_type": "stream",
     "text": [
      "La precisión del modelo es: 0.31070195627157654\n",
      "|--- Sex <= 0.50\n",
      "|   |--- Age <= 0.50\n",
      "|   |   |--- class: Sexual exploitation\n",
      "|   |--- Age >  0.50\n",
      "|   |   |--- class: Sexual exploitation\n",
      "|--- Sex >  0.50\n",
      "|   |--- Age <= 0.50\n",
      "|   |   |--- class: Forced labour\n",
      "|   |--- Age >  0.50\n",
      "|   |   |--- class: Other forms of exploitation\n",
      "\n"
     ]
    }
   ],
   "source": [
    "from sklearn.tree import DecisionTreeClassifier\n",
    "y = df_arbol.iloc[:,0]\n",
    "x = df_arbol.iloc[:,1:]\n",
    "from sklearn.model_selection import train_test_split\n",
    "x_train, x_test, y_train, y_test = train_test_split(x, y, test_size=0.2)\n",
    "\n",
    "\n",
    "arbol_gini = DecisionTreeClassifier(criterion='gini', max_depth=5)\n",
    "arbol_gini.fit(x_train, y_train)\n",
    "prediccion = arbol_gini.predict(x_test)\n",
    "\n",
    "from sklearn.metrics import accuracy_score\n",
    "print(f'La precisión del modelo es: {accuracy_score(y_test, prediccion)}')\n",
    "from sklearn import tree\n",
    "print(tree.export_text(arbol_gini, feature_names=['Age', 'Sex'], class_names=['Forced labour', 'Sexual exploitation', 'Other forms of exploitation']))"
   ]
  },
  {
   "cell_type": "markdown",
   "metadata": {},
   "source": [
    "Se imprime el gráfico de arbol (arbol2.pdf)."
   ]
  },
  {
   "cell_type": "code",
   "execution_count": 16,
   "metadata": {},
   "outputs": [
    {
     "data": {
      "text/plain": [
       "'arbol2.pdf'"
      ]
     },
     "execution_count": 16,
     "metadata": {},
     "output_type": "execute_result"
    }
   ],
   "source": [
    "\n",
    "from sklearn.tree import export_graphviz\n",
    "import graphviz\n",
    "\n",
    "dot_data = export_graphviz(arbol_gini, out_file=None, feature_names=['Age', 'Sex'], class_names=['Forced labour', 'Sexual exploitation', 'Other forms of exploitation'], filled=True, rounded=True, special_characters=True)\n",
    "graph = graphviz.Source(dot_data)\n",
    "graph.render(\"arbol2\")  # Esto creará un archivo \"arbol.pdf\" en el directorio actual\n",
    "graph.view(\"arbol2\")    # Esto abrirá la representación gráfica del árbol en un visor PDF"
   ]
  },
  {
   "cell_type": "markdown",
   "metadata": {},
   "source": [
    "Analizamos la cantidad de paths o números de ruta y graficamos. Criterio entropía."
   ]
  },
  {
   "cell_type": "code",
   "execution_count": 28,
   "metadata": {},
   "outputs": [
    {
     "data": {
      "image/png": "[encoded data removed]",
      "text/plain": [
       "<Figure size 1000x600 with 1 Axes>"
      ]
     },
     "metadata": {},
     "output_type": "display_data"
    }
   ],
   "source": [
    "depths = range(1, 16)  # Por ejemplo, exploraremos profundidades de 1 a 15.\n",
    "precisiones = []\n",
    "\n",
    "for depth in depths:\n",
    "    model = DecisionTreeClassifier(criterion='entropy', max_depth=depth)\n",
    "    model.fit(x_train, y_train)\n",
    "    y_pred = model.predict(x_test)\n",
    "    accuracy = accuracy_score(y_test, y_pred)\n",
    "    precisiones.append(accuracy)\n",
    "\n",
    "plt.figure(figsize=(10, 6))\n",
    "plt.plot(depths, precisiones, marker='o', linestyle='-')\n",
    "plt.title('Precisión del Árbol de Decisión vs. Profundidad')\n",
    "plt.xlabel('Profundidad del Árbol')\n",
    "plt.ylabel('Precisión')\n",
    "plt.grid(True)\n",
    "plt.show()"
   ]
  },
  {
   "cell_type": "code",
   "execution_count": 27,
   "metadata": {},
   "outputs": [
    {
     "data": {
      "image/png": "[encoded data removed]",
      "text/plain": [
       "<Figure size 1000x600 with 1 Axes>"
      ]
     },
     "metadata": {},
     "output_type": "display_data"
    }
   ],
   "source": [
    "depths = range(1, 16)  # Por ejemplo, exploraremos profundidades de 1 a 15.\n",
    "precisiones2 = []\n",
    "\n",
    "for depth in depths:\n",
    "    model2 = DecisionTreeClassifier(criterion='gini', max_depth=depth)\n",
    "    model2.fit(x_train, y_train)\n",
    "    y_pred2 = model2.predict(x_test)\n",
    "    accuracy2 = accuracy_score(y_test, y_pred)\n",
    "    precisiones2.append(accuracy2)\n",
    "\n",
    "plt.figure(figsize=(10, 6))\n",
    "plt.plot(depths, precisiones2, marker='o', linestyle='-')\n",
    "plt.title('Precisión del Árbol de Decisión vs. Profundidad')\n",
    "plt.xlabel('Profundidad del Árbol')\n",
    "plt.ylabel('Precisión')\n",
    "plt.grid(True)\n",
    "plt.show()"
   ]
  },
  {
   "cell_type": "markdown",
   "metadata": {},
   "source": [
    "Podemos decir que no hay cambios significativos, dado que tampoco hay tantas variables a analizar."
   ]
  },
  {
   "cell_type": "markdown",
   "metadata": {},
   "source": [
    "### Pruebas de calidad del modelo:\n",
    "Matriz de confusión: se calcula la matriz de confusión para evaluar la precisión, sensibilidad y especificidad del modelo.\n"
   ]
  },
  {
   "cell_type": "code",
   "execution_count": 31,
   "metadata": {},
   "outputs": [
    {
     "name": "stdout",
     "output_type": "stream",
     "text": [
      "Informe de clasificación:\n",
      "              precision    recall  f1-score   support\n",
      "\n",
      "           0       0.35      0.78      0.48      1460\n",
      "           1       0.00      0.00      0.00      1453\n",
      "           2       0.36      0.27      0.31      1430\n",
      "\n",
      "    accuracy                           0.35      4343\n",
      "   macro avg       0.24      0.35      0.26      4343\n",
      "weighted avg       0.24      0.35      0.26      4343\n",
      "\n"
     ]
    },
    {
     "name": "stderr",
     "output_type": "stream",
     "text": [
      "c:\\Users\\angel\\AppData\\Local\\Programs\\Python\\Python310\\lib\\site-packages\\sklearn\\metrics\\_classification.py:1469: UndefinedMetricWarning: Precision and F-score are ill-defined and being set to 0.0 in labels with no predicted samples. Use `zero_division` parameter to control this behavior.\n",
      "  _warn_prf(average, modifier, msg_start, len(result))\n",
      "c:\\Users\\angel\\AppData\\Local\\Programs\\Python\\Python310\\lib\\site-packages\\sklearn\\metrics\\_classification.py:1469: UndefinedMetricWarning: Precision and F-score are ill-defined and being set to 0.0 in labels with no predicted samples. Use `zero_division` parameter to control this behavior.\n",
      "  _warn_prf(average, modifier, msg_start, len(result))\n",
      "c:\\Users\\angel\\AppData\\Local\\Programs\\Python\\Python310\\lib\\site-packages\\sklearn\\metrics\\_classification.py:1469: UndefinedMetricWarning: Precision and F-score are ill-defined and being set to 0.0 in labels with no predicted samples. Use `zero_division` parameter to control this behavior.\n",
      "  _warn_prf(average, modifier, msg_start, len(result))\n"
     ]
    }
   ],
   "source": [
    "from sklearn.metrics import classification_report\n",
    "\n",
    "y_pred = model.predict(x)\n",
    "\n",
    "report = classification_report(y, y_pred)\n",
    "print(\"Informe de clasificación:\")\n",
    "print(report)"
   ]
  },
  {
   "cell_type": "markdown",
   "metadata": {},
   "source": [
    "Podemos ver que la clase 0 (Fuerza Laboral) tiene una precisión de 0.35 y un recall indica la proporción de ejemplos verdaderos positivos con respecto a todos los ejemplos verdaderos positivos y falsos negativos. Es decir que se capturó correctamente el 78% de todos los ejemplos verdaderos positivos de la clase 0. Así se observa que la clase 1 (Explotación Sexual es la clase que debería volver a analizarse dados que los valores no permiten tener una precisión)."
   ]
  },
  {
   "cell_type": "markdown",
   "metadata": {},
   "source": [
    "#### Conclusión Breve\n",
    "Del árbol de decisión se puede clasificar que las mujeres menores corren más riesgo de sufrir explotación laboral, en el caso de mayores de edad explotación sexual (entropía). Igual situación para lo analizado bajo Gini. En el caso de los varones menores se clasifica como explotación laboral y para mayores en otras formas de explotación por entropía. En el caso considerar el coeficiente de Gini, no distingue por edad Otras formas de explotación.\n",
    "En ambos casos la precisión no es la esperada por lo que deberá trabajarse con los obtenidos."
   ]
  }
 ],
 "metadata": {
  "kernelspec": {
   "display_name": "Python 3",
   "language": "python",
   "name": "python3"
  },
  "language_info": {
   "codemirror_mode": {
    "name": "ipython",
    "version": 3
   },
   "file_extension": ".py",
   "mimetype": "text/x-python",
   "name": "python",
   "nbconvert_exporter": "python",
   "pygments_lexer": "ipython3",
   "version": "3.10.4"
  }
 },
 "nbformat": 4,
 "nbformat_minor": 2
}
