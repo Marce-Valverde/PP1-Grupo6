{
 "cells": [
  {
   "cell_type": "markdown",
   "metadata": {},
   "source": [
    "# Arbol de Decisión\n",
    "Un árbol de decisión es un modelo de aprendizaje automático que toma decisiones basadas en una serie de preguntas (nodos) para clasificar o predecir datos. Cada pregunta divide los datos en ramas, lo que lleva a decisiones finales (hojas) que representan las predicciones. Es una técnica de aprendizaje supervisado utilizada en clasificación y regresión.\n",
    "Exportamos el DataFrame ya trabajado anteriormente."
   ]
  },
  {
   "cell_type": "code",
   "execution_count": 18,
   "metadata": {},
   "outputs": [
    {
     "data": {
      "text/plain": [
       "(5741, 13)"
      ]
     },
     "execution_count": 18,
     "metadata": {},
     "output_type": "execute_result"
    }
   ],
   "source": [
    "import pandas as pd\n",
    "import matplotlib.pyplot as plt\n",
    "\n",
    "trata_exp = pd.read_csv('../trata_exp.csv') \n",
    "trata_exp.shape"
   ]
  },
  {
   "cell_type": "markdown",
   "metadata": {},
   "source": [
    "### Adecuaciones para trabajar en el modelo"
   ]
  },
  {
   "cell_type": "markdown",
   "metadata": {},
   "source": [
    "#### Filtrado de Sexo y Edad"
   ]
  },
  {
   "cell_type": "markdown",
   "metadata": {},
   "source": [
    "Se eliminan las filas del Sexo \"Desconocido\" (Unknown) y \"Otros\" (Others) que representan el 10.9% del total."
   ]
  },
  {
   "cell_type": "code",
   "execution_count": 19,
   "metadata": {},
   "outputs": [
    {
     "data": {
      "text/plain": [
       "(5118, 13)"
      ]
     },
     "execution_count": 19,
     "metadata": {},
     "output_type": "execute_result"
    }
   ],
   "source": [
    "df = trata_exp.copy()\n",
    "df = df[df['Sex'] != 'Unknown']\n",
    "df = df[df['Sex'] != 'Other']\n",
    "df = df[df['Age'] != 'Unknown']\n",
    "df.shape"
   ]
  },
  {
   "cell_type": "markdown",
   "metadata": {},
   "source": [
    "### Valores extremos (outliner)\n",
    "Se procede a eliminar los valors extremos."
   ]
  },
  {
   "cell_type": "code",
   "execution_count": 6,
   "metadata": {},
   "outputs": [],
   "source": [
    "# Calcula el rango intercuartil (IQR)\n",
    "Q1 = df['Value'].quantile(0.25)\n",
    "Q3 = df['Value'].quantile(0.75)\n",
    "IQR = Q3 - Q1\n",
    "\n",
    "# Define los límites para identificar valores atípicos 2 veces el rango intercuartil\n",
    "limite_inferior = Q1 - 2 * IQR\n",
    "limite_superior = Q3 + 2 * IQR\n",
    "\n",
    "# Crea una máscara booleana para identificar las filas con valores atípicos.\n",
    "mascara_atipicos = (df['Value'] < limite_inferior) | (df['Value'] > limite_superior)\n",
    "\n",
    "# Filtra el DataFrame para eliminar las filas con valores atípicos\n",
    "df_sin_atipicos = df[~mascara_atipicos]\n",
    "# Se crea una copia para evitar dataframes rebanados (slices)\n",
    "df_arbol = df_sin_atipicos.copy()\n"
   ]
  },
  {
   "cell_type": "markdown",
   "metadata": {},
   "source": [
    "Se crean las etiquetas para las variables categóricas: Categoría, Sexo y Edad."
   ]
  },
  {
   "cell_type": "code",
   "execution_count": 7,
   "metadata": {},
   "outputs": [
    {
     "data": {
      "text/html": [
       "<div>\n",
       "<style scoped>\n",
       "    .dataframe tbody tr th:only-of-type {\n",
       "        vertical-align: middle;\n",
       "    }\n",
       "\n",
       "    .dataframe tbody tr th {\n",
       "        vertical-align: top;\n",
       "    }\n",
       "\n",
       "    .dataframe thead th {\n",
       "        text-align: right;\n",
       "    }\n",
       "</style>\n",
       "<table border=\"1\" class=\"dataframe\">\n",
       "  <thead>\n",
       "    <tr style=\"text-align: right;\">\n",
       "      <th></th>\n",
       "      <th>Category_encoded</th>\n",
       "      <th>Age_encoded</th>\n",
       "      <th>Sex_encoded</th>\n",
       "    </tr>\n",
       "  </thead>\n",
       "  <tbody>\n",
       "    <tr>\n",
       "      <th>532</th>\n",
       "      <td>2</td>\n",
       "      <td>0</td>\n",
       "      <td>1</td>\n",
       "    </tr>\n",
       "    <tr>\n",
       "      <th>1554</th>\n",
       "      <td>0</td>\n",
       "      <td>0</td>\n",
       "      <td>1</td>\n",
       "    </tr>\n",
       "    <tr>\n",
       "      <th>185</th>\n",
       "      <td>0</td>\n",
       "      <td>1</td>\n",
       "      <td>1</td>\n",
       "    </tr>\n",
       "    <tr>\n",
       "      <th>699</th>\n",
       "      <td>2</td>\n",
       "      <td>0</td>\n",
       "      <td>0</td>\n",
       "    </tr>\n",
       "    <tr>\n",
       "      <th>5</th>\n",
       "      <td>2</td>\n",
       "      <td>1</td>\n",
       "      <td>0</td>\n",
       "    </tr>\n",
       "    <tr>\n",
       "      <th>4709</th>\n",
       "      <td>1</td>\n",
       "      <td>0</td>\n",
       "      <td>0</td>\n",
       "    </tr>\n",
       "    <tr>\n",
       "      <th>1367</th>\n",
       "      <td>0</td>\n",
       "      <td>0</td>\n",
       "      <td>1</td>\n",
       "    </tr>\n",
       "    <tr>\n",
       "      <th>3983</th>\n",
       "      <td>1</td>\n",
       "      <td>0</td>\n",
       "      <td>1</td>\n",
       "    </tr>\n",
       "    <tr>\n",
       "      <th>1509</th>\n",
       "      <td>2</td>\n",
       "      <td>0</td>\n",
       "      <td>1</td>\n",
       "    </tr>\n",
       "    <tr>\n",
       "      <th>1488</th>\n",
       "      <td>2</td>\n",
       "      <td>0</td>\n",
       "      <td>0</td>\n",
       "    </tr>\n",
       "    <tr>\n",
       "      <th>826</th>\n",
       "      <td>0</td>\n",
       "      <td>0</td>\n",
       "      <td>1</td>\n",
       "    </tr>\n",
       "    <tr>\n",
       "      <th>4417</th>\n",
       "      <td>1</td>\n",
       "      <td>0</td>\n",
       "      <td>0</td>\n",
       "    </tr>\n",
       "    <tr>\n",
       "      <th>778</th>\n",
       "      <td>0</td>\n",
       "      <td>0</td>\n",
       "      <td>0</td>\n",
       "    </tr>\n",
       "    <tr>\n",
       "      <th>3799</th>\n",
       "      <td>0</td>\n",
       "      <td>1</td>\n",
       "      <td>0</td>\n",
       "    </tr>\n",
       "    <tr>\n",
       "      <th>2397</th>\n",
       "      <td>2</td>\n",
       "      <td>0</td>\n",
       "      <td>0</td>\n",
       "    </tr>\n",
       "  </tbody>\n",
       "</table>\n",
       "</div>"
      ],
      "text/plain": [
       "      Category_encoded  Age_encoded  Sex_encoded\n",
       "532                  2            0            1\n",
       "1554                 0            0            1\n",
       "185                  0            1            1\n",
       "699                  2            0            0\n",
       "5                    2            1            0\n",
       "4709                 1            0            0\n",
       "1367                 0            0            1\n",
       "3983                 1            0            1\n",
       "1509                 2            0            1\n",
       "1488                 2            0            0\n",
       "826                  0            0            1\n",
       "4417                 1            0            0\n",
       "778                  0            0            0\n",
       "3799                 0            1            0\n",
       "2397                 2            0            0"
      ]
     },
     "execution_count": 7,
     "metadata": {},
     "output_type": "execute_result"
    }
   ],
   "source": [
    "from sklearn.preprocessing import LabelEncoder\n",
    "\n",
    "# Crear una instancia de LabelEncoder para cada variable categórica\n",
    "label_encoder_category = LabelEncoder()\n",
    "label_encoder_sex = LabelEncoder()\n",
    "label_encoder_age = LabelEncoder()\n",
    "\n",
    "# Aplicar LabelEncoder a cada variable categórica\n",
    "df_arbol['Category_encoded'] = label_encoder_category.fit_transform(df_arbol['Category'])\n",
    "df_arbol['Sex_encoded'] = label_encoder_sex.fit_transform(df_arbol['Sex'])\n",
    "df_arbol['Age_encoded'] = label_encoder_age.fit_transform(df_arbol['Age'])\n",
    "\n",
    "nuevo_orden = ['Category_encoded','Age_encoded', 'Sex_encoded' ]\n",
    "df_arbol = df_arbol[nuevo_orden]\n",
    "df_arbol.sample(15)"
   ]
  },
  {
   "cell_type": "markdown",
   "metadata": {},
   "source": [
    "Las codificación de las categorías son: *CATEGORÍA: 0 EXP. POR FUERZA LABORAL, 1 EXP. SEXUAL Y 2 OTRAS FORMAS DE EXPLOTACIÓN, - EDAD: 0 MENOR DE 18 AÑOS, 1 MAYOR DE 18 AÑOS, - SEXO: 0 FEMENINO, 1 MASCULINO*"
   ]
  },
  {
   "cell_type": "markdown",
   "metadata": {},
   "source": [
    "## Entrenamiento del modelo.\n",
    "Se intenta explicar la categoría del delito (variable y) por las categorias sexo y edad (variables x).\n",
    "Se entrena bajo el criterio de Entropía y se imprime el número de precisión."
   ]
  },
  {
   "cell_type": "code",
   "execution_count": 13,
   "metadata": {},
   "outputs": [
    {
     "name": "stdout",
     "output_type": "stream",
     "text": [
      "La precisión del modelo es: 0.3429228998849252\n",
      "|--- Sex <= 0.50\n",
      "|   |--- Age <= 0.50\n",
      "|   |   |--- class: Forced labour\n",
      "|   |--- Age >  0.50\n",
      "|   |   |--- class: Sexual exploitation\n",
      "|--- Sex >  0.50\n",
      "|   |--- Age <= 0.50\n",
      "|   |   |--- class: Forced labour\n",
      "|   |--- Age >  0.50\n",
      "|   |   |--- class: Other forms of exploitation\n",
      "\n"
     ]
    }
   ],
   "source": [
    "from sklearn.tree import DecisionTreeClassifier\n",
    "y = df_arbol.iloc[:,0]\n",
    "x = df_arbol.iloc[:,1:]\n",
    "from sklearn.model_selection import train_test_split\n",
    "x_train, x_test, y_train, y_test = train_test_split(x, y, test_size=0.2)\n",
    "\n",
    "\n",
    "arbol = DecisionTreeClassifier(criterion='entropy', max_depth=5)\n",
    "arbol.fit(x_train, y_train)\n",
    "prediccion = arbol.predict(x_test)\n",
    "\n",
    "from sklearn.metrics import accuracy_score\n",
    "print(f'La precisión del modelo es: {accuracy_score(y_test, prediccion)}')\n",
    "from sklearn import tree\n",
    "print(tree.export_text(arbol, feature_names=['Age', 'Sex'], class_names=['Forced labour', 'Sexual exploitation', 'Other forms of exploitation']))\n"
   ]
  },
  {
   "cell_type": "markdown",
   "metadata": {},
   "source": [
    "Se verifica la cantidad de clases: 3, que son las categorias de violencia."
   ]
  },
  {
   "cell_type": "code",
   "execution_count": 9,
   "metadata": {},
   "outputs": [
    {
     "name": "stdout",
     "output_type": "stream",
     "text": [
      "Número de clases: 3\n"
     ]
    }
   ],
   "source": [
    "num_clases = len(arbol.classes_)\n",
    "print(f'Número de clases: {num_clases}')"
   ]
  },
  {
   "cell_type": "markdown",
   "metadata": {},
   "source": [
    "Se importa el gráfico del árbol en PDF (arbol.pdf)."
   ]
  },
  {
   "cell_type": "code",
   "execution_count": 15,
   "metadata": {},
   "outputs": [
    {
     "data": {
      "text/plain": [
       "'arbol.pdf'"
      ]
     },
     "execution_count": 15,
     "metadata": {},
     "output_type": "execute_result"
    }
   ],
   "source": [
    "from sklearn.tree import export_graphviz\n",
    "import graphviz\n",
    "\n",
    "dot_data = export_graphviz(arbol, out_file=None, feature_names=['Age', 'Sex'], class_names=['Forced labour', 'Sexual exploitation', 'Other forms of exploitation'], filled=True, rounded=True, special_characters=True)\n",
    "graph = graphviz.Source(dot_data)\n",
    "graph.render(\"arbol\")  # Esto creará un archivo \"arbol.pdf\" en el directorio actual\n",
    "graph.view(\"arbol\")    # Esto abrirá la representación gráfica del árbol en un visor PDF"
   ]
  },
  {
   "cell_type": "markdown",
   "metadata": {},
   "source": [
    "Se prueba bajo el criterio del coeficiente de Gini si es posible mejorar la predición. De todas formas la precisión es similar."
   ]
  },
  {
   "cell_type": "code",
   "execution_count": 14,
   "metadata": {},
   "outputs": [
    {
     "name": "stdout",
     "output_type": "stream",
     "text": [
      "La precisión del modelo es: 0.3233601841196778\n",
      "|--- Sex <= 0.50\n",
      "|   |--- Age <= 0.50\n",
      "|   |   |--- class: Forced labour\n",
      "|   |--- Age >  0.50\n",
      "|   |   |--- class: Sexual exploitation\n",
      "|--- Sex >  0.50\n",
      "|   |--- Age <= 0.50\n",
      "|   |   |--- class: Other forms of exploitation\n",
      "|   |--- Age >  0.50\n",
      "|   |   |--- class: Other forms of exploitation\n",
      "\n"
     ]
    }
   ],
   "source": [
    "from sklearn.tree import DecisionTreeClassifier\n",
    "y = df_arbol.iloc[:,0]\n",
    "x = df_arbol.iloc[:,1:]\n",
    "from sklearn.model_selection import train_test_split\n",
    "x_train, x_test, y_train, y_test = train_test_split(x, y, test_size=0.2)\n",
    "\n",
    "\n",
    "arbol_gini = DecisionTreeClassifier(criterion='gini', max_depth=5)\n",
    "arbol_gini.fit(x_train, y_train)\n",
    "prediccion = arbol_gini.predict(x_test)\n",
    "\n",
    "from sklearn.metrics import accuracy_score\n",
    "print(f'La precisión del modelo es: {accuracy_score(y_test, prediccion)}')\n",
    "from sklearn import tree\n",
    "print(tree.export_text(arbol_gini, feature_names=['Age', 'Sex'], class_names=['Forced labour', 'Sexual exploitation', 'Other forms of exploitation']))"
   ]
  },
  {
   "cell_type": "markdown",
   "metadata": {},
   "source": [
    "Se imprime el gráfico de arbol (arbol2.pdf)."
   ]
  },
  {
   "cell_type": "code",
   "execution_count": 16,
   "metadata": {},
   "outputs": [
    {
     "data": {
      "text/plain": [
       "'arbol2.pdf'"
      ]
     },
     "execution_count": 16,
     "metadata": {},
     "output_type": "execute_result"
    }
   ],
   "source": [
    "\n",
    "from sklearn.tree import export_graphviz\n",
    "import graphviz\n",
    "\n",
    "dot_data = export_graphviz(arbol_gini, out_file=None, feature_names=['Age', 'Sex'], class_names=['Forced labour', 'Sexual exploitation', 'Other forms of exploitation'], filled=True, rounded=True, special_characters=True)\n",
    "graph = graphviz.Source(dot_data)\n",
    "graph.render(\"arbol2\")  # Esto creará un archivo \"arbol.pdf\" en el directorio actual\n",
    "graph.view(\"arbol2\")    # Esto abrirá la representación gráfica del árbol en un visor PDF"
   ]
  },
  {
   "cell_type": "markdown",
   "metadata": {},
   "source": [
    "#### Conclusión Breve\n",
    "Del árbol de decisión se puede clasificar que las mujeres menores corren más riesgo de sufrir explotación laboral, en el caso de mayores de edad explotación sexual (entropía). Igual situación para lo analizado bajo Gini. En el caso de los varones menores se clasifica como explotación laboral y para mayores en otras formas de explotación por entropía. Igual consideración para Gini.\n",
    "En ambos casos la precisión no es la esperada por lo que deberá trabajarse con los obtenidos."
   ]
  }
 ],
 "metadata": {
  "kernelspec": {
   "display_name": "Python 3",
   "language": "python",
   "name": "python3"
  },
  "language_info": {
   "codemirror_mode": {
    "name": "ipython",
    "version": 3
   },
   "file_extension": ".py",
   "mimetype": "text/x-python",
   "name": "python",
   "nbconvert_exporter": "python",
   "pygments_lexer": "ipython3",
   "version": "3.10.4"
  }
 },
 "nbformat": 4,
 "nbformat_minor": 2
}
